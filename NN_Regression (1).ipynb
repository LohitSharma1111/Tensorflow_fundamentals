{
  "cells": [
    {
      "cell_type": "code",
      "execution_count": null,
      "metadata": {
        "colab": {
          "base_uri": "https://localhost:8080/"
        },
        "id": "cvm_6HQsGsSk",
        "outputId": "8d2dcfad-32ac-444b-adda-ce58a032ddd9"
      },
      "outputs": [
        {
          "output_type": "stream",
          "name": "stdout",
          "text": [
            "Mounted at /content/drive\n"
          ]
        }
      ],
      "source": [
        "from google.colab import drive\n",
        "drive.mount('/content/drive')"
      ]
    },
    {
      "cell_type": "markdown",
      "metadata": {
        "id": "togwoa84TiSM"
      },
      "source": [
        "**Regression in neural networks with Tensorflow**"
      ]
    },
    {
      "cell_type": "code",
      "execution_count": null,
      "metadata": {
        "id": "AoSg5zwgThUe"
      },
      "outputs": [],
      "source": [
        "import tensorflow as tf\n",
        "import matplotlib.pyplot as plt\n",
        "import numpy as np\n"
      ]
    },
    {
      "cell_type": "code",
      "execution_count": null,
      "metadata": {
        "id": "DSP7-khKTuVx"
      },
      "outputs": [],
      "source": [
        "X = np.array([-6.0,-4.0,-3.0,-2.0,1.0,2.0,3.0])\n",
        "y = np.array([-1.0,1.0,2.0,3.0,6.0,7.0,8.0])"
      ]
    },
    {
      "cell_type": "code",
      "execution_count": null,
      "metadata": {
        "colab": {
          "base_uri": "https://localhost:8080/"
        },
        "id": "51AaDq_GUsdm",
        "outputId": "8d8fa3db-f57b-43e6-8c46-06519215e6f4"
      },
      "outputs": [
        {
          "output_type": "execute_result",
          "data": {
            "text/plain": [
              "array([ True,  True,  True,  True,  True,  True,  True])"
            ]
          },
          "metadata": {},
          "execution_count": 4
        }
      ],
      "source": [
        "y==X+5 #the relation between X & y"
      ]
    },
    {
      "cell_type": "markdown",
      "metadata": {
        "id": "ApNsiKtKWqtY"
      },
      "source": [
        "**Input & Output shapes**"
      ]
    },
    {
      "cell_type": "code",
      "execution_count": null,
      "metadata": {
        "colab": {
          "base_uri": "https://localhost:8080/"
        },
        "id": "C1kW1yxFWwfY",
        "outputId": "9bf17084-60b7-41e4-d125-5bc1ead4a1b6"
      },
      "outputs": [
        {
          "output_type": "execute_result",
          "data": {
            "text/plain": [
              "(<tf.Tensor: shape=(3,), dtype=string, numpy=array([b'Haul', b'Bedroom', b'kitchen'], dtype=object)>,\n",
              " <tf.Tensor: shape=(1,), dtype=int32, numpy=array([1200000], dtype=int32)>)"
            ]
          },
          "metadata": {},
          "execution_count": 5
        }
      ],
      "source": [
        "house_info = tf.constant([\"Haul\",\"Bedroom\",\"kitchen\"]) #input shape is 3 and the output shape is 1\n",
        "house_price =tf.constant([1200000])\n",
        "house_info,house_price"
      ]
    },
    {
      "cell_type": "code",
      "execution_count": null,
      "metadata": {
        "colab": {
          "base_uri": "https://localhost:8080/"
        },
        "id": "H2hSyHGGXFG9",
        "outputId": "30a993e9-6635-43e2-d695-c758a3b5c9bd"
      },
      "outputs": [
        {
          "output_type": "execute_result",
          "data": {
            "text/plain": [
              "((7,), (7,))"
            ]
          },
          "metadata": {},
          "execution_count": 6
        }
      ],
      "source": [
        "input_shape = X.shape\n",
        "output_shape = y.shape\n",
        "input_shape,output_shape\n"
      ]
    },
    {
      "cell_type": "code",
      "execution_count": null,
      "metadata": {
        "colab": {
          "base_uri": "https://localhost:8080/"
        },
        "id": "LAm5wjBaXVUI",
        "outputId": "1015b181-cbb4-4923-bd94-7d5b380cc595"
      },
      "outputs": [
        {
          "output_type": "execute_result",
          "data": {
            "text/plain": [
              "(-6.0, -1.0)"
            ]
          },
          "metadata": {},
          "execution_count": 7
        }
      ],
      "source": [
        "\n",
        "\n",
        "\n",
        "X[0],y[0]"
      ]
    },
    {
      "cell_type": "code",
      "execution_count": null,
      "metadata": {
        "id": "g457GKuIYFfm"
      },
      "outputs": [],
      "source": [
        "#turn np to tensor\n",
        "X = tf.constant(X)\n",
        "y= tf.constant(y)"
      ]
    },
    {
      "cell_type": "code",
      "execution_count": null,
      "metadata": {
        "colab": {
          "base_uri": "https://localhost:8080/"
        },
        "id": "R9vXK-T-b9Tg",
        "outputId": "4c6b3750-9e67-4a6a-e75e-411aceb707ad"
      },
      "outputs": [
        {
          "output_type": "execute_result",
          "data": {
            "text/plain": [
              "(TensorShape([]), TensorShape([]))"
            ]
          },
          "metadata": {},
          "execution_count": 9
        }
      ],
      "source": [
        "#uusing one input valut to predict one output value\n",
        "input_shape = X[0].shape\n",
        "output_shape = y[0].shape\n",
        "input_shape,output_shape"
      ]
    },
    {
      "cell_type": "code",
      "execution_count": null,
      "metadata": {
        "colab": {
          "base_uri": "https://localhost:8080/",
          "height": 447
        },
        "id": "-SDAgT9ncPiW",
        "outputId": "11a89426-2da0-415f-c96d-3961cf9ff61d"
      },
      "outputs": [
        {
          "output_type": "execute_result",
          "data": {
            "text/plain": [
              "<matplotlib.collections.PathCollection at 0x795c23679810>"
            ]
          },
          "metadata": {},
          "execution_count": 10
        },
        {
          "output_type": "display_data",
          "data": {
            "text/plain": [
              "<Figure size 640x480 with 1 Axes>"
            ],
            "image/png": "[encoded data removed]"
          },
          "metadata": {}
        }
      ],
      "source": [
        "plt.scatter(X,y)"
      ]
    },
    {
      "cell_type": "markdown",
      "metadata": {
        "id": "LmCI8_17cbrM"
      },
      "source": [
        "**Creating a model**"
      ]
    },
    {
      "cell_type": "markdown",
      "metadata": {
        "id": "iw-DYc6KcqKb"
      },
      "source": [
        "* create a model input shape output shape and the hidden layers\n",
        "\n",
        "* compile the model (loss - how wrong the model is )\n",
        "\n",
        "* and optimize it with optimizer (Adam or SGD) To improve the model performance\n",
        "\n",
        "* fit the model to find the patterns in X and y"
      ]
    },
    {
      "cell_type": "markdown",
      "metadata": {
        "id": "CjBnTLT14VPA"
      },
      "source": [
        "**Neural Network on a Small Data**"
      ]
    },
    {
      "cell_type": "code",
      "execution_count": null,
      "metadata": {
        "colab": {
          "base_uri": "https://localhost:8080/"
        },
        "id": "GEEkjjKmcn5f",
        "outputId": "acc26d37-cc34-4be4-f02b-df7fbfd0ac5b"
      },
      "outputs": [
        {
          "output_type": "stream",
          "name": "stdout",
          "text": [
            "Epoch 1/100\n",
            "1/1 [==============================] - 1s 823ms/step - loss: 4.0527 - mae: 4.0527\n",
            "Epoch 2/100\n",
            "1/1 [==============================] - 0s 10ms/step - loss: 4.0254 - mae: 4.0254\n",
            "Epoch 3/100\n",
            "1/1 [==============================] - 0s 12ms/step - loss: 3.9985 - mae: 3.9985\n",
            "Epoch 4/100\n",
            "1/1 [==============================] - 0s 11ms/step - loss: 3.9728 - mae: 3.9728\n",
            "Epoch 5/100\n",
            "1/1 [==============================] - 0s 11ms/step - loss: 3.9482 - mae: 3.9482\n",
            "Epoch 6/100\n",
            "1/1 [==============================] - 0s 11ms/step - loss: 3.9255 - mae: 3.9255\n",
            "Epoch 7/100\n",
            "1/1 [==============================] - 0s 12ms/step - loss: 3.9038 - mae: 3.9038\n",
            "Epoch 8/100\n",
            "1/1 [==============================] - 0s 10ms/step - loss: 3.8828 - mae: 3.8828\n",
            "Epoch 9/100\n",
            "1/1 [==============================] - 0s 13ms/step - loss: 3.8612 - mae: 3.8612\n",
            "Epoch 10/100\n",
            "1/1 [==============================] - 0s 15ms/step - loss: 3.8391 - mae: 3.8391\n",
            "Epoch 11/100\n",
            "1/1 [==============================] - 0s 13ms/step - loss: 3.8175 - mae: 3.8175\n",
            "Epoch 12/100\n",
            "1/1 [==============================] - 0s 14ms/step - loss: 3.7958 - mae: 3.7958\n",
            "Epoch 13/100\n",
            "1/1 [==============================] - 0s 11ms/step - loss: 3.7734 - mae: 3.7734\n",
            "Epoch 14/100\n",
            "1/1 [==============================] - 0s 12ms/step - loss: 3.7509 - mae: 3.7509\n",
            "Epoch 15/100\n",
            "1/1 [==============================] - 0s 9ms/step - loss: 3.7285 - mae: 3.7285\n",
            "Epoch 16/100\n",
            "1/1 [==============================] - 0s 11ms/step - loss: 3.7052 - mae: 3.7052\n",
            "Epoch 17/100\n",
            "1/1 [==============================] - 0s 11ms/step - loss: 3.6816 - mae: 3.6816\n",
            "Epoch 18/100\n",
            "1/1 [==============================] - 0s 11ms/step - loss: 3.6576 - mae: 3.6576\n",
            "Epoch 19/100\n",
            "1/1 [==============================] - 0s 9ms/step - loss: 3.6332 - mae: 3.6332\n",
            "Epoch 20/100\n",
            "1/1 [==============================] - 0s 11ms/step - loss: 3.6083 - mae: 3.6083\n",
            "Epoch 21/100\n",
            "1/1 [==============================] - 0s 11ms/step - loss: 3.5828 - mae: 3.5828\n",
            "Epoch 22/100\n",
            "1/1 [==============================] - 0s 11ms/step - loss: 3.5568 - mae: 3.5568\n",
            "Epoch 23/100\n",
            "1/1 [==============================] - 0s 12ms/step - loss: 3.5303 - mae: 3.5303\n",
            "Epoch 24/100\n",
            "1/1 [==============================] - 0s 11ms/step - loss: 3.5030 - mae: 3.5030\n",
            "Epoch 25/100\n",
            "1/1 [==============================] - 0s 10ms/step - loss: 3.4747 - mae: 3.4747\n",
            "Epoch 26/100\n",
            "1/1 [==============================] - 0s 13ms/step - loss: 3.4454 - mae: 3.4454\n",
            "Epoch 27/100\n",
            "1/1 [==============================] - 0s 15ms/step - loss: 3.4149 - mae: 3.4149\n",
            "Epoch 28/100\n",
            "1/1 [==============================] - 0s 12ms/step - loss: 3.3834 - mae: 3.3834\n",
            "Epoch 29/100\n",
            "1/1 [==============================] - 0s 10ms/step - loss: 3.3510 - mae: 3.3510\n",
            "Epoch 30/100\n",
            "1/1 [==============================] - 0s 11ms/step - loss: 3.3166 - mae: 3.3166\n",
            "Epoch 31/100\n",
            "1/1 [==============================] - 0s 15ms/step - loss: 3.2848 - mae: 3.2848\n",
            "Epoch 32/100\n",
            "1/1 [==============================] - 0s 10ms/step - loss: 3.2587 - mae: 3.2587\n",
            "Epoch 33/100\n",
            "1/1 [==============================] - 0s 11ms/step - loss: 3.2341 - mae: 3.2341\n",
            "Epoch 34/100\n",
            "1/1 [==============================] - 0s 10ms/step - loss: 3.2041 - mae: 3.2041\n",
            "Epoch 35/100\n",
            "1/1 [==============================] - 0s 10ms/step - loss: 3.1745 - mae: 3.1745\n",
            "Epoch 36/100\n",
            "1/1 [==============================] - 0s 14ms/step - loss: 3.1469 - mae: 3.1469\n",
            "Epoch 37/100\n",
            "1/1 [==============================] - 0s 11ms/step - loss: 3.1177 - mae: 3.1177\n",
            "Epoch 38/100\n",
            "1/1 [==============================] - 0s 10ms/step - loss: 3.0842 - mae: 3.0842\n",
            "Epoch 39/100\n",
            "1/1 [==============================] - 0s 12ms/step - loss: 3.0498 - mae: 3.0498\n",
            "Epoch 40/100\n",
            "1/1 [==============================] - 0s 16ms/step - loss: 3.0141 - mae: 3.0141\n",
            "Epoch 41/100\n",
            "1/1 [==============================] - 0s 13ms/step - loss: 2.9767 - mae: 2.9767\n",
            "Epoch 42/100\n",
            "1/1 [==============================] - 0s 11ms/step - loss: 2.9375 - mae: 2.9375\n",
            "Epoch 43/100\n",
            "1/1 [==============================] - 0s 11ms/step - loss: 2.8971 - mae: 2.8971\n",
            "Epoch 44/100\n",
            "1/1 [==============================] - 0s 12ms/step - loss: 2.8498 - mae: 2.8498\n",
            "Epoch 45/100\n",
            "1/1 [==============================] - 0s 13ms/step - loss: 2.7997 - mae: 2.7997\n",
            "Epoch 46/100\n",
            "1/1 [==============================] - 0s 11ms/step - loss: 2.7473 - mae: 2.7473\n",
            "Epoch 47/100\n",
            "1/1 [==============================] - 0s 10ms/step - loss: 2.6900 - mae: 2.6900\n",
            "Epoch 48/100\n",
            "1/1 [==============================] - 0s 11ms/step - loss: 2.6294 - mae: 2.6294\n",
            "Epoch 49/100\n",
            "1/1 [==============================] - 0s 11ms/step - loss: 2.5651 - mae: 2.5651\n",
            "Epoch 50/100\n",
            "1/1 [==============================] - 0s 11ms/step - loss: 2.4959 - mae: 2.4959\n",
            "Epoch 51/100\n",
            "1/1 [==============================] - 0s 10ms/step - loss: 2.4209 - mae: 2.4209\n",
            "Epoch 52/100\n",
            "1/1 [==============================] - 0s 11ms/step - loss: 2.3402 - mae: 2.3402\n",
            "Epoch 53/100\n",
            "1/1 [==============================] - 0s 11ms/step - loss: 2.2528 - mae: 2.2528\n",
            "Epoch 54/100\n",
            "1/1 [==============================] - 0s 13ms/step - loss: 2.1588 - mae: 2.1588\n",
            "Epoch 55/100\n",
            "1/1 [==============================] - 0s 11ms/step - loss: 2.0556 - mae: 2.0556\n",
            "Epoch 56/100\n",
            "1/1 [==============================] - 0s 11ms/step - loss: 1.9427 - mae: 1.9427\n",
            "Epoch 57/100\n",
            "1/1 [==============================] - 0s 12ms/step - loss: 1.8185 - mae: 1.8185\n",
            "Epoch 58/100\n",
            "1/1 [==============================] - 0s 12ms/step - loss: 1.6808 - mae: 1.6808\n",
            "Epoch 59/100\n",
            "1/1 [==============================] - 0s 10ms/step - loss: 1.5264 - mae: 1.5264\n",
            "Epoch 60/100\n",
            "1/1 [==============================] - 0s 13ms/step - loss: 1.3549 - mae: 1.3549\n",
            "Epoch 61/100\n",
            "1/1 [==============================] - 0s 10ms/step - loss: 1.1732 - mae: 1.1732\n",
            "Epoch 62/100\n",
            "1/1 [==============================] - 0s 11ms/step - loss: 1.1602 - mae: 1.1602\n",
            "Epoch 63/100\n",
            "1/1 [==============================] - 0s 11ms/step - loss: 1.1488 - mae: 1.1488\n",
            "Epoch 64/100\n",
            "1/1 [==============================] - 0s 11ms/step - loss: 1.1377 - mae: 1.1377\n",
            "Epoch 65/100\n",
            "1/1 [==============================] - 0s 11ms/step - loss: 1.1382 - mae: 1.1382\n",
            "Epoch 66/100\n",
            "1/1 [==============================] - 0s 12ms/step - loss: 1.1389 - mae: 1.1389\n",
            "Epoch 67/100\n",
            "1/1 [==============================] - 0s 13ms/step - loss: 1.1165 - mae: 1.1165\n",
            "Epoch 68/100\n",
            "1/1 [==============================] - 0s 10ms/step - loss: 1.1102 - mae: 1.1102\n",
            "Epoch 69/100\n",
            "1/1 [==============================] - 0s 11ms/step - loss: 1.1169 - mae: 1.1169\n",
            "Epoch 70/100\n",
            "1/1 [==============================] - 0s 11ms/step - loss: 1.0927 - mae: 1.0927\n",
            "Epoch 71/100\n",
            "1/1 [==============================] - 0s 12ms/step - loss: 1.0811 - mae: 1.0811\n",
            "Epoch 72/100\n",
            "1/1 [==============================] - 0s 10ms/step - loss: 1.0897 - mae: 1.0897\n",
            "Epoch 73/100\n",
            "1/1 [==============================] - 0s 10ms/step - loss: 1.0644 - mae: 1.0644\n",
            "Epoch 74/100\n",
            "1/1 [==============================] - 0s 10ms/step - loss: 1.0610 - mae: 1.0610\n",
            "Epoch 75/100\n",
            "1/1 [==============================] - 0s 13ms/step - loss: 1.0635 - mae: 1.0635\n",
            "Epoch 76/100\n",
            "1/1 [==============================] - 0s 13ms/step - loss: 1.0361 - mae: 1.0361\n",
            "Epoch 77/100\n",
            "1/1 [==============================] - 0s 13ms/step - loss: 1.0327 - mae: 1.0327\n",
            "Epoch 78/100\n",
            "1/1 [==============================] - 0s 11ms/step - loss: 1.0377 - mae: 1.0377\n",
            "Epoch 79/100\n",
            "1/1 [==============================] - 0s 10ms/step - loss: 1.0093 - mae: 1.0093\n",
            "Epoch 80/100\n",
            "1/1 [==============================] - 0s 16ms/step - loss: 1.0041 - mae: 1.0041\n",
            "Epoch 81/100\n",
            "1/1 [==============================] - 0s 11ms/step - loss: 1.0132 - mae: 1.0132\n",
            "Epoch 82/100\n",
            "1/1 [==============================] - 0s 10ms/step - loss: 0.9835 - mae: 0.9835\n",
            "Epoch 83/100\n",
            "1/1 [==============================] - 0s 9ms/step - loss: 0.9733 - mae: 0.9733\n",
            "Epoch 84/100\n",
            "1/1 [==============================] - 0s 10ms/step - loss: 0.9841 - mae: 0.9841\n",
            "Epoch 85/100\n",
            "1/1 [==============================] - 0s 10ms/step - loss: 0.9533 - mae: 0.9533\n",
            "Epoch 86/100\n",
            "1/1 [==============================] - 0s 10ms/step - loss: 0.9517 - mae: 0.9517\n",
            "Epoch 87/100\n",
            "1/1 [==============================] - 0s 10ms/step - loss: 0.9674 - mae: 0.9674\n",
            "Epoch 88/100\n",
            "1/1 [==============================] - 0s 13ms/step - loss: 0.9385 - mae: 0.9385\n",
            "Epoch 89/100\n",
            "1/1 [==============================] - 0s 10ms/step - loss: 0.9353 - mae: 0.9353\n",
            "Epoch 90/100\n",
            "1/1 [==============================] - 0s 13ms/step - loss: 0.9422 - mae: 0.9422\n",
            "Epoch 91/100\n",
            "1/1 [==============================] - 0s 11ms/step - loss: 0.9101 - mae: 0.9101\n",
            "Epoch 92/100\n",
            "1/1 [==============================] - 0s 11ms/step - loss: 0.9020 - mae: 0.9020\n",
            "Epoch 93/100\n",
            "1/1 [==============================] - 0s 11ms/step - loss: 0.9480 - mae: 0.9480\n",
            "Epoch 94/100\n",
            "1/1 [==============================] - 0s 11ms/step - loss: 0.8931 - mae: 0.8931\n",
            "Epoch 95/100\n",
            "1/1 [==============================] - 0s 11ms/step - loss: 0.8979 - mae: 0.8979\n",
            "Epoch 96/100\n",
            "1/1 [==============================] - 0s 11ms/step - loss: 0.8964 - mae: 0.8964\n",
            "Epoch 97/100\n",
            "1/1 [==============================] - 0s 15ms/step - loss: 0.8639 - mae: 0.8639\n",
            "Epoch 98/100\n",
            "1/1 [==============================] - 0s 11ms/step - loss: 0.8604 - mae: 0.8604\n",
            "Epoch 99/100\n",
            "1/1 [==============================] - 0s 10ms/step - loss: 0.8999 - mae: 0.8999\n",
            "Epoch 100/100\n",
            "1/1 [==============================] - 0s 10ms/step - loss: 0.8463 - mae: 0.8463\n"
          ]
        },
        {
          "output_type": "execute_result",
          "data": {
            "text/plain": [
              "<keras.src.callbacks.History at 0x795c20377fd0>"
            ]
          },
          "metadata": {},
          "execution_count": 11
        }
      ],
      "source": [
        "#create a model with one val\n",
        "model = tf.keras.Sequential([tf.keras.layers.Dense(90,activation=\"relu\"),\n",
        "                            tf.keras.layers.Dense(90,activation =\"relu\"),\n",
        "                             tf.keras.layers.Dense(90,activation=\"relu\"),\n",
        "                             tf.keras.layers.Dense(90,activation =\"relu\"),\n",
        "                              tf.keras.layers.Dense(1)])\n",
        "#compile\n",
        "model.compile(loss=tf.keras.losses.mae,\n",
        "              optimizer = tf.keras.optimizers.SGD(),\n",
        "              metrics = [\"mae\"])\n",
        "#model.fit(X,y,epochs=100)\n",
        "model.fit(tf.expand_dims(X, axis=-1), y, epochs=100)"
      ]
    },
    {
      "cell_type": "code",
      "execution_count": null,
      "metadata": {
        "colab": {
          "base_uri": "https://localhost:8080/"
        },
        "id": "AyNkXhLRegNG",
        "outputId": "6a94aaf5-82cc-4fda-fba4-a25462ffad0b"
      },
      "outputs": [
        {
          "output_type": "execute_result",
          "data": {
            "text/plain": [
              "(<tf.Tensor: shape=(7,), dtype=float64, numpy=array([-6., -4., -3., -2.,  1.,  2.,  3.])>,\n",
              " <tf.Tensor: shape=(7,), dtype=float64, numpy=array([-1.,  1.,  2.,  3.,  6.,  7.,  8.])>)"
            ]
          },
          "metadata": {},
          "execution_count": 12
        }
      ],
      "source": [
        "X,y"
      ]
    },
    {
      "cell_type": "code",
      "execution_count": null,
      "metadata": {
        "colab": {
          "base_uri": "https://localhost:8080/"
        },
        "id": "_H0OmEvfnoiF",
        "outputId": "c5e6eedd-e627-4974-f174-786815f4dabe"
      },
      "outputs": [
        {
          "output_type": "stream",
          "name": "stdout",
          "text": [
            "1/1 [==============================] - 0s 130ms/step\n"
          ]
        },
        {
          "output_type": "execute_result",
          "data": {
            "text/plain": [
              "array([[14.935705]], dtype=float32)"
            ]
          },
          "metadata": {},
          "execution_count": 13
        }
      ],
      "source": [
        "\n",
        "#try and make prediction with the trained model\n",
        "y_pred=model.predict([6.0])\n",
        "y_pred"
      ]
    },
    {
      "cell_type": "code",
      "execution_count": null,
      "metadata": {
        "id": "U7votpwmntkN"
      },
      "outputs": [],
      "source": [
        "model2 = tf.keras.Sequential([tf.keras.layers.Dense(50,activation=\"relu\"),\n",
        "                            #  tf.keras.layers.Dense(20,activation=\"relu\"),\n",
        "                               tf.keras.layers.Dense(1)])\n",
        "model2.compile(loss = tf.keras.losses.mae,\n",
        "               optimizer = tf.keras.optimizers.Adam(learning_rate=0.01),\n",
        "               metrics = \"mae\"\n",
        "    )"
      ]
    },
    {
      "cell_type": "markdown",
      "metadata": {
        "id": "Zc7g5fNzOPhu"
      },
      "source": [
        "* Changing Learning rate will be the most important metric"
      ]
    },
    {
      "cell_type": "code",
      "execution_count": null,
      "metadata": {
        "colab": {
          "base_uri": "https://localhost:8080/"
        },
        "id": "dDVEThJIogzL",
        "outputId": "708440e8-22eb-4a52-a279-95e455cabdc7"
      },
      "outputs": [
        {
          "output_type": "stream",
          "name": "stdout",
          "text": [
            "Epoch 1/150\n",
            "1/1 [==============================] - 1s 1s/step - loss: 3.9693 - mae: 3.9693\n",
            "Epoch 2/150\n",
            "1/1 [==============================] - 0s 9ms/step - loss: 3.8361 - mae: 3.8361\n",
            "Epoch 3/150\n",
            "1/1 [==============================] - 0s 12ms/step - loss: 3.7893 - mae: 3.7893\n",
            "Epoch 4/150\n",
            "1/1 [==============================] - 0s 16ms/step - loss: 3.7130 - mae: 3.7130\n",
            "Epoch 5/150\n",
            "1/1 [==============================] - 0s 11ms/step - loss: 3.6125 - mae: 3.6125\n",
            "Epoch 6/150\n",
            "1/1 [==============================] - 0s 14ms/step - loss: 3.4994 - mae: 3.4994\n",
            "Epoch 7/150\n",
            "1/1 [==============================] - 0s 14ms/step - loss: 3.4175 - mae: 3.4175\n",
            "Epoch 8/150\n",
            "1/1 [==============================] - 0s 38ms/step - loss: 3.3469 - mae: 3.3469\n",
            "Epoch 9/150\n",
            "1/1 [==============================] - 0s 23ms/step - loss: 3.2684 - mae: 3.2684\n",
            "Epoch 10/150\n",
            "1/1 [==============================] - 0s 43ms/step - loss: 3.1820 - mae: 3.1820\n",
            "Epoch 11/150\n",
            "1/1 [==============================] - 0s 45ms/step - loss: 3.0872 - mae: 3.0872\n",
            "Epoch 12/150\n",
            "1/1 [==============================] - 0s 28ms/step - loss: 2.9841 - mae: 2.9841\n",
            "Epoch 13/150\n",
            "1/1 [==============================] - 0s 40ms/step - loss: 2.8787 - mae: 2.8787\n",
            "Epoch 14/150\n",
            "1/1 [==============================] - 0s 26ms/step - loss: 2.7870 - mae: 2.7870\n",
            "Epoch 15/150\n",
            "1/1 [==============================] - 0s 26ms/step - loss: 2.6797 - mae: 2.6797\n",
            "Epoch 16/150\n",
            "1/1 [==============================] - 0s 25ms/step - loss: 2.5607 - mae: 2.5607\n",
            "Epoch 17/150\n",
            "1/1 [==============================] - 0s 30ms/step - loss: 2.4476 - mae: 2.4476\n",
            "Epoch 18/150\n",
            "1/1 [==============================] - 0s 33ms/step - loss: 2.3236 - mae: 2.3236\n",
            "Epoch 19/150\n",
            "1/1 [==============================] - 0s 27ms/step - loss: 2.2023 - mae: 2.2023\n",
            "Epoch 20/150\n",
            "1/1 [==============================] - 0s 29ms/step - loss: 2.0682 - mae: 2.0682\n",
            "Epoch 21/150\n",
            "1/1 [==============================] - 0s 22ms/step - loss: 1.9308 - mae: 1.9308\n",
            "Epoch 22/150\n",
            "1/1 [==============================] - 0s 25ms/step - loss: 1.7891 - mae: 1.7891\n",
            "Epoch 23/150\n",
            "1/1 [==============================] - 0s 27ms/step - loss: 1.6359 - mae: 1.6359\n",
            "Epoch 24/150\n",
            "1/1 [==============================] - 0s 20ms/step - loss: 1.4802 - mae: 1.4802\n",
            "Epoch 25/150\n",
            "1/1 [==============================] - 0s 20ms/step - loss: 1.3159 - mae: 1.3159\n",
            "Epoch 26/150\n",
            "1/1 [==============================] - 0s 19ms/step - loss: 1.1390 - mae: 1.1390\n",
            "Epoch 27/150\n",
            "1/1 [==============================] - 0s 19ms/step - loss: 1.0646 - mae: 1.0646\n",
            "Epoch 28/150\n",
            "1/1 [==============================] - 0s 20ms/step - loss: 1.0250 - mae: 1.0250\n",
            "Epoch 29/150\n",
            "1/1 [==============================] - 0s 19ms/step - loss: 0.9977 - mae: 0.9977\n",
            "Epoch 30/150\n",
            "1/1 [==============================] - 0s 20ms/step - loss: 1.0444 - mae: 1.0444\n",
            "Epoch 31/150\n",
            "1/1 [==============================] - 0s 14ms/step - loss: 1.0879 - mae: 1.0879\n",
            "Epoch 32/150\n",
            "1/1 [==============================] - 0s 11ms/step - loss: 1.1095 - mae: 1.1095\n",
            "Epoch 33/150\n",
            "1/1 [==============================] - 0s 11ms/step - loss: 1.1094 - mae: 1.1094\n",
            "Epoch 34/150\n",
            "1/1 [==============================] - 0s 13ms/step - loss: 1.0978 - mae: 1.0978\n",
            "Epoch 35/150\n",
            "1/1 [==============================] - 0s 13ms/step - loss: 1.0817 - mae: 1.0817\n",
            "Epoch 36/150\n",
            "1/1 [==============================] - 0s 12ms/step - loss: 1.0468 - mae: 1.0468\n",
            "Epoch 37/150\n",
            "1/1 [==============================] - 0s 12ms/step - loss: 1.0217 - mae: 1.0217\n",
            "Epoch 38/150\n",
            "1/1 [==============================] - 0s 11ms/step - loss: 0.9817 - mae: 0.9817\n",
            "Epoch 39/150\n",
            "1/1 [==============================] - 0s 14ms/step - loss: 0.9277 - mae: 0.9277\n",
            "Epoch 40/150\n",
            "1/1 [==============================] - 0s 11ms/step - loss: 0.8645 - mae: 0.8645\n",
            "Epoch 41/150\n",
            "1/1 [==============================] - 0s 11ms/step - loss: 0.8038 - mae: 0.8038\n",
            "Epoch 42/150\n",
            "1/1 [==============================] - 0s 13ms/step - loss: 0.7476 - mae: 0.7476\n",
            "Epoch 43/150\n",
            "1/1 [==============================] - 0s 10ms/step - loss: 0.6769 - mae: 0.6769\n",
            "Epoch 44/150\n",
            "1/1 [==============================] - 0s 10ms/step - loss: 0.6105 - mae: 0.6105\n",
            "Epoch 45/150\n",
            "1/1 [==============================] - 0s 10ms/step - loss: 0.5917 - mae: 0.5917\n",
            "Epoch 46/150\n",
            "1/1 [==============================] - 0s 10ms/step - loss: 0.5578 - mae: 0.5578\n",
            "Epoch 47/150\n",
            "1/1 [==============================] - 0s 15ms/step - loss: 0.5445 - mae: 0.5445\n",
            "Epoch 48/150\n",
            "1/1 [==============================] - 0s 15ms/step - loss: 0.5168 - mae: 0.5168\n",
            "Epoch 49/150\n",
            "1/1 [==============================] - 0s 15ms/step - loss: 0.4755 - mae: 0.4755\n",
            "Epoch 50/150\n",
            "1/1 [==============================] - 0s 16ms/step - loss: 0.4218 - mae: 0.4218\n",
            "Epoch 51/150\n",
            "1/1 [==============================] - 0s 15ms/step - loss: 0.3836 - mae: 0.3836\n",
            "Epoch 52/150\n",
            "1/1 [==============================] - 0s 13ms/step - loss: 0.3365 - mae: 0.3365\n",
            "Epoch 53/150\n",
            "1/1 [==============================] - 0s 11ms/step - loss: 0.2873 - mae: 0.2873\n",
            "Epoch 54/150\n",
            "1/1 [==============================] - 0s 12ms/step - loss: 0.2393 - mae: 0.2393\n",
            "Epoch 55/150\n",
            "1/1 [==============================] - 0s 11ms/step - loss: 0.1811 - mae: 0.1811\n",
            "Epoch 56/150\n",
            "1/1 [==============================] - 0s 11ms/step - loss: 0.1313 - mae: 0.1313\n",
            "Epoch 57/150\n",
            "1/1 [==============================] - 0s 11ms/step - loss: 0.0943 - mae: 0.0943\n",
            "Epoch 58/150\n",
            "1/1 [==============================] - 0s 11ms/step - loss: 0.1772 - mae: 0.1772\n",
            "Epoch 59/150\n",
            "1/1 [==============================] - 0s 11ms/step - loss: 0.1580 - mae: 0.1580\n",
            "Epoch 60/150\n",
            "1/1 [==============================] - 0s 11ms/step - loss: 0.1708 - mae: 0.1708\n",
            "Epoch 61/150\n",
            "1/1 [==============================] - 0s 11ms/step - loss: 0.1591 - mae: 0.1591\n",
            "Epoch 62/150\n",
            "1/1 [==============================] - 0s 11ms/step - loss: 0.1478 - mae: 0.1478\n",
            "Epoch 63/150\n",
            "1/1 [==============================] - 0s 11ms/step - loss: 0.1580 - mae: 0.1580\n",
            "Epoch 64/150\n",
            "1/1 [==============================] - 0s 11ms/step - loss: 0.1772 - mae: 0.1772\n",
            "Epoch 65/150\n",
            "1/1 [==============================] - 0s 11ms/step - loss: 0.1572 - mae: 0.1572\n",
            "Epoch 66/150\n",
            "1/1 [==============================] - 0s 11ms/step - loss: 0.1335 - mae: 0.1335\n",
            "Epoch 67/150\n",
            "1/1 [==============================] - 0s 10ms/step - loss: 0.1341 - mae: 0.1341\n",
            "Epoch 68/150\n",
            "1/1 [==============================] - 0s 10ms/step - loss: 0.1411 - mae: 0.1411\n",
            "Epoch 69/150\n",
            "1/1 [==============================] - 0s 12ms/step - loss: 0.0952 - mae: 0.0952\n",
            "Epoch 70/150\n",
            "1/1 [==============================] - 0s 11ms/step - loss: 0.1370 - mae: 0.1370\n",
            "Epoch 71/150\n",
            "1/1 [==============================] - 0s 11ms/step - loss: 0.1317 - mae: 0.1317\n",
            "Epoch 72/150\n",
            "1/1 [==============================] - 0s 14ms/step - loss: 0.0623 - mae: 0.0623\n",
            "Epoch 73/150\n",
            "1/1 [==============================] - 0s 12ms/step - loss: 0.1412 - mae: 0.1412\n",
            "Epoch 74/150\n",
            "1/1 [==============================] - 0s 11ms/step - loss: 0.0902 - mae: 0.0902\n",
            "Epoch 75/150\n",
            "1/1 [==============================] - 0s 11ms/step - loss: 0.0995 - mae: 0.0995\n",
            "Epoch 76/150\n",
            "1/1 [==============================] - 0s 11ms/step - loss: 0.1343 - mae: 0.1343\n",
            "Epoch 77/150\n",
            "1/1 [==============================] - 0s 11ms/step - loss: 0.0478 - mae: 0.0478\n",
            "Epoch 78/150\n",
            "1/1 [==============================] - 0s 11ms/step - loss: 0.1412 - mae: 0.1412\n",
            "Epoch 79/150\n",
            "1/1 [==============================] - 0s 11ms/step - loss: 0.1725 - mae: 0.1725\n",
            "Epoch 80/150\n",
            "1/1 [==============================] - 0s 11ms/step - loss: 0.0845 - mae: 0.0845\n",
            "Epoch 81/150\n",
            "1/1 [==============================] - 0s 12ms/step - loss: 0.1143 - mae: 0.1143\n",
            "Epoch 82/150\n",
            "1/1 [==============================] - 0s 11ms/step - loss: 0.1963 - mae: 0.1963\n",
            "Epoch 83/150\n",
            "1/1 [==============================] - 0s 11ms/step - loss: 0.1591 - mae: 0.1591\n",
            "Epoch 84/150\n",
            "1/1 [==============================] - 0s 11ms/step - loss: 0.0861 - mae: 0.0861\n",
            "Epoch 85/150\n",
            "1/1 [==============================] - 0s 16ms/step - loss: 0.0861 - mae: 0.0861\n",
            "Epoch 86/150\n",
            "1/1 [==============================] - 0s 14ms/step - loss: 0.1022 - mae: 0.1022\n",
            "Epoch 87/150\n",
            "1/1 [==============================] - 0s 11ms/step - loss: 0.1077 - mae: 0.1077\n",
            "Epoch 88/150\n",
            "1/1 [==============================] - 0s 12ms/step - loss: 0.0857 - mae: 0.0857\n",
            "Epoch 89/150\n",
            "1/1 [==============================] - 0s 11ms/step - loss: 0.0864 - mae: 0.0864\n",
            "Epoch 90/150\n",
            "1/1 [==============================] - 0s 11ms/step - loss: 0.0577 - mae: 0.0577\n",
            "Epoch 91/150\n",
            "1/1 [==============================] - 0s 11ms/step - loss: 0.1009 - mae: 0.1009\n",
            "Epoch 92/150\n",
            "1/1 [==============================] - 0s 12ms/step - loss: 0.1005 - mae: 0.1005\n",
            "Epoch 93/150\n",
            "1/1 [==============================] - 0s 11ms/step - loss: 0.0793 - mae: 0.0793\n",
            "Epoch 94/150\n",
            "1/1 [==============================] - 0s 14ms/step - loss: 0.0421 - mae: 0.0421\n",
            "Epoch 95/150\n",
            "1/1 [==============================] - 0s 11ms/step - loss: 0.0948 - mae: 0.0948\n",
            "Epoch 96/150\n",
            "1/1 [==============================] - 0s 15ms/step - loss: 0.0992 - mae: 0.0992\n",
            "Epoch 97/150\n",
            "1/1 [==============================] - 0s 11ms/step - loss: 0.0444 - mae: 0.0444\n",
            "Epoch 98/150\n",
            "1/1 [==============================] - 0s 11ms/step - loss: 0.0376 - mae: 0.0376\n",
            "Epoch 99/150\n",
            "1/1 [==============================] - 0s 11ms/step - loss: 0.1027 - mae: 0.1027\n",
            "Epoch 100/150\n",
            "1/1 [==============================] - 0s 11ms/step - loss: 0.1020 - mae: 0.1020\n",
            "Epoch 101/150\n",
            "1/1 [==============================] - 0s 11ms/step - loss: 0.0263 - mae: 0.0263\n",
            "Epoch 102/150\n",
            "1/1 [==============================] - 0s 10ms/step - loss: 0.0463 - mae: 0.0463\n",
            "Epoch 103/150\n",
            "1/1 [==============================] - 0s 11ms/step - loss: 0.0917 - mae: 0.0917\n",
            "Epoch 104/150\n",
            "1/1 [==============================] - 0s 11ms/step - loss: 0.0663 - mae: 0.0663\n",
            "Epoch 105/150\n",
            "1/1 [==============================] - 0s 11ms/step - loss: 0.0730 - mae: 0.0730\n",
            "Epoch 106/150\n",
            "1/1 [==============================] - 0s 13ms/step - loss: 0.1096 - mae: 0.1096\n",
            "Epoch 107/150\n",
            "1/1 [==============================] - 0s 14ms/step - loss: 0.0680 - mae: 0.0680\n",
            "Epoch 108/150\n",
            "1/1 [==============================] - 0s 10ms/step - loss: 0.1644 - mae: 0.1644\n",
            "Epoch 109/150\n",
            "1/1 [==============================] - 0s 11ms/step - loss: 0.1834 - mae: 0.1834\n",
            "Epoch 110/150\n",
            "1/1 [==============================] - 0s 10ms/step - loss: 0.1466 - mae: 0.1466\n",
            "Epoch 111/150\n",
            "1/1 [==============================] - 0s 11ms/step - loss: 0.0716 - mae: 0.0716\n",
            "Epoch 112/150\n",
            "1/1 [==============================] - 0s 11ms/step - loss: 0.1328 - mae: 0.1328\n",
            "Epoch 113/150\n",
            "1/1 [==============================] - 0s 16ms/step - loss: 0.1910 - mae: 0.1910\n",
            "Epoch 114/150\n",
            "1/1 [==============================] - 0s 11ms/step - loss: 0.1891 - mae: 0.1891\n",
            "Epoch 115/150\n",
            "1/1 [==============================] - 0s 10ms/step - loss: 0.1115 - mae: 0.1115\n",
            "Epoch 116/150\n",
            "1/1 [==============================] - 0s 11ms/step - loss: 0.0409 - mae: 0.0409\n",
            "Epoch 117/150\n",
            "1/1 [==============================] - 0s 11ms/step - loss: 0.0932 - mae: 0.0932\n",
            "Epoch 118/150\n",
            "1/1 [==============================] - 0s 11ms/step - loss: 0.0833 - mae: 0.0833\n",
            "Epoch 119/150\n",
            "1/1 [==============================] - 0s 10ms/step - loss: 0.0117 - mae: 0.0117\n",
            "Epoch 120/150\n",
            "1/1 [==============================] - 0s 10ms/step - loss: 0.0842 - mae: 0.0842\n",
            "Epoch 121/150\n",
            "1/1 [==============================] - 0s 11ms/step - loss: 0.0751 - mae: 0.0751\n",
            "Epoch 122/150\n",
            "1/1 [==============================] - 0s 11ms/step - loss: 0.0342 - mae: 0.0342\n",
            "Epoch 123/150\n",
            "1/1 [==============================] - 0s 13ms/step - loss: 0.0540 - mae: 0.0540\n",
            "Epoch 124/150\n",
            "1/1 [==============================] - 0s 10ms/step - loss: 0.0695 - mae: 0.0695\n",
            "Epoch 125/150\n",
            "1/1 [==============================] - 0s 10ms/step - loss: 0.0505 - mae: 0.0505\n",
            "Epoch 126/150\n",
            "1/1 [==============================] - 0s 10ms/step - loss: 0.0529 - mae: 0.0529\n",
            "Epoch 127/150\n",
            "1/1 [==============================] - 0s 10ms/step - loss: 0.0760 - mae: 0.0760\n",
            "Epoch 128/150\n",
            "1/1 [==============================] - 0s 10ms/step - loss: 0.0463 - mae: 0.0463\n",
            "Epoch 129/150\n",
            "1/1 [==============================] - 0s 11ms/step - loss: 0.0280 - mae: 0.0280\n",
            "Epoch 130/150\n",
            "1/1 [==============================] - 0s 10ms/step - loss: 0.0525 - mae: 0.0525\n",
            "Epoch 131/150\n",
            "1/1 [==============================] - 0s 11ms/step - loss: 0.0447 - mae: 0.0447\n",
            "Epoch 132/150\n",
            "1/1 [==============================] - 0s 11ms/step - loss: 0.0676 - mae: 0.0676\n",
            "Epoch 133/150\n",
            "1/1 [==============================] - 0s 11ms/step - loss: 0.0776 - mae: 0.0776\n",
            "Epoch 134/150\n",
            "1/1 [==============================] - 0s 11ms/step - loss: 0.0346 - mae: 0.0346\n",
            "Epoch 135/150\n",
            "1/1 [==============================] - 0s 11ms/step - loss: 0.1035 - mae: 0.1035\n",
            "Epoch 136/150\n",
            "1/1 [==============================] - 0s 11ms/step - loss: 0.1352 - mae: 0.1352\n",
            "Epoch 137/150\n",
            "1/1 [==============================] - 0s 12ms/step - loss: 0.1078 - mae: 0.1078\n",
            "Epoch 138/150\n",
            "1/1 [==============================] - 0s 12ms/step - loss: 0.0206 - mae: 0.0206\n",
            "Epoch 139/150\n",
            "1/1 [==============================] - 0s 11ms/step - loss: 0.1222 - mae: 0.1222\n",
            "Epoch 140/150\n",
            "1/1 [==============================] - 0s 11ms/step - loss: 0.1838 - mae: 0.1838\n",
            "Epoch 141/150\n",
            "1/1 [==============================] - 0s 11ms/step - loss: 0.1746 - mae: 0.1746\n",
            "Epoch 142/150\n",
            "1/1 [==============================] - 0s 11ms/step - loss: 0.1077 - mae: 0.1077\n",
            "Epoch 143/150\n",
            "1/1 [==============================] - 0s 12ms/step - loss: 0.0228 - mae: 0.0228\n",
            "Epoch 144/150\n",
            "1/1 [==============================] - 0s 20ms/step - loss: 0.0654 - mae: 0.0654\n",
            "Epoch 145/150\n",
            "1/1 [==============================] - 0s 12ms/step - loss: 0.0598 - mae: 0.0598\n",
            "Epoch 146/150\n",
            "1/1 [==============================] - 0s 12ms/step - loss: 0.0376 - mae: 0.0376\n",
            "Epoch 147/150\n",
            "1/1 [==============================] - 0s 13ms/step - loss: 0.0323 - mae: 0.0323\n",
            "Epoch 148/150\n",
            "1/1 [==============================] - 0s 12ms/step - loss: 0.0364 - mae: 0.0364\n",
            "Epoch 149/150\n",
            "1/1 [==============================] - 0s 10ms/step - loss: 0.0179 - mae: 0.0179\n",
            "Epoch 150/150\n",
            "1/1 [==============================] - 0s 17ms/step - loss: 0.0714 - mae: 0.0714\n"
          ]
        },
        {
          "output_type": "execute_result",
          "data": {
            "text/plain": [
              "<keras.src.callbacks.History at 0x795c0e925f90>"
            ]
          },
          "metadata": {},
          "execution_count": 15
        }
      ],
      "source": [
        "model2.fit(tf.expand_dims(X, axis=-1), y, epochs=150)"
      ]
    },
    {
      "cell_type": "code",
      "execution_count": null,
      "metadata": {
        "colab": {
          "base_uri": "https://localhost:8080/"
        },
        "id": "OokGpGNbdyFH",
        "outputId": "4878b408-97e9-4f74-eb07-3335587e523e"
      },
      "outputs": [
        {
          "output_type": "stream",
          "name": "stdout",
          "text": [
            "1/1 [==============================] - 0s 123ms/step\n"
          ]
        },
        {
          "output_type": "execute_result",
          "data": {
            "text/plain": [
              "array([[11.558909]], dtype=float32)"
            ]
          },
          "metadata": {},
          "execution_count": 16
        }
      ],
      "source": [
        "model2.predict([6.0])"
      ]
    },
    {
      "cell_type": "code",
      "execution_count": null,
      "metadata": {
        "colab": {
          "base_uri": "https://localhost:8080/"
        },
        "id": "ipkkMOamHLKy",
        "outputId": "0dacc6bb-a766-4b1a-e71d-93cf85475bf6"
      },
      "outputs": [
        {
          "output_type": "execute_result",
          "data": {
            "text/plain": [
              "<tf.Tensor: shape=(40,), dtype=int32, numpy=\n",
              "array([-100,  -95,  -90,  -85,  -80,  -75,  -70,  -65,  -60,  -55,  -50,\n",
              "        -45,  -40,  -35,  -30,  -25,  -20,  -15,  -10,   -5,    0,    5,\n",
              "         10,   15,   20,   25,   30,   35,   40,   45,   50,   55,   60,\n",
              "         65,   70,   75,   80,   85,   90,   95], dtype=int32)>"
            ]
          },
          "metadata": {},
          "execution_count": 17
        }
      ],
      "source": [
        "\n",
        "X = tf.range(-100,100,5)\n",
        "X"
      ]
    },
    {
      "cell_type": "code",
      "execution_count": null,
      "metadata": {
        "colab": {
          "base_uri": "https://localhost:8080/"
        },
        "id": "VBT_O8yDjZnZ",
        "outputId": "fe85d3e5-64a4-49b6-c5c8-bebae3c8ba2c"
      },
      "outputs": [
        {
          "output_type": "execute_result",
          "data": {
            "text/plain": [
              "<tf.Tensor: shape=(40,), dtype=int32, numpy=\n",
              "array([-95, -90, -85, -80, -75, -70, -65, -60, -55, -50, -45, -40, -35,\n",
              "       -30, -25, -20, -15, -10,  -5,   0,   5,  10,  15,  20,  25,  30,\n",
              "        35,  40,  45,  50,  55,  60,  65,  70,  75,  80,  85,  90,  95,\n",
              "       100], dtype=int32)>"
            ]
          },
          "metadata": {},
          "execution_count": 18
        }
      ],
      "source": [
        "y = X+5\n",
        "y"
      ]
    },
    {
      "cell_type": "code",
      "execution_count": null,
      "metadata": {
        "colab": {
          "base_uri": "https://localhost:8080/",
          "height": 447
        },
        "id": "ZkysWzzdjpMi",
        "outputId": "d238a281-7ee6-44f7-d829-e24b4c834606"
      },
      "outputs": [
        {
          "output_type": "execute_result",
          "data": {
            "text/plain": [
              "<matplotlib.collections.PathCollection at 0x795c10ea9810>"
            ]
          },
          "metadata": {},
          "execution_count": 19
        },
        {
          "output_type": "display_data",
          "data": {
            "text/plain": [
              "<Figure size 640x480 with 1 Axes>"
            ],
            "image/png": "[encoded data removed]"
          },
          "metadata": {}
        }
      ],
      "source": [
        "plt.scatter(X,y)"
      ]
    },
    {
      "cell_type": "code",
      "execution_count": null,
      "metadata": {
        "id": "4otStICPjyvR"
      },
      "outputs": [],
      "source": [
        "X_train = X[:30]\n",
        "y_train =y[:30]\n",
        "X_test = X[30:]\n",
        "y_test = y[30:]"
      ]
    },
    {
      "cell_type": "code",
      "execution_count": null,
      "metadata": {
        "colab": {
          "base_uri": "https://localhost:8080/"
        },
        "id": "t7SZ89kik0PD",
        "outputId": "a57489ef-22b7-45dd-fe88-18f17b5e9f28"
      },
      "outputs": [
        {
          "output_type": "execute_result",
          "data": {
            "text/plain": [
              "(30, 10, 30, 10)"
            ]
          },
          "metadata": {},
          "execution_count": 21
        }
      ],
      "source": [
        "len(X_train),len(X_test),len(y_train),len(y_test)"
      ]
    },
    {
      "cell_type": "code",
      "execution_count": null,
      "metadata": {
        "colab": {
          "base_uri": "https://localhost:8080/",
          "height": 462
        },
        "id": "I5P1GBYKk1V2",
        "outputId": "25c8eb69-09c5-4d76-c8fa-bb4b78e70b54"
      },
      "outputs": [
        {
          "output_type": "execute_result",
          "data": {
            "text/plain": [
              "<matplotlib.legend.Legend at 0x795c10d2f460>"
            ]
          },
          "metadata": {},
          "execution_count": 22
        },
        {
          "output_type": "display_data",
          "data": {
            "text/plain": [
              "<Figure size 500x500 with 1 Axes>"
            ],
            "image/png": "[encoded data removed]"
          },
          "metadata": {}
        }
      ],
      "source": [
        "plt.figure(figsize=(5,5))\n",
        "plt.scatter(X_train,y_train,c=\"b\",label=\"Train\")\n",
        "plt.scatter(X_test,y_test,c=\"r\",label=\"Test\");\n",
        "plt.legend()"
      ]
    },
    {
      "cell_type": "code",
      "execution_count": null,
      "metadata": {
        "id": "P6hou_ywl1XB"
      },
      "outputs": [],
      "source": [
        "model = tf.keras.Sequential([\n",
        "    tf.keras.layers.Dense(10,input_shape=[1],name=\"input\"),\n",
        "    tf.keras.layers.Dense(20,name=\"out_put\")\n",
        "    ])\n",
        "model.compile(loss=tf.keras.losses.mae,\n",
        "              optimizer = tf.keras.optimizers.SGD(),\n",
        "            metrics = [\"mae\"])"
      ]
    },
    {
      "cell_type": "code",
      "execution_count": null,
      "metadata": {
        "colab": {
          "base_uri": "https://localhost:8080/"
        },
        "id": "sJoxZa4PuqH9",
        "outputId": "aae355b1-19c2-4fa7-e681-d0f983eff2d7"
      },
      "outputs": [
        {
          "output_type": "stream",
          "name": "stdout",
          "text": [
            "Model: \"sequential_2\"\n",
            "_________________________________________________________________\n",
            " Layer (type)                Output Shape              Param #   \n",
            "=================================================================\n",
            " input (Dense)               (None, 10)                20        \n",
            "                                                                 \n",
            " out_put (Dense)             (None, 20)                220       \n",
            "                                                                 \n",
            "=================================================================\n",
            "Total params: 240 (960.00 Byte)\n",
            "Trainable params: 240 (960.00 Byte)\n",
            "Non-trainable params: 0 (0.00 Byte)\n",
            "_________________________________________________________________\n"
          ]
        }
      ],
      "source": [
        "model.summary()"
      ]
    },
    {
      "cell_type": "code",
      "execution_count": null,
      "metadata": {
        "colab": {
          "base_uri": "https://localhost:8080/"
        },
        "id": "8ocDB59LtGdd",
        "outputId": "6731a17d-80ac-4fe0-f247-ad98d86c1942"
      },
      "outputs": [
        {
          "output_type": "stream",
          "name": "stdout",
          "text": [
            "Epoch 1/150\n",
            "2/2 [==============================] - 1s 10ms/step - loss: 47.7153 - mae: 47.7153\n",
            "Epoch 2/150\n",
            "2/2 [==============================] - 0s 10ms/step - loss: 41.6436 - mae: 41.6436\n",
            "Epoch 3/150\n",
            "2/2 [==============================] - 0s 13ms/step - loss: 34.0335 - mae: 34.0335\n",
            "Epoch 4/150\n",
            "2/2 [==============================] - 0s 9ms/step - loss: 27.9875 - mae: 27.9875\n",
            "Epoch 5/150\n",
            "2/2 [==============================] - 0s 9ms/step - loss: 22.0311 - mae: 22.0311\n",
            "Epoch 6/150\n",
            "2/2 [==============================] - 0s 8ms/step - loss: 16.2638 - mae: 16.2638\n",
            "Epoch 7/150\n",
            "2/2 [==============================] - 0s 8ms/step - loss: 11.8124 - mae: 11.8124\n",
            "Epoch 8/150\n",
            "2/2 [==============================] - 0s 8ms/step - loss: 7.7059 - mae: 7.7059\n",
            "Epoch 9/150\n",
            "2/2 [==============================] - 0s 8ms/step - loss: 7.6053 - mae: 7.6053\n",
            "Epoch 10/150\n",
            "2/2 [==============================] - 0s 8ms/step - loss: 5.6841 - mae: 5.6841\n",
            "Epoch 11/150\n",
            "2/2 [==============================] - 0s 8ms/step - loss: 5.2931 - mae: 5.2931\n",
            "Epoch 12/150\n",
            "2/2 [==============================] - 0s 8ms/step - loss: 5.0167 - mae: 5.0167\n",
            "Epoch 13/150\n",
            "2/2 [==============================] - 0s 8ms/step - loss: 5.5859 - mae: 5.5859\n",
            "Epoch 14/150\n",
            "2/2 [==============================] - 0s 9ms/step - loss: 5.0325 - mae: 5.0325\n",
            "Epoch 15/150\n",
            "2/2 [==============================] - 0s 8ms/step - loss: 4.9323 - mae: 4.9323\n",
            "Epoch 16/150\n",
            "2/2 [==============================] - 0s 9ms/step - loss: 7.9277 - mae: 7.9277\n",
            "Epoch 17/150\n",
            "2/2 [==============================] - 0s 8ms/step - loss: 4.9949 - mae: 4.9949\n",
            "Epoch 18/150\n",
            "2/2 [==============================] - 0s 9ms/step - loss: 4.9710 - mae: 4.9710\n",
            "Epoch 19/150\n",
            "2/2 [==============================] - 0s 8ms/step - loss: 5.3756 - mae: 5.3756\n",
            "Epoch 20/150\n",
            "2/2 [==============================] - 0s 8ms/step - loss: 6.5128 - mae: 6.5128\n",
            "Epoch 21/150\n",
            "2/2 [==============================] - 0s 8ms/step - loss: 4.8065 - mae: 4.8065\n",
            "Epoch 22/150\n",
            "2/2 [==============================] - 0s 10ms/step - loss: 6.4154 - mae: 6.4154\n",
            "Epoch 23/150\n",
            "2/2 [==============================] - 0s 13ms/step - loss: 7.6828 - mae: 7.6828\n",
            "Epoch 24/150\n",
            "2/2 [==============================] - 0s 12ms/step - loss: 5.0292 - mae: 5.0292\n",
            "Epoch 25/150\n",
            "2/2 [==============================] - 0s 9ms/step - loss: 4.9958 - mae: 4.9958\n",
            "Epoch 26/150\n",
            "2/2 [==============================] - 0s 8ms/step - loss: 6.3725 - mae: 6.3725\n",
            "Epoch 27/150\n",
            "2/2 [==============================] - 0s 8ms/step - loss: 6.1282 - mae: 6.1282\n",
            "Epoch 28/150\n",
            "2/2 [==============================] - 0s 9ms/step - loss: 4.9162 - mae: 4.9162\n",
            "Epoch 29/150\n",
            "2/2 [==============================] - 0s 8ms/step - loss: 4.9414 - mae: 4.9414\n",
            "Epoch 30/150\n",
            "2/2 [==============================] - 0s 10ms/step - loss: 5.4514 - mae: 5.4514\n",
            "Epoch 31/150\n",
            "2/2 [==============================] - 0s 8ms/step - loss: 5.8233 - mae: 5.8233\n",
            "Epoch 32/150\n",
            "2/2 [==============================] - 0s 14ms/step - loss: 6.4667 - mae: 6.4667\n",
            "Epoch 33/150\n",
            "2/2 [==============================] - 0s 10ms/step - loss: 4.8361 - mae: 4.8361\n",
            "Epoch 34/150\n",
            "2/2 [==============================] - 0s 8ms/step - loss: 4.8296 - mae: 4.8296\n",
            "Epoch 35/150\n",
            "2/2 [==============================] - 0s 8ms/step - loss: 4.7875 - mae: 4.7875\n",
            "Epoch 36/150\n",
            "2/2 [==============================] - 0s 11ms/step - loss: 7.0882 - mae: 7.0882\n",
            "Epoch 37/150\n",
            "2/2 [==============================] - 0s 9ms/step - loss: 7.2105 - mae: 7.2105\n",
            "Epoch 38/150\n",
            "2/2 [==============================] - 0s 9ms/step - loss: 7.2389 - mae: 7.2389\n",
            "Epoch 39/150\n",
            "2/2 [==============================] - 0s 9ms/step - loss: 4.8369 - mae: 4.8369\n",
            "Epoch 40/150\n",
            "2/2 [==============================] - 0s 10ms/step - loss: 4.8546 - mae: 4.8546\n",
            "Epoch 41/150\n",
            "2/2 [==============================] - 0s 9ms/step - loss: 5.0407 - mae: 5.0407\n",
            "Epoch 42/150\n",
            "2/2 [==============================] - 0s 9ms/step - loss: 6.3874 - mae: 6.3874\n",
            "Epoch 43/150\n",
            "2/2 [==============================] - 0s 9ms/step - loss: 6.0547 - mae: 6.0547\n",
            "Epoch 44/150\n",
            "2/2 [==============================] - 0s 9ms/step - loss: 6.1830 - mae: 6.1830\n",
            "Epoch 45/150\n",
            "2/2 [==============================] - 0s 9ms/step - loss: 4.7078 - mae: 4.7078\n",
            "Epoch 46/150\n",
            "2/2 [==============================] - 0s 8ms/step - loss: 4.8653 - mae: 4.8653\n",
            "Epoch 47/150\n",
            "2/2 [==============================] - 0s 11ms/step - loss: 4.8453 - mae: 4.8453\n",
            "Epoch 48/150\n",
            "2/2 [==============================] - 0s 7ms/step - loss: 4.8903 - mae: 4.8903\n",
            "Epoch 49/150\n",
            "2/2 [==============================] - 0s 10ms/step - loss: 5.1808 - mae: 5.1808\n",
            "Epoch 50/150\n",
            "2/2 [==============================] - 0s 8ms/step - loss: 4.9232 - mae: 4.9232\n",
            "Epoch 51/150\n",
            "2/2 [==============================] - 0s 7ms/step - loss: 5.5334 - mae: 5.5334\n",
            "Epoch 52/150\n",
            "2/2 [==============================] - 0s 9ms/step - loss: 4.8788 - mae: 4.8788\n",
            "Epoch 53/150\n",
            "2/2 [==============================] - 0s 9ms/step - loss: 4.5880 - mae: 4.5880\n",
            "Epoch 54/150\n",
            "2/2 [==============================] - 0s 8ms/step - loss: 4.5452 - mae: 4.5452\n",
            "Epoch 55/150\n",
            "2/2 [==============================] - 0s 12ms/step - loss: 6.8301 - mae: 6.8301\n",
            "Epoch 56/150\n",
            "2/2 [==============================] - 0s 15ms/step - loss: 4.8277 - mae: 4.8277\n",
            "Epoch 57/150\n",
            "2/2 [==============================] - 0s 8ms/step - loss: 5.5454 - mae: 5.5454\n",
            "Epoch 58/150\n",
            "2/2 [==============================] - 0s 10ms/step - loss: 5.5079 - mae: 5.5079\n",
            "Epoch 59/150\n",
            "2/2 [==============================] - 0s 10ms/step - loss: 4.8524 - mae: 4.8524\n",
            "Epoch 60/150\n",
            "2/2 [==============================] - 0s 10ms/step - loss: 5.7682 - mae: 5.7682\n",
            "Epoch 61/150\n",
            "2/2 [==============================] - 0s 11ms/step - loss: 4.9689 - mae: 4.9689\n",
            "Epoch 62/150\n",
            "2/2 [==============================] - 0s 10ms/step - loss: 5.0357 - mae: 5.0357\n",
            "Epoch 63/150\n",
            "2/2 [==============================] - 0s 12ms/step - loss: 5.1686 - mae: 5.1686\n",
            "Epoch 64/150\n",
            "2/2 [==============================] - 0s 7ms/step - loss: 4.8031 - mae: 4.8031\n",
            "Epoch 65/150\n",
            "2/2 [==============================] - 0s 10ms/step - loss: 4.7991 - mae: 4.7991\n",
            "Epoch 66/150\n",
            "2/2 [==============================] - 0s 10ms/step - loss: 4.6618 - mae: 4.6618\n",
            "Epoch 67/150\n",
            "2/2 [==============================] - 0s 10ms/step - loss: 4.8930 - mae: 4.8930\n",
            "Epoch 68/150\n",
            "2/2 [==============================] - 0s 9ms/step - loss: 4.9999 - mae: 4.9999\n",
            "Epoch 69/150\n",
            "2/2 [==============================] - 0s 8ms/step - loss: 5.0435 - mae: 5.0435\n",
            "Epoch 70/150\n",
            "2/2 [==============================] - 0s 8ms/step - loss: 6.3117 - mae: 6.3117\n",
            "Epoch 71/150\n",
            "2/2 [==============================] - 0s 10ms/step - loss: 4.8427 - mae: 4.8427\n",
            "Epoch 72/150\n",
            "2/2 [==============================] - 0s 8ms/step - loss: 5.2613 - mae: 5.2613\n",
            "Epoch 73/150\n",
            "2/2 [==============================] - 0s 7ms/step - loss: 8.6529 - mae: 8.6529\n",
            "Epoch 74/150\n",
            "2/2 [==============================] - 0s 8ms/step - loss: 6.7061 - mae: 6.7061\n",
            "Epoch 75/150\n",
            "2/2 [==============================] - 0s 7ms/step - loss: 4.7587 - mae: 4.7587\n",
            "Epoch 76/150\n",
            "2/2 [==============================] - 0s 10ms/step - loss: 7.8517 - mae: 7.8517\n",
            "Epoch 77/150\n",
            "2/2 [==============================] - 0s 11ms/step - loss: 4.7413 - mae: 4.7413\n",
            "Epoch 78/150\n",
            "2/2 [==============================] - 0s 9ms/step - loss: 4.7428 - mae: 4.7428\n",
            "Epoch 79/150\n",
            "2/2 [==============================] - 0s 10ms/step - loss: 4.7436 - mae: 4.7436\n",
            "Epoch 80/150\n",
            "2/2 [==============================] - 0s 10ms/step - loss: 4.8916 - mae: 4.8916\n",
            "Epoch 81/150\n",
            "2/2 [==============================] - 0s 13ms/step - loss: 5.5218 - mae: 5.5218\n",
            "Epoch 82/150\n",
            "2/2 [==============================] - 0s 8ms/step - loss: 5.9787 - mae: 5.9787\n",
            "Epoch 83/150\n",
            "2/2 [==============================] - 0s 8ms/step - loss: 4.6530 - mae: 4.6530\n",
            "Epoch 84/150\n",
            "2/2 [==============================] - 0s 10ms/step - loss: 5.1217 - mae: 5.1217\n",
            "Epoch 85/150\n",
            "2/2 [==============================] - 0s 7ms/step - loss: 6.1723 - mae: 6.1723\n",
            "Epoch 86/150\n",
            "2/2 [==============================] - 0s 8ms/step - loss: 5.8083 - mae: 5.8083\n",
            "Epoch 87/150\n",
            "2/2 [==============================] - 0s 8ms/step - loss: 4.5628 - mae: 4.5628\n",
            "Epoch 88/150\n",
            "2/2 [==============================] - 0s 8ms/step - loss: 5.3261 - mae: 5.3261\n",
            "Epoch 89/150\n",
            "2/2 [==============================] - 0s 7ms/step - loss: 7.8188 - mae: 7.8188\n",
            "Epoch 90/150\n",
            "2/2 [==============================] - 0s 8ms/step - loss: 4.7831 - mae: 4.7831\n",
            "Epoch 91/150\n",
            "2/2 [==============================] - 0s 8ms/step - loss: 5.1971 - mae: 5.1971\n",
            "Epoch 92/150\n",
            "2/2 [==============================] - 0s 8ms/step - loss: 4.7660 - mae: 4.7660\n",
            "Epoch 93/150\n",
            "2/2 [==============================] - 0s 8ms/step - loss: 4.6645 - mae: 4.6645\n",
            "Epoch 94/150\n",
            "2/2 [==============================] - 0s 7ms/step - loss: 5.1747 - mae: 5.1747\n",
            "Epoch 95/150\n",
            "2/2 [==============================] - 0s 7ms/step - loss: 4.7022 - mae: 4.7022\n",
            "Epoch 96/150\n",
            "2/2 [==============================] - 0s 8ms/step - loss: 4.7056 - mae: 4.7056\n",
            "Epoch 97/150\n",
            "2/2 [==============================] - 0s 7ms/step - loss: 4.4715 - mae: 4.4715\n",
            "Epoch 98/150\n",
            "2/2 [==============================] - 0s 8ms/step - loss: 8.0702 - mae: 8.0702\n",
            "Epoch 99/150\n",
            "2/2 [==============================] - 0s 8ms/step - loss: 4.6035 - mae: 4.6035\n",
            "Epoch 100/150\n",
            "2/2 [==============================] - 0s 8ms/step - loss: 5.3640 - mae: 5.3640\n",
            "Epoch 101/150\n",
            "2/2 [==============================] - 0s 7ms/step - loss: 4.5688 - mae: 4.5688\n",
            "Epoch 102/150\n",
            "2/2 [==============================] - 0s 8ms/step - loss: 4.6459 - mae: 4.6459\n",
            "Epoch 103/150\n",
            "2/2 [==============================] - 0s 7ms/step - loss: 5.8424 - mae: 5.8424\n",
            "Epoch 104/150\n",
            "2/2 [==============================] - 0s 7ms/step - loss: 4.6312 - mae: 4.6312\n",
            "Epoch 105/150\n",
            "2/2 [==============================] - 0s 8ms/step - loss: 4.5172 - mae: 4.5172\n",
            "Epoch 106/150\n",
            "2/2 [==============================] - 0s 8ms/step - loss: 4.5234 - mae: 4.5234\n",
            "Epoch 107/150\n",
            "2/2 [==============================] - 0s 8ms/step - loss: 4.7135 - mae: 4.7135\n",
            "Epoch 108/150\n",
            "2/2 [==============================] - 0s 8ms/step - loss: 4.5187 - mae: 4.5187\n",
            "Epoch 109/150\n",
            "2/2 [==============================] - 0s 12ms/step - loss: 5.0777 - mae: 5.0777\n",
            "Epoch 110/150\n",
            "2/2 [==============================] - 0s 11ms/step - loss: 4.4808 - mae: 4.4808\n",
            "Epoch 111/150\n",
            "2/2 [==============================] - 0s 13ms/step - loss: 4.5437 - mae: 4.5437\n",
            "Epoch 112/150\n",
            "2/2 [==============================] - 0s 10ms/step - loss: 4.4939 - mae: 4.4939\n",
            "Epoch 113/150\n",
            "2/2 [==============================] - 0s 7ms/step - loss: 6.5110 - mae: 6.5110\n",
            "Epoch 114/150\n",
            "2/2 [==============================] - 0s 9ms/step - loss: 4.8268 - mae: 4.8268\n",
            "Epoch 115/150\n",
            "2/2 [==============================] - 0s 10ms/step - loss: 4.5752 - mae: 4.5752\n",
            "Epoch 116/150\n",
            "2/2 [==============================] - 0s 7ms/step - loss: 6.2373 - mae: 6.2373\n",
            "Epoch 117/150\n",
            "2/2 [==============================] - 0s 8ms/step - loss: 5.6395 - mae: 5.6395\n",
            "Epoch 118/150\n",
            "2/2 [==============================] - 0s 7ms/step - loss: 4.7535 - mae: 4.7535\n",
            "Epoch 119/150\n",
            "2/2 [==============================] - 0s 8ms/step - loss: 4.4745 - mae: 4.4745\n",
            "Epoch 120/150\n",
            "2/2 [==============================] - 0s 11ms/step - loss: 5.9512 - mae: 5.9512\n",
            "Epoch 121/150\n",
            "2/2 [==============================] - 0s 7ms/step - loss: 4.4841 - mae: 4.4841\n",
            "Epoch 122/150\n",
            "2/2 [==============================] - 0s 7ms/step - loss: 4.9780 - mae: 4.9780\n",
            "Epoch 123/150\n",
            "2/2 [==============================] - 0s 9ms/step - loss: 4.4704 - mae: 4.4704\n",
            "Epoch 124/150\n",
            "2/2 [==============================] - 0s 7ms/step - loss: 4.3582 - mae: 4.3582\n",
            "Epoch 125/150\n",
            "2/2 [==============================] - 0s 7ms/step - loss: 4.3822 - mae: 4.3822\n",
            "Epoch 126/150\n",
            "2/2 [==============================] - 0s 8ms/step - loss: 4.5026 - mae: 4.5026\n",
            "Epoch 127/150\n",
            "2/2 [==============================] - 0s 7ms/step - loss: 4.5057 - mae: 4.5057\n",
            "Epoch 128/150\n",
            "2/2 [==============================] - 0s 7ms/step - loss: 5.0378 - mae: 5.0378\n",
            "Epoch 129/150\n",
            "2/2 [==============================] - 0s 7ms/step - loss: 5.4728 - mae: 5.4728\n",
            "Epoch 130/150\n",
            "2/2 [==============================] - 0s 8ms/step - loss: 4.6679 - mae: 4.6679\n",
            "Epoch 131/150\n",
            "2/2 [==============================] - 0s 10ms/step - loss: 6.3287 - mae: 6.3287\n",
            "Epoch 132/150\n",
            "2/2 [==============================] - 0s 10ms/step - loss: 4.4195 - mae: 4.4195\n",
            "Epoch 133/150\n",
            "2/2 [==============================] - 0s 8ms/step - loss: 4.5365 - mae: 4.5365\n",
            "Epoch 134/150\n",
            "2/2 [==============================] - 0s 8ms/step - loss: 7.6436 - mae: 7.6436\n",
            "Epoch 135/150\n",
            "2/2 [==============================] - 0s 9ms/step - loss: 7.0270 - mae: 7.0270\n",
            "Epoch 136/150\n",
            "2/2 [==============================] - 0s 10ms/step - loss: 4.5199 - mae: 4.5199\n",
            "Epoch 137/150\n",
            "2/2 [==============================] - 0s 8ms/step - loss: 4.4603 - mae: 4.4603\n",
            "Epoch 138/150\n",
            "2/2 [==============================] - 0s 8ms/step - loss: 4.3196 - mae: 4.3196\n",
            "Epoch 139/150\n",
            "2/2 [==============================] - 0s 9ms/step - loss: 4.3092 - mae: 4.3092\n",
            "Epoch 140/150\n",
            "2/2 [==============================] - 0s 8ms/step - loss: 4.4352 - mae: 4.4352\n",
            "Epoch 141/150\n",
            "2/2 [==============================] - 0s 8ms/step - loss: 5.2684 - mae: 5.2684\n",
            "Epoch 142/150\n",
            "2/2 [==============================] - 0s 9ms/step - loss: 5.5524 - mae: 5.5524\n",
            "Epoch 143/150\n",
            "2/2 [==============================] - 0s 7ms/step - loss: 4.2694 - mae: 4.2694\n",
            "Epoch 144/150\n",
            "2/2 [==============================] - 0s 10ms/step - loss: 4.9939 - mae: 4.9939\n",
            "Epoch 145/150\n",
            "2/2 [==============================] - 0s 12ms/step - loss: 4.1584 - mae: 4.1584\n",
            "Epoch 146/150\n",
            "2/2 [==============================] - 0s 8ms/step - loss: 4.5253 - mae: 4.5253\n",
            "Epoch 147/150\n",
            "2/2 [==============================] - 0s 10ms/step - loss: 6.8044 - mae: 6.8044\n",
            "Epoch 148/150\n",
            "2/2 [==============================] - 0s 9ms/step - loss: 5.1067 - mae: 5.1067\n",
            "Epoch 149/150\n",
            "2/2 [==============================] - 0s 8ms/step - loss: 4.6522 - mae: 4.6522\n",
            "Epoch 150/150\n",
            "2/2 [==============================] - 0s 8ms/step - loss: 4.4279 - mae: 4.4279\n"
          ]
        },
        {
          "output_type": "execute_result",
          "data": {
            "text/plain": [
              "<keras.src.callbacks.History at 0x795c10db65c0>"
            ]
          },
          "metadata": {},
          "execution_count": 25
        }
      ],
      "source": [
        "model.fit(tf.expand_dims(X, axis=-1), y, epochs=150)"
      ]
    },
    {
      "cell_type": "code",
      "source": [
        "X,y"
      ],
      "metadata": {
        "colab": {
          "base_uri": "https://localhost:8080/"
        },
        "id": "9Gna06LplNVi",
        "outputId": "6f94f8a9-2ac2-427f-d5a2-f2c11e5e0f3c"
      },
      "execution_count": null,
      "outputs": [
        {
          "output_type": "execute_result",
          "data": {
            "text/plain": [
              "(<tf.Tensor: shape=(40,), dtype=int32, numpy=\n",
              " array([-100,  -95,  -90,  -85,  -80,  -75,  -70,  -65,  -60,  -55,  -50,\n",
              "         -45,  -40,  -35,  -30,  -25,  -20,  -15,  -10,   -5,    0,    5,\n",
              "          10,   15,   20,   25,   30,   35,   40,   45,   50,   55,   60,\n",
              "          65,   70,   75,   80,   85,   90,   95], dtype=int32)>,\n",
              " <tf.Tensor: shape=(40,), dtype=int32, numpy=\n",
              " array([-95, -90, -85, -80, -75, -70, -65, -60, -55, -50, -45, -40, -35,\n",
              "        -30, -25, -20, -15, -10,  -5,   0,   5,  10,  15,  20,  25,  30,\n",
              "         35,  40,  45,  50,  55,  60,  65,  70,  75,  80,  85,  90,  95,\n",
              "        100], dtype=int32)>)"
            ]
          },
          "metadata": {},
          "execution_count": 26
        }
      ]
    },
    {
      "cell_type": "markdown",
      "metadata": {
        "id": "8FJRbdnV0M4f"
      },
      "source": [
        "**Resource for the deep learning  & neural networks**\n",
        "http://introtodeeplearning.com/"
      ]
    },
    {
      "cell_type": "code",
      "execution_count": null,
      "metadata": {
        "colab": {
          "base_uri": "https://localhost:8080/",
          "height": 312
        },
        "id": "m6m1ewK80T87",
        "outputId": "d2fb9737-7905-48fe-d2aa-175e7cbe3d84"
      },
      "outputs": [
        {
          "output_type": "execute_result",
          "data": {
            "image/png": "[encoded data removed]",
            "text/plain": [
              "<IPython.core.display.Image object>"
            ]
          },
          "metadata": {},
          "execution_count": 27
        }
      ],
      "source": [
        "from tensorflow.keras.utils import plot_model\n",
        "plot_model(model=model,show_shapes =True)"
      ]
    },
    {
      "cell_type": "markdown",
      "metadata": {
        "id": "G8CLm2bU16LM"
      },
      "source": [
        "**To Visualize the predictions of our model**"
      ]
    },
    {
      "cell_type": "code",
      "execution_count": null,
      "metadata": {
        "colab": {
          "base_uri": "https://localhost:8080/"
        },
        "id": "C83JaamW2GpM",
        "outputId": "9768b616-fad0-40f8-9b68-14ef621aedab"
      },
      "outputs": [
        {
          "output_type": "stream",
          "name": "stdout",
          "text": [
            "1/1 [==============================] - 0s 52ms/step\n"
          ]
        }
      ],
      "source": [
        "y_preds= model.predict(X_test)"
      ]
    },
    {
      "cell_type": "code",
      "execution_count": null,
      "metadata": {
        "colab": {
          "base_uri": "https://localhost:8080/",
          "height": 462
        },
        "id": "WdZnqRVY5UHg",
        "outputId": "3142cce0-2f29-4fae-b977-39e281a98e35"
      },
      "outputs": [
        {
          "output_type": "stream",
          "name": "stdout",
          "text": [
            "Error: Test data and Predictions must have the same size.\n"
          ]
        },
        {
          "output_type": "display_data",
          "data": {
            "text/plain": [
              "<Figure size 500x500 with 1 Axes>"
            ],
            "image/png": "[encoded data removed]"
          },
          "metadata": {}
        }
      ],
      "source": [
        "def plot_pred(train_data=X_train,\n",
        "              train_labels=y_train,\n",
        "              test_data=X_test,\n",
        "              test_labels=y_test,\n",
        "              Predictions=y_pred):\n",
        "    plt.figure(figsize=(5,5))\n",
        "    plt.scatter(train_data, train_labels, c=\"b\", label=\"Training Data\")\n",
        "    plt.scatter(test_data, test_labels, c=\"r\", label=\"Test Data\")\n",
        "\n",
        "    # Check if Predictions have the same size as test_data\n",
        "    if len(test_data) == Predictions.shape[0]:\n",
        "        # Selecting predictions for the first time step\n",
        "        plt.scatter(test_data, Predictions[:, 0], c=\"g\", label=\"Predictions\")\n",
        "    else:\n",
        "        print(\"Error: Test data and Predictions must have the same size.\")\n",
        "\n",
        "    plt.legend()\n",
        "\n",
        "plot_pred()\n"
      ]
    },
    {
      "cell_type": "markdown",
      "source": [
        "**Common Evaluation metrics**\n",
        "\n",
        " For regression\n",
        "* MAE\n",
        "* MSE"
      ],
      "metadata": {
        "id": "gWGV2OZWl9_W"
      }
    },
    {
      "cell_type": "code",
      "source": [
        "\n",
        "\n",
        "y_preds = tf.convert_to_tensor(y_preds)\n",
        "y_preds.shape,y_test.shape\n"
      ],
      "metadata": {
        "id": "_PcsmPSZcnhu",
        "colab": {
          "base_uri": "https://localhost:8080/"
        },
        "outputId": "4f5b1ac2-b45b-4a15-badf-13a3c2a49db0"
      },
      "execution_count": null,
      "outputs": [
        {
          "output_type": "execute_result",
          "data": {
            "text/plain": [
              "(TensorShape([10, 20]), TensorShape([10]))"
            ]
          },
          "metadata": {},
          "execution_count": 30
        }
      ]
    },
    {
      "cell_type": "code",
      "source": [
        "model.evaluate(X_test,y_test)"
      ],
      "metadata": {
        "colab": {
          "base_uri": "https://localhost:8080/"
        },
        "id": "Mqb4cZoqu74U",
        "outputId": "f2fa9043-bdc4-4e93-800f-5ee10badc58a"
      },
      "execution_count": null,
      "outputs": [
        {
          "output_type": "stream",
          "name": "stdout",
          "text": [
            "1/1 [==============================] - 0s 156ms/step - loss: 1.0032 - mae: 1.0032\n"
          ]
        },
        {
          "output_type": "execute_result",
          "data": {
            "text/plain": [
              "[1.0031723976135254, 1.0031723976135254]"
            ]
          },
          "metadata": {},
          "execution_count": 31
        }
      ]
    },
    {
      "cell_type": "code",
      "source": [
        "y_test.shape"
      ],
      "metadata": {
        "colab": {
          "base_uri": "https://localhost:8080/"
        },
        "id": "9bvyXB3csEcb",
        "outputId": "1fcf988a-bae5-4f38-c398-423c666abc88"
      },
      "execution_count": null,
      "outputs": [
        {
          "output_type": "execute_result",
          "data": {
            "text/plain": [
              "TensorShape([10])"
            ]
          },
          "metadata": {},
          "execution_count": 32
        }
      ]
    },
    {
      "cell_type": "code",
      "source": [
        "y_preds.shape"
      ],
      "metadata": {
        "colab": {
          "base_uri": "https://localhost:8080/"
        },
        "id": "7LYOuYV3tPh6",
        "outputId": "e96b6786-5e1e-4a5b-c898-50cf196bd2da"
      },
      "execution_count": null,
      "outputs": [
        {
          "output_type": "execute_result",
          "data": {
            "text/plain": [
              "TensorShape([10, 20])"
            ]
          },
          "metadata": {},
          "execution_count": 33
        }
      ]
    },
    {
      "cell_type": "code",
      "source": [
        "y_test = tf.squeeze(y_test)"
      ],
      "metadata": {
        "id": "QyUf2BiktRo0"
      },
      "execution_count": null,
      "outputs": []
    },
    {
      "cell_type": "code",
      "source": [
        "y_test"
      ],
      "metadata": {
        "colab": {
          "base_uri": "https://localhost:8080/"
        },
        "id": "FVMqXs0utZeB",
        "outputId": "e44f6c06-27e0-4086-8101-875d0c99f632"
      },
      "execution_count": null,
      "outputs": [
        {
          "output_type": "execute_result",
          "data": {
            "text/plain": [
              "<tf.Tensor: shape=(10,), dtype=int32, numpy=array([ 55,  60,  65,  70,  75,  80,  85,  90,  95, 100], dtype=int32)>"
            ]
          },
          "metadata": {},
          "execution_count": 35
        }
      ]
    },
    {
      "cell_type": "code",
      "source": [
        "y_preds=tf.squeeze(y_preds)"
      ],
      "metadata": {
        "id": "u2Kj8QO7tdX6"
      },
      "execution_count": null,
      "outputs": []
    },
    {
      "cell_type": "code",
      "source": [
        "y_preds.shape"
      ],
      "metadata": {
        "colab": {
          "base_uri": "https://localhost:8080/"
        },
        "id": "OKPNvyTRtjAp",
        "outputId": "84ea0bc2-7469-42fd-934a-7c4484a08a3e"
      },
      "execution_count": null,
      "outputs": [
        {
          "output_type": "execute_result",
          "data": {
            "text/plain": [
              "TensorShape([10, 20])"
            ]
          },
          "metadata": {},
          "execution_count": 37
        }
      ]
    },
    {
      "cell_type": "code",
      "source": [
        "y_preds = tf.squeeze(y_preds)\n",
        "y_preds.shape"
      ],
      "metadata": {
        "colab": {
          "base_uri": "https://localhost:8080/"
        },
        "id": "pzZtQWfYtkEa",
        "outputId": "7bdd3b57-879b-418e-cbad-e647ffd2c44d"
      },
      "execution_count": null,
      "outputs": [
        {
          "output_type": "execute_result",
          "data": {
            "text/plain": [
              "TensorShape([10, 20])"
            ]
          },
          "metadata": {},
          "execution_count": 38
        }
      ]
    },
    {
      "cell_type": "code",
      "source": [
        "y_test = tf.expand_dims(y_test, axis=1)\n"
      ],
      "metadata": {
        "id": "e8BaVwAmtqCp"
      },
      "execution_count": null,
      "outputs": []
    },
    {
      "cell_type": "code",
      "source": [
        "y_test"
      ],
      "metadata": {
        "colab": {
          "base_uri": "https://localhost:8080/"
        },
        "id": "fmhhHbCpuNIB",
        "outputId": "d9982bf7-8410-4b1a-890c-c4478395ce0a"
      },
      "execution_count": null,
      "outputs": [
        {
          "output_type": "execute_result",
          "data": {
            "text/plain": [
              "<tf.Tensor: shape=(10, 1), dtype=int32, numpy=\n",
              "array([[ 55],\n",
              "       [ 60],\n",
              "       [ 65],\n",
              "       [ 70],\n",
              "       [ 75],\n",
              "       [ 80],\n",
              "       [ 85],\n",
              "       [ 90],\n",
              "       [ 95],\n",
              "       [100]], dtype=int32)>"
            ]
          },
          "metadata": {},
          "execution_count": 40
        }
      ]
    },
    {
      "cell_type": "code",
      "source": [
        "y_test = tf.cast(y_test,dtype=tf.float32)"
      ],
      "metadata": {
        "id": "bFZdtqOCuZlJ"
      },
      "execution_count": null,
      "outputs": []
    },
    {
      "cell_type": "markdown",
      "source": [
        "**if both test and pred tensors arent same**\n",
        "* try squeeze method\n",
        "* try using tf.expand_dims(tensor, axis=)\n",
        "* when they get equal Calculate MAE and the Value of MAE and the value of model evaluation should be the same"
      ],
      "metadata": {
        "id": "ClWO8hHRvHki"
      }
    },
    {
      "cell_type": "code",
      "source": [
        "mae=tf.reduce_mean(tf.abs(y_preds - y_test)) #Finally the mae and the evaluation value is equal\n",
        "mae"
      ],
      "metadata": {
        "colab": {
          "base_uri": "https://localhost:8080/"
        },
        "id": "AT6aFpqBuygB",
        "outputId": "11221881-5a9f-4630-ac7d-527c073c5df4"
      },
      "execution_count": null,
      "outputs": [
        {
          "output_type": "execute_result",
          "data": {
            "text/plain": [
              "<tf.Tensor: shape=(), dtype=float32, numpy=1.0031723>"
            ]
          },
          "metadata": {},
          "execution_count": 42
        }
      ]
    },
    {
      "cell_type": "markdown",
      "source": [
        "**MSE**"
      ],
      "metadata": {
        "id": "loBavGFVv0ky"
      }
    },
    {
      "cell_type": "code",
      "source": [
        "mse = tf.reduce_mean(tf.square(y_preds - y_test)) #for MSE use square\n",
        "mse"
      ],
      "metadata": {
        "colab": {
          "base_uri": "https://localhost:8080/"
        },
        "id": "pcVQKOtouz2a",
        "outputId": "56ceaeec-2b14-4323-8d0d-68bb2e1fd665"
      },
      "execution_count": null,
      "outputs": [
        {
          "output_type": "execute_result",
          "data": {
            "text/plain": [
              "<tf.Tensor: shape=(), dtype=float32, numpy=1.711127>"
            ]
          },
          "metadata": {},
          "execution_count": 43
        }
      ]
    },
    {
      "cell_type": "markdown",
      "source": [
        "**Creating,experimenting and trying with a differnt models**"
      ],
      "metadata": {
        "id": "dTbcfj9-ysYx"
      }
    },
    {
      "cell_type": "code",
      "source": [
        "tf.random.set_seed(34)\n",
        "model_1 = tf.keras.Sequential([\n",
        "    tf.keras.layers.Dense(1),\n",
        "    tf.keras.layers.Dense(10)\n",
        "])\n",
        "model_1.compile(loss=tf.keras.losses.mae,\n",
        "                optimizer = tf.keras.optimizers.SGD(),\n",
        "                metrics=[\"mae\"])\n",
        "model_1.fit(tf.expand_dims(X,axis=-1),y,epochs=200)\n"
      ],
      "metadata": {
        "colab": {
          "base_uri": "https://localhost:8080/"
        },
        "id": "kzaytiuTyrMJ",
        "outputId": "b0f4e75c-fe99-4e1d-a296-9704d514c27c",
        "collapsed": true
      },
      "execution_count": null,
      "outputs": [
        {
          "output_type": "stream",
          "name": "stdout",
          "text": [
            "Epoch 1/200\n",
            "2/2 [==============================] - 0s 12ms/step - loss: 46.2341 - mae: 46.2341\n",
            "Epoch 2/200\n",
            "2/2 [==============================] - 0s 8ms/step - loss: 35.8992 - mae: 35.8992\n",
            "Epoch 3/200\n",
            "2/2 [==============================] - 0s 10ms/step - loss: 26.2651 - mae: 26.2651\n",
            "Epoch 4/200\n",
            "2/2 [==============================] - 0s 8ms/step - loss: 19.7854 - mae: 19.7854\n",
            "Epoch 5/200\n",
            "2/2 [==============================] - 0s 8ms/step - loss: 15.5559 - mae: 15.5559\n",
            "Epoch 6/200\n",
            "2/2 [==============================] - 0s 7ms/step - loss: 10.9817 - mae: 10.9817\n",
            "Epoch 7/200\n",
            "2/2 [==============================] - 0s 11ms/step - loss: 8.0467 - mae: 8.0467\n",
            "Epoch 8/200\n",
            "2/2 [==============================] - 0s 14ms/step - loss: 5.5015 - mae: 5.5015\n",
            "Epoch 9/200\n",
            "2/2 [==============================] - 0s 16ms/step - loss: 6.2192 - mae: 6.2192\n",
            "Epoch 10/200\n",
            "2/2 [==============================] - 0s 8ms/step - loss: 5.1892 - mae: 5.1892\n",
            "Epoch 11/200\n",
            "2/2 [==============================] - 0s 8ms/step - loss: 5.2347 - mae: 5.2347\n",
            "Epoch 12/200\n",
            "2/2 [==============================] - 0s 15ms/step - loss: 5.6202 - mae: 5.6202\n",
            "Epoch 13/200\n",
            "2/2 [==============================] - 0s 8ms/step - loss: 6.8630 - mae: 6.8630\n",
            "Epoch 14/200\n",
            "2/2 [==============================] - 0s 7ms/step - loss: 5.0401 - mae: 5.0401\n",
            "Epoch 15/200\n",
            "2/2 [==============================] - 0s 8ms/step - loss: 5.6180 - mae: 5.6180\n",
            "Epoch 16/200\n",
            "2/2 [==============================] - 0s 8ms/step - loss: 7.0651 - mae: 7.0651\n",
            "Epoch 17/200\n",
            "2/2 [==============================] - 0s 8ms/step - loss: 6.4288 - mae: 6.4288\n",
            "Epoch 18/200\n",
            "2/2 [==============================] - 0s 8ms/step - loss: 5.7983 - mae: 5.7983\n",
            "Epoch 19/200\n",
            "2/2 [==============================] - 0s 8ms/step - loss: 9.1342 - mae: 9.1342\n",
            "Epoch 20/200\n",
            "2/2 [==============================] - 0s 8ms/step - loss: 5.4799 - mae: 5.4799\n",
            "Epoch 21/200\n",
            "2/2 [==============================] - 0s 9ms/step - loss: 5.3091 - mae: 5.3091\n",
            "Epoch 22/200\n",
            "2/2 [==============================] - 0s 10ms/step - loss: 4.9083 - mae: 4.9083\n",
            "Epoch 23/200\n",
            "2/2 [==============================] - 0s 8ms/step - loss: 6.3180 - mae: 6.3180\n",
            "Epoch 24/200\n",
            "2/2 [==============================] - 0s 8ms/step - loss: 9.8952 - mae: 9.8952\n",
            "Epoch 25/200\n",
            "2/2 [==============================] - 0s 14ms/step - loss: 8.3245 - mae: 8.3245\n",
            "Epoch 26/200\n",
            "2/2 [==============================] - 0s 9ms/step - loss: 9.2712 - mae: 9.2712\n",
            "Epoch 27/200\n",
            "2/2 [==============================] - 0s 11ms/step - loss: 7.2031 - mae: 7.2031\n",
            "Epoch 28/200\n",
            "2/2 [==============================] - 0s 8ms/step - loss: 8.0074 - mae: 8.0074\n",
            "Epoch 29/200\n",
            "2/2 [==============================] - 0s 8ms/step - loss: 8.1674 - mae: 8.1674\n",
            "Epoch 30/200\n",
            "2/2 [==============================] - 0s 8ms/step - loss: 8.6734 - mae: 8.6734\n",
            "Epoch 31/200\n",
            "2/2 [==============================] - 0s 9ms/step - loss: 4.9395 - mae: 4.9395\n",
            "Epoch 32/200\n",
            "2/2 [==============================] - 0s 10ms/step - loss: 4.8879 - mae: 4.8879\n",
            "Epoch 33/200\n",
            "2/2 [==============================] - 0s 8ms/step - loss: 5.0238 - mae: 5.0238\n",
            "Epoch 34/200\n",
            "2/2 [==============================] - 0s 8ms/step - loss: 4.9463 - mae: 4.9463\n",
            "Epoch 35/200\n",
            "2/2 [==============================] - 0s 8ms/step - loss: 4.9359 - mae: 4.9359\n",
            "Epoch 36/200\n",
            "2/2 [==============================] - 0s 8ms/step - loss: 6.3215 - mae: 6.3215\n",
            "Epoch 37/200\n",
            "2/2 [==============================] - 0s 9ms/step - loss: 4.6716 - mae: 4.6716\n",
            "Epoch 38/200\n",
            "2/2 [==============================] - 0s 8ms/step - loss: 6.7916 - mae: 6.7916\n",
            "Epoch 39/200\n",
            "2/2 [==============================] - 0s 8ms/step - loss: 7.7396 - mae: 7.7396\n",
            "Epoch 40/200\n",
            "2/2 [==============================] - 0s 8ms/step - loss: 7.2308 - mae: 7.2308\n",
            "Epoch 41/200\n",
            "2/2 [==============================] - 0s 8ms/step - loss: 9.3711 - mae: 9.3711\n",
            "Epoch 42/200\n",
            "2/2 [==============================] - 0s 8ms/step - loss: 5.3593 - mae: 5.3593\n",
            "Epoch 43/200\n",
            "2/2 [==============================] - 0s 9ms/step - loss: 14.4879 - mae: 14.4879\n",
            "Epoch 44/200\n",
            "2/2 [==============================] - 0s 8ms/step - loss: 8.9362 - mae: 8.9362\n",
            "Epoch 45/200\n",
            "2/2 [==============================] - 0s 8ms/step - loss: 7.7277 - mae: 7.7277\n",
            "Epoch 46/200\n",
            "2/2 [==============================] - 0s 8ms/step - loss: 6.8111 - mae: 6.8111\n",
            "Epoch 47/200\n",
            "2/2 [==============================] - 0s 8ms/step - loss: 8.4199 - mae: 8.4199\n",
            "Epoch 48/200\n",
            "2/2 [==============================] - 0s 8ms/step - loss: 8.8784 - mae: 8.8784\n",
            "Epoch 49/200\n",
            "2/2 [==============================] - 0s 8ms/step - loss: 8.4614 - mae: 8.4614\n",
            "Epoch 50/200\n",
            "2/2 [==============================] - 0s 8ms/step - loss: 7.5234 - mae: 7.5234\n",
            "Epoch 51/200\n",
            "2/2 [==============================] - 0s 8ms/step - loss: 6.4066 - mae: 6.4066\n",
            "Epoch 52/200\n",
            "2/2 [==============================] - 0s 8ms/step - loss: 8.5638 - mae: 8.5638\n",
            "Epoch 53/200\n",
            "2/2 [==============================] - 0s 15ms/step - loss: 11.5797 - mae: 11.5797\n",
            "Epoch 54/200\n",
            "2/2 [==============================] - 0s 8ms/step - loss: 10.2437 - mae: 10.2437\n",
            "Epoch 55/200\n",
            "2/2 [==============================] - 0s 8ms/step - loss: 7.0420 - mae: 7.0420\n",
            "Epoch 56/200\n",
            "2/2 [==============================] - 0s 8ms/step - loss: 7.6748 - mae: 7.6748\n",
            "Epoch 57/200\n",
            "2/2 [==============================] - 0s 8ms/step - loss: 6.4746 - mae: 6.4746\n",
            "Epoch 58/200\n",
            "2/2 [==============================] - 0s 8ms/step - loss: 8.5312 - mae: 8.5312\n",
            "Epoch 59/200\n",
            "2/2 [==============================] - 0s 8ms/step - loss: 6.3743 - mae: 6.3743\n",
            "Epoch 60/200\n",
            "2/2 [==============================] - 0s 8ms/step - loss: 8.2974 - mae: 8.2974\n",
            "Epoch 61/200\n",
            "2/2 [==============================] - 0s 8ms/step - loss: 7.5516 - mae: 7.5516\n",
            "Epoch 62/200\n",
            "2/2 [==============================] - 0s 8ms/step - loss: 4.8175 - mae: 4.8175\n",
            "Epoch 63/200\n",
            "2/2 [==============================] - 0s 9ms/step - loss: 4.4636 - mae: 4.4636\n",
            "Epoch 64/200\n",
            "2/2 [==============================] - 0s 8ms/step - loss: 6.6958 - mae: 6.6958\n",
            "Epoch 65/200\n",
            "2/2 [==============================] - 0s 8ms/step - loss: 12.3454 - mae: 12.3454\n",
            "Epoch 66/200\n",
            "2/2 [==============================] - 0s 8ms/step - loss: 4.1980 - mae: 4.1980\n",
            "Epoch 67/200\n",
            "2/2 [==============================] - 0s 10ms/step - loss: 10.6815 - mae: 10.6815\n",
            "Epoch 68/200\n",
            "2/2 [==============================] - 0s 9ms/step - loss: 4.6957 - mae: 4.6957\n",
            "Epoch 69/200\n",
            "2/2 [==============================] - 0s 8ms/step - loss: 6.5369 - mae: 6.5369\n",
            "Epoch 70/200\n",
            "2/2 [==============================] - 0s 8ms/step - loss: 4.9192 - mae: 4.9192\n",
            "Epoch 71/200\n",
            "2/2 [==============================] - 0s 7ms/step - loss: 7.0658 - mae: 7.0658\n",
            "Epoch 72/200\n",
            "2/2 [==============================] - 0s 8ms/step - loss: 4.8189 - mae: 4.8189\n",
            "Epoch 73/200\n",
            "2/2 [==============================] - 0s 7ms/step - loss: 10.7465 - mae: 10.7465\n",
            "Epoch 74/200\n",
            "2/2 [==============================] - 0s 8ms/step - loss: 9.7079 - mae: 9.7079\n",
            "Epoch 75/200\n",
            "2/2 [==============================] - 0s 7ms/step - loss: 7.7953 - mae: 7.7953\n",
            "Epoch 76/200\n",
            "2/2 [==============================] - 0s 8ms/step - loss: 4.7787 - mae: 4.7787\n",
            "Epoch 77/200\n",
            "2/2 [==============================] - 0s 11ms/step - loss: 4.9058 - mae: 4.9058\n",
            "Epoch 78/200\n",
            "2/2 [==============================] - 0s 8ms/step - loss: 7.7245 - mae: 7.7245\n",
            "Epoch 79/200\n",
            "2/2 [==============================] - 0s 8ms/step - loss: 7.1033 - mae: 7.1033\n",
            "Epoch 80/200\n",
            "2/2 [==============================] - 0s 8ms/step - loss: 4.9097 - mae: 4.9097\n",
            "Epoch 81/200\n",
            "2/2 [==============================] - 0s 7ms/step - loss: 11.7312 - mae: 11.7312\n",
            "Epoch 82/200\n",
            "2/2 [==============================] - 0s 10ms/step - loss: 6.0147 - mae: 6.0147\n",
            "Epoch 83/200\n",
            "2/2 [==============================] - 0s 9ms/step - loss: 4.7200 - mae: 4.7200\n",
            "Epoch 84/200\n",
            "2/2 [==============================] - 0s 8ms/step - loss: 8.2040 - mae: 8.2040\n",
            "Epoch 85/200\n",
            "2/2 [==============================] - 0s 8ms/step - loss: 7.8599 - mae: 7.8599\n",
            "Epoch 86/200\n",
            "2/2 [==============================] - 0s 8ms/step - loss: 5.4479 - mae: 5.4479\n",
            "Epoch 87/200\n",
            "2/2 [==============================] - 0s 7ms/step - loss: 11.1705 - mae: 11.1705\n",
            "Epoch 88/200\n",
            "2/2 [==============================] - 0s 8ms/step - loss: 6.6596 - mae: 6.6596\n",
            "Epoch 89/200\n",
            "2/2 [==============================] - 0s 8ms/step - loss: 4.6681 - mae: 4.6681\n",
            "Epoch 90/200\n",
            "2/2 [==============================] - 0s 8ms/step - loss: 4.9374 - mae: 4.9374\n",
            "Epoch 91/200\n",
            "2/2 [==============================] - 0s 8ms/step - loss: 11.9756 - mae: 11.9756\n",
            "Epoch 92/200\n",
            "2/2 [==============================] - 0s 8ms/step - loss: 5.3571 - mae: 5.3571\n",
            "Epoch 93/200\n",
            "2/2 [==============================] - 0s 8ms/step - loss: 6.1957 - mae: 6.1957\n",
            "Epoch 94/200\n",
            "2/2 [==============================] - 0s 8ms/step - loss: 4.4348 - mae: 4.4348\n",
            "Epoch 95/200\n",
            "2/2 [==============================] - 0s 7ms/step - loss: 8.1136 - mae: 8.1136\n",
            "Epoch 96/200\n",
            "2/2 [==============================] - 0s 8ms/step - loss: 6.8721 - mae: 6.8721\n",
            "Epoch 97/200\n",
            "2/2 [==============================] - 0s 7ms/step - loss: 11.1820 - mae: 11.1820\n",
            "Epoch 98/200\n",
            "2/2 [==============================] - 0s 9ms/step - loss: 4.4875 - mae: 4.4875\n",
            "Epoch 99/200\n",
            "2/2 [==============================] - 0s 7ms/step - loss: 5.1456 - mae: 5.1456\n",
            "Epoch 100/200\n",
            "2/2 [==============================] - 0s 8ms/step - loss: 7.7487 - mae: 7.7487\n",
            "Epoch 101/200\n",
            "2/2 [==============================] - 0s 8ms/step - loss: 6.7910 - mae: 6.7910\n",
            "Epoch 102/200\n",
            "2/2 [==============================] - 0s 8ms/step - loss: 6.5232 - mae: 6.5232\n",
            "Epoch 103/200\n",
            "2/2 [==============================] - 0s 8ms/step - loss: 7.7985 - mae: 7.7985\n",
            "Epoch 104/200\n",
            "2/2 [==============================] - 0s 8ms/step - loss: 7.3983 - mae: 7.3983\n",
            "Epoch 105/200\n",
            "2/2 [==============================] - 0s 8ms/step - loss: 6.0327 - mae: 6.0327\n",
            "Epoch 106/200\n",
            "2/2 [==============================] - 0s 8ms/step - loss: 5.9234 - mae: 5.9234\n",
            "Epoch 107/200\n",
            "2/2 [==============================] - 0s 7ms/step - loss: 9.4241 - mae: 9.4241\n",
            "Epoch 108/200\n",
            "2/2 [==============================] - 0s 7ms/step - loss: 7.4611 - mae: 7.4611\n",
            "Epoch 109/200\n",
            "2/2 [==============================] - 0s 8ms/step - loss: 8.9931 - mae: 8.9931\n",
            "Epoch 110/200\n",
            "2/2 [==============================] - 0s 8ms/step - loss: 5.8047 - mae: 5.8047\n",
            "Epoch 111/200\n",
            "2/2 [==============================] - 0s 7ms/step - loss: 9.4786 - mae: 9.4786\n",
            "Epoch 112/200\n",
            "2/2 [==============================] - 0s 11ms/step - loss: 4.7179 - mae: 4.7179\n",
            "Epoch 113/200\n",
            "2/2 [==============================] - 0s 8ms/step - loss: 9.7572 - mae: 9.7572\n",
            "Epoch 114/200\n",
            "2/2 [==============================] - 0s 8ms/step - loss: 8.3746 - mae: 8.3746\n",
            "Epoch 115/200\n",
            "2/2 [==============================] - 0s 8ms/step - loss: 11.3044 - mae: 11.3044\n",
            "Epoch 116/200\n",
            "2/2 [==============================] - 0s 7ms/step - loss: 4.5424 - mae: 4.5424\n",
            "Epoch 117/200\n",
            "2/2 [==============================] - 0s 8ms/step - loss: 9.3019 - mae: 9.3019\n",
            "Epoch 118/200\n",
            "2/2 [==============================] - 0s 8ms/step - loss: 4.5098 - mae: 4.5098\n",
            "Epoch 119/200\n",
            "2/2 [==============================] - 0s 8ms/step - loss: 4.5173 - mae: 4.5173\n",
            "Epoch 120/200\n",
            "2/2 [==============================] - 0s 7ms/step - loss: 5.1358 - mae: 5.1358\n",
            "Epoch 121/200\n",
            "2/2 [==============================] - 0s 8ms/step - loss: 14.3926 - mae: 14.3926\n",
            "Epoch 122/200\n",
            "2/2 [==============================] - 0s 8ms/step - loss: 5.2670 - mae: 5.2670\n",
            "Epoch 123/200\n",
            "2/2 [==============================] - 0s 8ms/step - loss: 4.3911 - mae: 4.3911\n",
            "Epoch 124/200\n",
            "2/2 [==============================] - 0s 12ms/step - loss: 4.5930 - mae: 4.5930\n",
            "Epoch 125/200\n",
            "2/2 [==============================] - 0s 16ms/step - loss: 9.7031 - mae: 9.7031\n",
            "Epoch 126/200\n",
            "2/2 [==============================] - 0s 8ms/step - loss: 8.8774 - mae: 8.8774\n",
            "Epoch 127/200\n",
            "2/2 [==============================] - 0s 13ms/step - loss: 8.3009 - mae: 8.3009\n",
            "Epoch 128/200\n",
            "2/2 [==============================] - 0s 10ms/step - loss: 5.4274 - mae: 5.4274\n",
            "Epoch 129/200\n",
            "2/2 [==============================] - 0s 10ms/step - loss: 10.4808 - mae: 10.4808\n",
            "Epoch 130/200\n",
            "2/2 [==============================] - 0s 11ms/step - loss: 5.0666 - mae: 5.0666\n",
            "Epoch 131/200\n",
            "2/2 [==============================] - 0s 8ms/step - loss: 8.2435 - mae: 8.2435\n",
            "Epoch 132/200\n",
            "2/2 [==============================] - 0s 8ms/step - loss: 6.6376 - mae: 6.6376\n",
            "Epoch 133/200\n",
            "2/2 [==============================] - 0s 9ms/step - loss: 8.1493 - mae: 8.1493\n",
            "Epoch 134/200\n",
            "2/2 [==============================] - 0s 8ms/step - loss: 4.4439 - mae: 4.4439\n",
            "Epoch 135/200\n",
            "2/2 [==============================] - 0s 8ms/step - loss: 4.4328 - mae: 4.4328\n",
            "Epoch 136/200\n",
            "2/2 [==============================] - 0s 9ms/step - loss: 4.8957 - mae: 4.8957\n",
            "Epoch 137/200\n",
            "2/2 [==============================] - 0s 8ms/step - loss: 9.2459 - mae: 9.2459\n",
            "Epoch 138/200\n",
            "2/2 [==============================] - 0s 9ms/step - loss: 4.3702 - mae: 4.3702\n",
            "Epoch 139/200\n",
            "2/2 [==============================] - 0s 9ms/step - loss: 6.5456 - mae: 6.5456\n",
            "Epoch 140/200\n",
            "2/2 [==============================] - 0s 7ms/step - loss: 9.4503 - mae: 9.4503\n",
            "Epoch 141/200\n",
            "2/2 [==============================] - 0s 11ms/step - loss: 9.3843 - mae: 9.3843\n",
            "Epoch 142/200\n",
            "2/2 [==============================] - 0s 8ms/step - loss: 7.2745 - mae: 7.2745\n",
            "Epoch 143/200\n",
            "2/2 [==============================] - 0s 7ms/step - loss: 7.1551 - mae: 7.1551\n",
            "Epoch 144/200\n",
            "2/2 [==============================] - 0s 9ms/step - loss: 13.0101 - mae: 13.0101\n",
            "Epoch 145/200\n",
            "2/2 [==============================] - 0s 11ms/step - loss: 6.1672 - mae: 6.1672\n",
            "Epoch 146/200\n",
            "2/2 [==============================] - 0s 10ms/step - loss: 4.9833 - mae: 4.9833\n",
            "Epoch 147/200\n",
            "2/2 [==============================] - 0s 8ms/step - loss: 9.1460 - mae: 9.1460\n",
            "Epoch 148/200\n",
            "2/2 [==============================] - 0s 8ms/step - loss: 7.8022 - mae: 7.8022\n",
            "Epoch 149/200\n",
            "2/2 [==============================] - 0s 10ms/step - loss: 8.1604 - mae: 8.1604\n",
            "Epoch 150/200\n",
            "2/2 [==============================] - 0s 8ms/step - loss: 8.1409 - mae: 8.1409\n",
            "Epoch 151/200\n",
            "2/2 [==============================] - 0s 8ms/step - loss: 8.0031 - mae: 8.0031\n",
            "Epoch 152/200\n",
            "2/2 [==============================] - 0s 8ms/step - loss: 7.5681 - mae: 7.5681\n",
            "Epoch 153/200\n",
            "2/2 [==============================] - 0s 8ms/step - loss: 9.1404 - mae: 9.1404\n",
            "Epoch 154/200\n",
            "2/2 [==============================] - 0s 8ms/step - loss: 7.3959 - mae: 7.3959\n",
            "Epoch 155/200\n",
            "2/2 [==============================] - 0s 8ms/step - loss: 11.4106 - mae: 11.4106\n",
            "Epoch 156/200\n",
            "2/2 [==============================] - 0s 8ms/step - loss: 7.9354 - mae: 7.9354\n",
            "Epoch 157/200\n",
            "2/2 [==============================] - 0s 8ms/step - loss: 8.4864 - mae: 8.4864\n",
            "Epoch 158/200\n",
            "2/2 [==============================] - 0s 8ms/step - loss: 4.2673 - mae: 4.2673\n",
            "Epoch 159/200\n",
            "2/2 [==============================] - 0s 8ms/step - loss: 4.3748 - mae: 4.3748\n",
            "Epoch 160/200\n",
            "2/2 [==============================] - 0s 8ms/step - loss: 4.3741 - mae: 4.3741\n",
            "Epoch 161/200\n",
            "2/2 [==============================] - 0s 8ms/step - loss: 4.5239 - mae: 4.5239\n",
            "Epoch 162/200\n",
            "2/2 [==============================] - 0s 8ms/step - loss: 8.7264 - mae: 8.7264\n",
            "Epoch 163/200\n",
            "2/2 [==============================] - 0s 13ms/step - loss: 6.4961 - mae: 6.4961\n",
            "Epoch 164/200\n",
            "2/2 [==============================] - 0s 8ms/step - loss: 8.9505 - mae: 8.9505\n",
            "Epoch 165/200\n",
            "2/2 [==============================] - 0s 8ms/step - loss: 5.2621 - mae: 5.2621\n",
            "Epoch 166/200\n",
            "2/2 [==============================] - 0s 9ms/step - loss: 9.0037 - mae: 9.0037\n",
            "Epoch 167/200\n",
            "2/2 [==============================] - 0s 9ms/step - loss: 9.0855 - mae: 9.0855\n",
            "Epoch 168/200\n",
            "2/2 [==============================] - 0s 10ms/step - loss: 11.0634 - mae: 11.0634\n",
            "Epoch 169/200\n",
            "2/2 [==============================] - 0s 9ms/step - loss: 9.1210 - mae: 9.1210\n",
            "Epoch 170/200\n",
            "2/2 [==============================] - 0s 9ms/step - loss: 10.3605 - mae: 10.3605\n",
            "Epoch 171/200\n",
            "2/2 [==============================] - 0s 9ms/step - loss: 4.8089 - mae: 4.8089\n",
            "Epoch 172/200\n",
            "2/2 [==============================] - 0s 9ms/step - loss: 8.3380 - mae: 8.3380\n",
            "Epoch 173/200\n",
            "2/2 [==============================] - 0s 12ms/step - loss: 11.8709 - mae: 11.8709\n",
            "Epoch 174/200\n",
            "2/2 [==============================] - 0s 9ms/step - loss: 4.2216 - mae: 4.2216\n",
            "Epoch 175/200\n",
            "2/2 [==============================] - 0s 12ms/step - loss: 6.9002 - mae: 6.9002\n",
            "Epoch 176/200\n",
            "2/2 [==============================] - 0s 8ms/step - loss: 11.1108 - mae: 11.1108\n",
            "Epoch 177/200\n",
            "2/2 [==============================] - 0s 8ms/step - loss: 7.1336 - mae: 7.1336\n",
            "Epoch 178/200\n",
            "2/2 [==============================] - 0s 11ms/step - loss: 10.2133 - mae: 10.2133\n",
            "Epoch 179/200\n",
            "2/2 [==============================] - 0s 9ms/step - loss: 4.2571 - mae: 4.2571\n",
            "Epoch 180/200\n",
            "2/2 [==============================] - 0s 14ms/step - loss: 4.2333 - mae: 4.2333\n",
            "Epoch 181/200\n",
            "2/2 [==============================] - 0s 9ms/step - loss: 6.9959 - mae: 6.9959\n",
            "Epoch 182/200\n",
            "2/2 [==============================] - 0s 9ms/step - loss: 13.5094 - mae: 13.5094\n",
            "Epoch 183/200\n",
            "2/2 [==============================] - 0s 8ms/step - loss: 9.6859 - mae: 9.6859\n",
            "Epoch 184/200\n",
            "2/2 [==============================] - 0s 8ms/step - loss: 10.9954 - mae: 10.9954\n",
            "Epoch 185/200\n",
            "2/2 [==============================] - 0s 8ms/step - loss: 6.2667 - mae: 6.2667\n",
            "Epoch 186/200\n",
            "2/2 [==============================] - 0s 9ms/step - loss: 7.4879 - mae: 7.4879\n",
            "Epoch 187/200\n",
            "2/2 [==============================] - 0s 8ms/step - loss: 9.7698 - mae: 9.7698\n",
            "Epoch 188/200\n",
            "2/2 [==============================] - 0s 8ms/step - loss: 12.8441 - mae: 12.8441\n",
            "Epoch 189/200\n",
            "2/2 [==============================] - 0s 8ms/step - loss: 7.9448 - mae: 7.9448\n",
            "Epoch 190/200\n",
            "2/2 [==============================] - 0s 9ms/step - loss: 8.7472 - mae: 8.7472\n",
            "Epoch 191/200\n",
            "2/2 [==============================] - 0s 8ms/step - loss: 8.8637 - mae: 8.8637\n",
            "Epoch 192/200\n",
            "2/2 [==============================] - 0s 8ms/step - loss: 4.0015 - mae: 4.0015\n",
            "Epoch 193/200\n",
            "2/2 [==============================] - 0s 8ms/step - loss: 4.1440 - mae: 4.1440\n",
            "Epoch 194/200\n",
            "2/2 [==============================] - 0s 9ms/step - loss: 4.7357 - mae: 4.7357\n",
            "Epoch 195/200\n",
            "2/2 [==============================] - 0s 9ms/step - loss: 8.9347 - mae: 8.9347\n",
            "Epoch 196/200\n",
            "2/2 [==============================] - 0s 8ms/step - loss: 8.8257 - mae: 8.8257\n",
            "Epoch 197/200\n",
            "2/2 [==============================] - 0s 8ms/step - loss: 7.5372 - mae: 7.5372\n",
            "Epoch 198/200\n",
            "2/2 [==============================] - 0s 8ms/step - loss: 6.0683 - mae: 6.0683\n",
            "Epoch 199/200\n",
            "2/2 [==============================] - 0s 9ms/step - loss: 10.2570 - mae: 10.2570\n",
            "Epoch 200/200\n",
            "2/2 [==============================] - 0s 8ms/step - loss: 5.1743 - mae: 5.1743\n"
          ]
        },
        {
          "output_type": "execute_result",
          "data": {
            "text/plain": [
              "<keras.src.callbacks.History at 0x795c10340100>"
            ]
          },
          "metadata": {},
          "execution_count": 44
        }
      ]
    },
    {
      "cell_type": "code",
      "source": [
        "y_preds_1 = model.predict(X_test)\n",
        "plot_pred(Predictions=y_preds_1)"
      ],
      "metadata": {
        "colab": {
          "base_uri": "https://localhost:8080/",
          "height": 462
        },
        "id": "14JtbFVKy4ej",
        "outputId": "c9671fe1-2261-41cd-9c45-a607edd363c8"
      },
      "execution_count": null,
      "outputs": [
        {
          "output_type": "stream",
          "name": "stdout",
          "text": [
            "1/1 [==============================] - 0s 32ms/step\n"
          ]
        },
        {
          "output_type": "display_data",
          "data": {
            "text/plain": [
              "<Figure size 500x500 with 1 Axes>"
            ],
            "image/png": "[encoded data removed]"
          },
          "metadata": {}
        }
      ]
    },
    {
      "cell_type": "code",
      "source": [
        "model_1.evaluate(X_test,y_test)"
      ],
      "metadata": {
        "colab": {
          "base_uri": "https://localhost:8080/"
        },
        "id": "RrJ1kypt0mjn",
        "outputId": "91da44bf-87dc-4c0a-acad-b2664e1f84f0"
      },
      "execution_count": null,
      "outputs": [
        {
          "output_type": "stream",
          "name": "stdout",
          "text": [
            "1/1 [==============================] - 0s 114ms/step - loss: 12.9322 - mae: 12.9322\n"
          ]
        },
        {
          "output_type": "execute_result",
          "data": {
            "text/plain": [
              "[12.932210922241211, 12.932210922241211]"
            ]
          },
          "metadata": {},
          "execution_count": 46
        }
      ]
    },
    {
      "cell_type": "code",
      "source": [
        "#mae_1= tf.metrics.mean_absolute_error(y_test,tf.squeeze(y_preds_1))\n",
        "#mse_1 = tf.metrics.mean_squared_error(y_test,tf.squeeze(y_preds_1))\n"
      ],
      "metadata": {
        "id": "GgYL1hx51G_O"
      },
      "execution_count": null,
      "outputs": []
    },
    {
      "cell_type": "code",
      "source": [],
      "metadata": {
        "id": "Jal6gWTRjCls"
      },
      "execution_count": null,
      "outputs": []
    },
    {
      "cell_type": "markdown",
      "source": [
        "**Model 2**"
      ],
      "metadata": {
        "id": "fAeaZqh0sEXw"
      }
    },
    {
      "cell_type": "code",
      "source": [
        "model_2 =tf.keras.Sequential([\n",
        "    tf.keras.layers.Dense(1) ,#input layer\n",
        "    tf.keras.layers.Dense(20),\n",
        "    tf.keras.layers.Dense(10),\n",
        "    tf.keras.layers.Dense(10)\n",
        "])\n",
        "model_2.compile(loss=tf.keras.losses.mae,\n",
        "                optimizer=tf.keras.optimizers.SGD(),\n",
        "                metrics=[\"mae\"])\n",
        "model_2.fit(tf.expand_dims(X,axis=-1),y,epochs=100)"
      ],
      "metadata": {
        "colab": {
          "base_uri": "https://localhost:8080/"
        },
        "id": "ehkJykEosGNV",
        "outputId": "486be614-7df1-4196-a9c7-2131469abd9b",
        "collapsed": true
      },
      "execution_count": null,
      "outputs": [
        {
          "output_type": "stream",
          "name": "stdout",
          "text": [
            "Epoch 1/100\n",
            "2/2 [==============================] - 1s 9ms/step - loss: 51.8017 - mae: 51.8017\n",
            "Epoch 2/100\n",
            "2/2 [==============================] - 0s 8ms/step - loss: 26.7417 - mae: 26.7417\n",
            "Epoch 3/100\n",
            "2/2 [==============================] - 0s 9ms/step - loss: 30.7823 - mae: 30.7823\n",
            "Epoch 4/100\n",
            "2/2 [==============================] - 0s 8ms/step - loss: 36.3668 - mae: 36.3668\n",
            "Epoch 5/100\n",
            "2/2 [==============================] - 0s 7ms/step - loss: 14.2949 - mae: 14.2949\n",
            "Epoch 6/100\n",
            "2/2 [==============================] - 0s 8ms/step - loss: 13.9736 - mae: 13.9736\n",
            "Epoch 7/100\n",
            "2/2 [==============================] - 0s 8ms/step - loss: 13.0063 - mae: 13.0063\n",
            "Epoch 8/100\n",
            "2/2 [==============================] - 0s 8ms/step - loss: 12.9232 - mae: 12.9232\n",
            "Epoch 9/100\n",
            "2/2 [==============================] - 0s 7ms/step - loss: 33.1081 - mae: 33.1081\n",
            "Epoch 10/100\n",
            "2/2 [==============================] - 0s 9ms/step - loss: 18.2478 - mae: 18.2478\n",
            "Epoch 11/100\n",
            "2/2 [==============================] - 0s 9ms/step - loss: 19.9348 - mae: 19.9348\n",
            "Epoch 12/100\n",
            "2/2 [==============================] - 0s 8ms/step - loss: 37.5379 - mae: 37.5379\n",
            "Epoch 13/100\n",
            "2/2 [==============================] - 0s 8ms/step - loss: 16.2892 - mae: 16.2892\n",
            "Epoch 14/100\n",
            "2/2 [==============================] - 0s 8ms/step - loss: 29.1591 - mae: 29.1591\n",
            "Epoch 15/100\n",
            "2/2 [==============================] - 0s 7ms/step - loss: 33.3523 - mae: 33.3523\n",
            "Epoch 16/100\n",
            "2/2 [==============================] - 0s 8ms/step - loss: 24.3455 - mae: 24.3455\n",
            "Epoch 17/100\n",
            "2/2 [==============================] - 0s 8ms/step - loss: 58.8337 - mae: 58.8337\n",
            "Epoch 18/100\n",
            "2/2 [==============================] - 0s 9ms/step - loss: 17.0369 - mae: 17.0369\n",
            "Epoch 19/100\n",
            "2/2 [==============================] - 0s 8ms/step - loss: 33.9776 - mae: 33.9776\n",
            "Epoch 20/100\n",
            "2/2 [==============================] - 0s 10ms/step - loss: 5.7548 - mae: 5.7548\n",
            "Epoch 21/100\n",
            "2/2 [==============================] - 0s 8ms/step - loss: 25.0490 - mae: 25.0490\n",
            "Epoch 22/100\n",
            "2/2 [==============================] - 0s 9ms/step - loss: 11.0996 - mae: 11.0996\n",
            "Epoch 23/100\n",
            "2/2 [==============================] - 0s 8ms/step - loss: 29.4900 - mae: 29.4900\n",
            "Epoch 24/100\n",
            "2/2 [==============================] - 0s 9ms/step - loss: 21.8658 - mae: 21.8658\n",
            "Epoch 25/100\n",
            "2/2 [==============================] - 0s 9ms/step - loss: 25.5145 - mae: 25.5145\n",
            "Epoch 26/100\n",
            "2/2 [==============================] - 0s 16ms/step - loss: 7.3455 - mae: 7.3455\n",
            "Epoch 27/100\n",
            "2/2 [==============================] - 0s 7ms/step - loss: 53.9629 - mae: 53.9629\n",
            "Epoch 28/100\n",
            "2/2 [==============================] - 0s 7ms/step - loss: 27.0681 - mae: 27.0681\n",
            "Epoch 29/100\n",
            "2/2 [==============================] - 0s 8ms/step - loss: 37.1128 - mae: 37.1128\n",
            "Epoch 30/100\n",
            "2/2 [==============================] - 0s 8ms/step - loss: 19.2134 - mae: 19.2134\n",
            "Epoch 31/100\n",
            "2/2 [==============================] - 0s 8ms/step - loss: 25.3976 - mae: 25.3976\n",
            "Epoch 32/100\n",
            "2/2 [==============================] - 0s 9ms/step - loss: 43.0915 - mae: 43.0915\n",
            "Epoch 33/100\n",
            "2/2 [==============================] - 0s 9ms/step - loss: 18.1114 - mae: 18.1114\n",
            "Epoch 34/100\n",
            "2/2 [==============================] - 0s 8ms/step - loss: 35.7882 - mae: 35.7882\n",
            "Epoch 35/100\n",
            "2/2 [==============================] - 0s 9ms/step - loss: 16.7908 - mae: 16.7908\n",
            "Epoch 36/100\n",
            "2/2 [==============================] - 0s 8ms/step - loss: 28.0860 - mae: 28.0860\n",
            "Epoch 37/100\n",
            "2/2 [==============================] - 0s 8ms/step - loss: 24.4683 - mae: 24.4683\n",
            "Epoch 38/100\n",
            "2/2 [==============================] - 0s 8ms/step - loss: 23.7404 - mae: 23.7404\n",
            "Epoch 39/100\n",
            "2/2 [==============================] - 0s 10ms/step - loss: 53.0272 - mae: 53.0272\n",
            "Epoch 40/100\n",
            "2/2 [==============================] - 0s 9ms/step - loss: 37.9372 - mae: 37.9372\n",
            "Epoch 41/100\n",
            "2/2 [==============================] - 0s 9ms/step - loss: 19.2677 - mae: 19.2677\n",
            "Epoch 42/100\n",
            "2/2 [==============================] - 0s 10ms/step - loss: 15.6732 - mae: 15.6732\n",
            "Epoch 43/100\n",
            "2/2 [==============================] - 0s 8ms/step - loss: 39.6270 - mae: 39.6270\n",
            "Epoch 44/100\n",
            "2/2 [==============================] - 0s 8ms/step - loss: 20.6478 - mae: 20.6478\n",
            "Epoch 45/100\n",
            "2/2 [==============================] - 0s 8ms/step - loss: 13.5888 - mae: 13.5888\n",
            "Epoch 46/100\n",
            "2/2 [==============================] - 0s 8ms/step - loss: 38.3347 - mae: 38.3347\n",
            "Epoch 47/100\n",
            "2/2 [==============================] - 0s 8ms/step - loss: 19.3119 - mae: 19.3119\n",
            "Epoch 48/100\n",
            "2/2 [==============================] - 0s 7ms/step - loss: 39.0333 - mae: 39.0333\n",
            "Epoch 49/100\n",
            "2/2 [==============================] - 0s 9ms/step - loss: 19.1163 - mae: 19.1163\n",
            "Epoch 50/100\n",
            "2/2 [==============================] - 0s 8ms/step - loss: 26.1594 - mae: 26.1594\n",
            "Epoch 51/100\n",
            "2/2 [==============================] - 0s 8ms/step - loss: 37.0475 - mae: 37.0475\n",
            "Epoch 52/100\n",
            "2/2 [==============================] - 0s 8ms/step - loss: 19.5453 - mae: 19.5453\n",
            "Epoch 53/100\n",
            "2/2 [==============================] - 0s 8ms/step - loss: 8.3722 - mae: 8.3722\n",
            "Epoch 54/100\n",
            "2/2 [==============================] - 0s 9ms/step - loss: 38.7630 - mae: 38.7630\n",
            "Epoch 55/100\n",
            "2/2 [==============================] - 0s 8ms/step - loss: 25.3576 - mae: 25.3576\n",
            "Epoch 56/100\n",
            "2/2 [==============================] - 0s 8ms/step - loss: 40.5048 - mae: 40.5048\n",
            "Epoch 57/100\n",
            "2/2 [==============================] - 0s 8ms/step - loss: 24.6434 - mae: 24.6434\n",
            "Epoch 58/100\n",
            "2/2 [==============================] - 0s 8ms/step - loss: 48.5063 - mae: 48.5063\n",
            "Epoch 59/100\n",
            "2/2 [==============================] - 0s 8ms/step - loss: 23.4423 - mae: 23.4423\n",
            "Epoch 60/100\n",
            "2/2 [==============================] - 0s 9ms/step - loss: 57.0985 - mae: 57.0985\n",
            "Epoch 61/100\n",
            "2/2 [==============================] - 0s 8ms/step - loss: 25.1285 - mae: 25.1285\n",
            "Epoch 62/100\n",
            "2/2 [==============================] - 0s 8ms/step - loss: 36.6865 - mae: 36.6865\n",
            "Epoch 63/100\n",
            "2/2 [==============================] - 0s 8ms/step - loss: 32.7092 - mae: 32.7092\n",
            "Epoch 64/100\n",
            "2/2 [==============================] - 0s 8ms/step - loss: 10.3826 - mae: 10.3826\n",
            "Epoch 65/100\n",
            "2/2 [==============================] - 0s 11ms/step - loss: 32.5615 - mae: 32.5615\n",
            "Epoch 66/100\n",
            "2/2 [==============================] - 0s 9ms/step - loss: 25.7428 - mae: 25.7428\n",
            "Epoch 67/100\n",
            "2/2 [==============================] - 0s 10ms/step - loss: 33.3025 - mae: 33.3025\n",
            "Epoch 68/100\n",
            "2/2 [==============================] - 0s 8ms/step - loss: 19.2746 - mae: 19.2746\n",
            "Epoch 69/100\n",
            "2/2 [==============================] - 0s 8ms/step - loss: 29.1915 - mae: 29.1915\n",
            "Epoch 70/100\n",
            "2/2 [==============================] - 0s 8ms/step - loss: 23.2751 - mae: 23.2751\n",
            "Epoch 71/100\n",
            "2/2 [==============================] - 0s 9ms/step - loss: 22.3252 - mae: 22.3252\n",
            "Epoch 72/100\n",
            "2/2 [==============================] - 0s 9ms/step - loss: 11.8652 - mae: 11.8652\n",
            "Epoch 73/100\n",
            "2/2 [==============================] - 0s 9ms/step - loss: 17.7678 - mae: 17.7678\n",
            "Epoch 74/100\n",
            "2/2 [==============================] - 0s 9ms/step - loss: 42.9751 - mae: 42.9751\n",
            "Epoch 75/100\n",
            "2/2 [==============================] - 0s 9ms/step - loss: 32.9930 - mae: 32.9930\n",
            "Epoch 76/100\n",
            "2/2 [==============================] - 0s 13ms/step - loss: 5.8140 - mae: 5.8140\n",
            "Epoch 77/100\n",
            "2/2 [==============================] - 0s 8ms/step - loss: 17.0372 - mae: 17.0372\n",
            "Epoch 78/100\n",
            "2/2 [==============================] - 0s 10ms/step - loss: 18.6799 - mae: 18.6799\n",
            "Epoch 79/100\n",
            "2/2 [==============================] - 0s 9ms/step - loss: 33.2343 - mae: 33.2343\n",
            "Epoch 80/100\n",
            "2/2 [==============================] - 0s 10ms/step - loss: 7.1248 - mae: 7.1248\n",
            "Epoch 81/100\n",
            "2/2 [==============================] - 0s 10ms/step - loss: 22.3287 - mae: 22.3287\n",
            "Epoch 82/100\n",
            "2/2 [==============================] - 0s 10ms/step - loss: 24.0025 - mae: 24.0025\n",
            "Epoch 83/100\n",
            "2/2 [==============================] - 0s 13ms/step - loss: 28.1941 - mae: 28.1941\n",
            "Epoch 84/100\n",
            "2/2 [==============================] - 0s 11ms/step - loss: 33.7431 - mae: 33.7431\n",
            "Epoch 85/100\n",
            "2/2 [==============================] - 0s 12ms/step - loss: 20.9976 - mae: 20.9976\n",
            "Epoch 86/100\n",
            "2/2 [==============================] - 0s 9ms/step - loss: 17.8675 - mae: 17.8675\n",
            "Epoch 87/100\n",
            "2/2 [==============================] - 0s 10ms/step - loss: 41.7566 - mae: 41.7566\n",
            "Epoch 88/100\n",
            "2/2 [==============================] - 0s 9ms/step - loss: 28.4058 - mae: 28.4058\n",
            "Epoch 89/100\n",
            "2/2 [==============================] - 0s 12ms/step - loss: 23.6096 - mae: 23.6096\n",
            "Epoch 90/100\n",
            "2/2 [==============================] - 0s 8ms/step - loss: 22.4087 - mae: 22.4087\n",
            "Epoch 91/100\n",
            "2/2 [==============================] - 0s 11ms/step - loss: 73.8608 - mae: 73.8608\n",
            "Epoch 92/100\n",
            "2/2 [==============================] - 0s 10ms/step - loss: 36.2671 - mae: 36.2671\n",
            "Epoch 93/100\n",
            "2/2 [==============================] - 0s 11ms/step - loss: 16.8481 - mae: 16.8481\n",
            "Epoch 94/100\n",
            "2/2 [==============================] - 0s 9ms/step - loss: 27.3980 - mae: 27.3980\n",
            "Epoch 95/100\n",
            "2/2 [==============================] - 0s 10ms/step - loss: 9.9156 - mae: 9.9156\n",
            "Epoch 96/100\n",
            "2/2 [==============================] - 0s 10ms/step - loss: 18.3262 - mae: 18.3262\n",
            "Epoch 97/100\n",
            "2/2 [==============================] - 0s 9ms/step - loss: 38.1901 - mae: 38.1901\n",
            "Epoch 98/100\n",
            "2/2 [==============================] - 0s 10ms/step - loss: 20.3238 - mae: 20.3238\n",
            "Epoch 99/100\n",
            "2/2 [==============================] - 0s 8ms/step - loss: 30.1810 - mae: 30.1810\n",
            "Epoch 100/100\n",
            "2/2 [==============================] - 0s 9ms/step - loss: 24.5695 - mae: 24.5695\n"
          ]
        },
        {
          "output_type": "execute_result",
          "data": {
            "text/plain": [
              "<keras.src.callbacks.History at 0x795c20c553c0>"
            ]
          },
          "metadata": {},
          "execution_count": 48
        }
      ]
    },
    {
      "cell_type": "code",
      "source": [
        "model_2.evaluate(X_test,y_test)"
      ],
      "metadata": {
        "colab": {
          "base_uri": "https://localhost:8080/"
        },
        "id": "VHF8K1_6tC2Q",
        "outputId": "7d457add-7b83-4a75-d7a5-21e252510b6a"
      },
      "execution_count": null,
      "outputs": [
        {
          "output_type": "stream",
          "name": "stdout",
          "text": [
            "1/1 [==============================] - 0s 169ms/step - loss: 44.1339 - mae: 44.1339\n"
          ]
        },
        {
          "output_type": "execute_result",
          "data": {
            "text/plain": [
              "[44.13394546508789, 44.13394546508789]"
            ]
          },
          "metadata": {},
          "execution_count": 49
        }
      ]
    },
    {
      "cell_type": "code",
      "source": [
        "y_preds2=model_2.predict(X_test)"
      ],
      "metadata": {
        "colab": {
          "base_uri": "https://localhost:8080/"
        },
        "id": "vvT-0uP1uHEm",
        "outputId": "9c45a53f-eb44-4824-8441-63ab2e0e8c96"
      },
      "execution_count": null,
      "outputs": [
        {
          "output_type": "stream",
          "name": "stdout",
          "text": [
            "1/1 [==============================] - 0s 291ms/step\n"
          ]
        }
      ]
    },
    {
      "cell_type": "code",
      "source": [
        "plot_pred(Predictions=y_preds2)"
      ],
      "metadata": {
        "colab": {
          "base_uri": "https://localhost:8080/",
          "height": 445
        },
        "id": "rvuctVRjuRcN",
        "outputId": "20d9d6c7-7c5a-41cf-bab6-c7f5fdff0a10"
      },
      "execution_count": null,
      "outputs": [
        {
          "output_type": "display_data",
          "data": {
            "text/plain": [
              "<Figure size 500x500 with 1 Axes>"
            ],
            "image/png": "[encoded data removed]"
          },
          "metadata": {}
        }
      ]
    },
    {
      "cell_type": "code",
      "source": [
        "mae_1=tf.reduce_mean(tf.abs(y_preds2 - y_test))\n",
        "mse_1=tf.reduce_mean(tf.square(y_preds2- y_test))\n",
        "mae_1,mse_1"
      ],
      "metadata": {
        "id": "zcJkTEkDCaiK",
        "colab": {
          "base_uri": "https://localhost:8080/"
        },
        "outputId": "1cc7ff4c-0e1a-415f-81eb-791f130eab42"
      },
      "execution_count": null,
      "outputs": [
        {
          "output_type": "execute_result",
          "data": {
            "text/plain": [
              "(<tf.Tensor: shape=(), dtype=float32, numpy=44.13394>,\n",
              " <tf.Tensor: shape=(), dtype=float32, numpy=2011.3567>)"
            ]
          },
          "metadata": {},
          "execution_count": 52
        }
      ]
    },
    {
      "cell_type": "code",
      "source": [
        "import pandas as pd\n",
        "all_result = [[\"model1\",mae.numpy(),mse.numpy()],\n",
        "             [\"model2\",mae_1.numpy(),mse_1.numpy()]]"
      ],
      "metadata": {
        "id": "PGh8Bl9bvLp_"
      },
      "execution_count": null,
      "outputs": []
    },
    {
      "cell_type": "code",
      "source": [
        "\n",
        "df = pd.DataFrame(all_result,columns=[\"model\",\"mae\",\"mse\"])\n",
        "df"
      ],
      "metadata": {
        "id": "ehFXQKfzL5U9",
        "colab": {
          "base_uri": "https://localhost:8080/",
          "height": 125
        },
        "outputId": "4ce4ed1a-1e8c-446a-a4ad-96d4319e57f8"
      },
      "execution_count": null,
      "outputs": [
        {
          "output_type": "execute_result",
          "data": {
            "text/plain": [
              "    model        mae          mse\n",
              "0  model1   1.003172     1.711127\n",
              "1  model2  44.133942  2011.356689"
            ],
            "text/html": [
              "\n",
              "  <div id=\"df-d1cf2bc6-6b30-48d4-a3dc-76ee4d08441d\" class=\"colab-df-container\">\n",
              "    <div>\n",
              "<style scoped>\n",
              "    .dataframe tbody tr th:only-of-type {\n",
              "        vertical-align: middle;\n",
              "    }\n",
              "\n",
              "    .dataframe tbody tr th {\n",
              "        vertical-align: top;\n",
              "    }\n",
              "\n",
              "    .dataframe thead th {\n",
              "        text-align: right;\n",
              "    }\n",
              "</style>\n",
              "<table border=\"1\" class=\"dataframe\">\n",
              "  <thead>\n",
              "    <tr style=\"text-align: right;\">\n",
              "      <th></th>\n",
              "      <th>model</th>\n",
              "      <th>mae</th>\n",
              "      <th>mse</th>\n",
              "    </tr>\n",
              "  </thead>\n",
              "  <tbody>\n",
              "    <tr>\n",
              "      <th>0</th>\n",
              "      <td>model1</td>\n",
              "      <td>1.003172</td>\n",
              "      <td>1.711127</td>\n",
              "    </tr>\n",
              "    <tr>\n",
              "      <th>1</th>\n",
              "      <td>model2</td>\n",
              "      <td>44.133942</td>\n",
              "      <td>2011.356689</td>\n",
              "    </tr>\n",
              "  </tbody>\n",
              "</table>\n",
              "</div>\n",
              "    <div class=\"colab-df-buttons\">\n",
              "\n",
              "  <div class=\"colab-df-container\">\n",
              "    <button class=\"colab-df-convert\" onclick=\"convertToInteractive('df-d1cf2bc6-6b30-48d4-a3dc-76ee4d08441d')\"\n",
              "            title=\"Convert this dataframe to an interactive table.\"\n",
              "            style=\"display:none;\">\n",
              "\n",
              "  <svg xmlns=\"http://www.w3.org/2000/svg\" height=\"24px\" viewBox=\"0 -960 960 960\">\n",
              "    <path d=\"M120-120v-720h720v720H120Zm60-500h600v-160H180v160Zm220 220h160v-160H400v160Zm0 220h160v-160H400v160ZM180-400h160v-160H180v160Zm440 0h160v-160H620v160ZM180-180h160v-160H180v160Zm440 0h160v-160H620v160Z\"/>\n",
              "  </svg>\n",
              "    </button>\n",
              "\n",
              "  <style>\n",
              "    .colab-df-container {\n",
              "      display:flex;\n",
              "      gap: 12px;\n",
              "    }\n",
              "\n",
              "    .colab-df-convert {\n",
              "      background-color: #E8F0FE;\n",
              "      border: none;\n",
              "      border-radius: 50%;\n",
              "      cursor: pointer;\n",
              "      display: none;\n",
              "      fill: #1967D2;\n",
              "      height: 32px;\n",
              "      padding: 0 0 0 0;\n",
              "      width: 32px;\n",
              "    }\n",
              "\n",
              "    .colab-df-convert:hover {\n",
              "      background-color: #E2EBFA;\n",
              "      box-shadow: 0px 1px 2px rgba(60, 64, 67, 0.3), 0px 1px 3px 1px rgba(60, 64, 67, 0.15);\n",
              "      fill: #174EA6;\n",
              "    }\n",
              "\n",
              "    .colab-df-buttons div {\n",
              "      margin-bottom: 4px;\n",
              "    }\n",
              "\n",
              "    [theme=dark] .colab-df-convert {\n",
              "      background-color: #3B4455;\n",
              "      fill: #D2E3FC;\n",
              "    }\n",
              "\n",
              "    [theme=dark] .colab-df-convert:hover {\n",
              "      background-color: #434B5C;\n",
              "      box-shadow: 0px 1px 3px 1px rgba(0, 0, 0, 0.15);\n",
              "      filter: drop-shadow(0px 1px 2px rgba(0, 0, 0, 0.3));\n",
              "      fill: #FFFFFF;\n",
              "    }\n",
              "  </style>\n",
              "\n",
              "    <script>\n",
              "      const buttonEl =\n",
              "        document.querySelector('#df-d1cf2bc6-6b30-48d4-a3dc-76ee4d08441d button.colab-df-convert');\n",
              "      buttonEl.style.display =\n",
              "        google.colab.kernel.accessAllowed ? 'block' : 'none';\n",
              "\n",
              "      async function convertToInteractive(key) {\n",
              "        const element = document.querySelector('#df-d1cf2bc6-6b30-48d4-a3dc-76ee4d08441d');\n",
              "        const dataTable =\n",
              "          await google.colab.kernel.invokeFunction('convertToInteractive',\n",
              "                                                    [key], {});\n",
              "        if (!dataTable) return;\n",
              "\n",
              "        const docLinkHtml = 'Like what you see? Visit the ' +\n",
              "          '<a target=\"_blank\" href=https://colab.research.google.com/notebooks/data_table.ipynb>data table notebook</a>'\n",
              "          + ' to learn more about interactive tables.';\n",
              "        element.innerHTML = '';\n",
              "        dataTable['output_type'] = 'display_data';\n",
              "        await google.colab.output.renderOutput(dataTable, element);\n",
              "        const docLink = document.createElement('div');\n",
              "        docLink.innerHTML = docLinkHtml;\n",
              "        element.appendChild(docLink);\n",
              "      }\n",
              "    </script>\n",
              "  </div>\n",
              "\n",
              "\n",
              "<div id=\"df-b2ae6762-3821-46b3-9d64-201eb7f0b7fe\">\n",
              "  <button class=\"colab-df-quickchart\" onclick=\"quickchart('df-b2ae6762-3821-46b3-9d64-201eb7f0b7fe')\"\n",
              "            title=\"Suggest charts\"\n",
              "            style=\"display:none;\">\n",
              "\n",
              "<svg xmlns=\"http://www.w3.org/2000/svg\" height=\"24px\"viewBox=\"0 0 24 24\"\n",
              "     width=\"24px\">\n",
              "    <g>\n",
              "        <path d=\"M19 3H5c-1.1 0-2 .9-2 2v14c0 1.1.9 2 2 2h14c1.1 0 2-.9 2-2V5c0-1.1-.9-2-2-2zM9 17H7v-7h2v7zm4 0h-2V7h2v10zm4 0h-2v-4h2v4z\"/>\n",
              "    </g>\n",
              "</svg>\n",
              "  </button>\n",
              "\n",
              "<style>\n",
              "  .colab-df-quickchart {\n",
              "      --bg-color: #E8F0FE;\n",
              "      --fill-color: #1967D2;\n",
              "      --hover-bg-color: #E2EBFA;\n",
              "      --hover-fill-color: #174EA6;\n",
              "      --disabled-fill-color: #AAA;\n",
              "      --disabled-bg-color: #DDD;\n",
              "  }\n",
              "\n",
              "  [theme=dark] .colab-df-quickchart {\n",
              "      --bg-color: #3B4455;\n",
              "      --fill-color: #D2E3FC;\n",
              "      --hover-bg-color: #434B5C;\n",
              "      --hover-fill-color: #FFFFFF;\n",
              "      --disabled-bg-color: #3B4455;\n",
              "      --disabled-fill-color: #666;\n",
              "  }\n",
              "\n",
              "  .colab-df-quickchart {\n",
              "    background-color: var(--bg-color);\n",
              "    border: none;\n",
              "    border-radius: 50%;\n",
              "    cursor: pointer;\n",
              "    display: none;\n",
              "    fill: var(--fill-color);\n",
              "    height: 32px;\n",
              "    padding: 0;\n",
              "    width: 32px;\n",
              "  }\n",
              "\n",
              "  .colab-df-quickchart:hover {\n",
              "    background-color: var(--hover-bg-color);\n",
              "    box-shadow: 0 1px 2px rgba(60, 64, 67, 0.3), 0 1px 3px 1px rgba(60, 64, 67, 0.15);\n",
              "    fill: var(--button-hover-fill-color);\n",
              "  }\n",
              "\n",
              "  .colab-df-quickchart-complete:disabled,\n",
              "  .colab-df-quickchart-complete:disabled:hover {\n",
              "    background-color: var(--disabled-bg-color);\n",
              "    fill: var(--disabled-fill-color);\n",
              "    box-shadow: none;\n",
              "  }\n",
              "\n",
              "  .colab-df-spinner {\n",
              "    border: 2px solid var(--fill-color);\n",
              "    border-color: transparent;\n",
              "    border-bottom-color: var(--fill-color);\n",
              "    animation:\n",
              "      spin 1s steps(1) infinite;\n",
              "  }\n",
              "\n",
              "  @keyframes spin {\n",
              "    0% {\n",
              "      border-color: transparent;\n",
              "      border-bottom-color: var(--fill-color);\n",
              "      border-left-color: var(--fill-color);\n",
              "    }\n",
              "    20% {\n",
              "      border-color: transparent;\n",
              "      border-left-color: var(--fill-color);\n",
              "      border-top-color: var(--fill-color);\n",
              "    }\n",
              "    30% {\n",
              "      border-color: transparent;\n",
              "      border-left-color: var(--fill-color);\n",
              "      border-top-color: var(--fill-color);\n",
              "      border-right-color: var(--fill-color);\n",
              "    }\n",
              "    40% {\n",
              "      border-color: transparent;\n",
              "      border-right-color: var(--fill-color);\n",
              "      border-top-color: var(--fill-color);\n",
              "    }\n",
              "    60% {\n",
              "      border-color: transparent;\n",
              "      border-right-color: var(--fill-color);\n",
              "    }\n",
              "    80% {\n",
              "      border-color: transparent;\n",
              "      border-right-color: var(--fill-color);\n",
              "      border-bottom-color: var(--fill-color);\n",
              "    }\n",
              "    90% {\n",
              "      border-color: transparent;\n",
              "      border-bottom-color: var(--fill-color);\n",
              "    }\n",
              "  }\n",
              "</style>\n",
              "\n",
              "  <script>\n",
              "    async function quickchart(key) {\n",
              "      const quickchartButtonEl =\n",
              "        document.querySelector('#' + key + ' button');\n",
              "      quickchartButtonEl.disabled = true;  // To prevent multiple clicks.\n",
              "      quickchartButtonEl.classList.add('colab-df-spinner');\n",
              "      try {\n",
              "        const charts = await google.colab.kernel.invokeFunction(\n",
              "            'suggestCharts', [key], {});\n",
              "      } catch (error) {\n",
              "        console.error('Error during call to suggestCharts:', error);\n",
              "      }\n",
              "      quickchartButtonEl.classList.remove('colab-df-spinner');\n",
              "      quickchartButtonEl.classList.add('colab-df-quickchart-complete');\n",
              "    }\n",
              "    (() => {\n",
              "      let quickchartButtonEl =\n",
              "        document.querySelector('#df-b2ae6762-3821-46b3-9d64-201eb7f0b7fe button');\n",
              "      quickchartButtonEl.style.display =\n",
              "        google.colab.kernel.accessAllowed ? 'block' : 'none';\n",
              "    })();\n",
              "  </script>\n",
              "</div>\n",
              "\n",
              "  <div id=\"id_65fe08ea-e0c6-494d-ada2-02e27886fb2e\">\n",
              "    <style>\n",
              "      .colab-df-generate {\n",
              "        background-color: #E8F0FE;\n",
              "        border: none;\n",
              "        border-radius: 50%;\n",
              "        cursor: pointer;\n",
              "        display: none;\n",
              "        fill: #1967D2;\n",
              "        height: 32px;\n",
              "        padding: 0 0 0 0;\n",
              "        width: 32px;\n",
              "      }\n",
              "\n",
              "      .colab-df-generate:hover {\n",
              "        background-color: #E2EBFA;\n",
              "        box-shadow: 0px 1px 2px rgba(60, 64, 67, 0.3), 0px 1px 3px 1px rgba(60, 64, 67, 0.15);\n",
              "        fill: #174EA6;\n",
              "      }\n",
              "\n",
              "      [theme=dark] .colab-df-generate {\n",
              "        background-color: #3B4455;\n",
              "        fill: #D2E3FC;\n",
              "      }\n",
              "\n",
              "      [theme=dark] .colab-df-generate:hover {\n",
              "        background-color: #434B5C;\n",
              "        box-shadow: 0px 1px 3px 1px rgba(0, 0, 0, 0.15);\n",
              "        filter: drop-shadow(0px 1px 2px rgba(0, 0, 0, 0.3));\n",
              "        fill: #FFFFFF;\n",
              "      }\n",
              "    </style>\n",
              "    <button class=\"colab-df-generate\" onclick=\"generateWithVariable('df')\"\n",
              "            title=\"Generate code using this dataframe.\"\n",
              "            style=\"display:none;\">\n",
              "\n",
              "  <svg xmlns=\"http://www.w3.org/2000/svg\" height=\"24px\"viewBox=\"0 0 24 24\"\n",
              "       width=\"24px\">\n",
              "    <path d=\"M7,19H8.4L18.45,9,17,7.55,7,17.6ZM5,21V16.75L18.45,3.32a2,2,0,0,1,2.83,0l1.4,1.43a1.91,1.91,0,0,1,.58,1.4,1.91,1.91,0,0,1-.58,1.4L9.25,21ZM18.45,9,17,7.55Zm-12,3A5.31,5.31,0,0,0,4.9,8.1,5.31,5.31,0,0,0,1,6.5,5.31,5.31,0,0,0,4.9,4.9,5.31,5.31,0,0,0,6.5,1,5.31,5.31,0,0,0,8.1,4.9,5.31,5.31,0,0,0,12,6.5,5.46,5.46,0,0,0,6.5,12Z\"/>\n",
              "  </svg>\n",
              "    </button>\n",
              "    <script>\n",
              "      (() => {\n",
              "      const buttonEl =\n",
              "        document.querySelector('#id_65fe08ea-e0c6-494d-ada2-02e27886fb2e button.colab-df-generate');\n",
              "      buttonEl.style.display =\n",
              "        google.colab.kernel.accessAllowed ? 'block' : 'none';\n",
              "\n",
              "      buttonEl.onclick = () => {\n",
              "        google.colab.notebook.generateWithVariable('df');\n",
              "      }\n",
              "      })();\n",
              "    </script>\n",
              "  </div>\n",
              "\n",
              "    </div>\n",
              "  </div>\n"
            ],
            "application/vnd.google.colaboratory.intrinsic+json": {
              "type": "dataframe",
              "variable_name": "df",
              "summary": "{\n  \"name\": \"df\",\n  \"rows\": 2,\n  \"fields\": [\n    {\n      \"column\": \"model\",\n      \"properties\": {\n        \"dtype\": \"string\",\n        \"num_unique_values\": 2,\n        \"samples\": [\n          \"model2\",\n          \"model1\"\n        ],\n        \"semantic_type\": \"\",\n        \"description\": \"\"\n      }\n    },\n    {\n      \"column\": \"mae\",\n      \"properties\": {\n        \"dtype\": \"float32\",\n        \"num_unique_values\": 2,\n        \"samples\": [\n          44.133941650390625,\n          1.0031722784042358\n        ],\n        \"semantic_type\": \"\",\n        \"description\": \"\"\n      }\n    },\n    {\n      \"column\": \"mse\",\n      \"properties\": {\n        \"dtype\": \"float32\",\n        \"num_unique_values\": 2,\n        \"samples\": [\n          2011.356689453125,\n          1.7111270427703857\n        ],\n        \"semantic_type\": \"\",\n        \"description\": \"\"\n      }\n    }\n  ]\n}"
            }
          },
          "metadata": {},
          "execution_count": 54
        }
      ]
    },
    {
      "cell_type": "markdown",
      "source": [
        "*Model1 Performed the best*"
      ],
      "metadata": {
        "id": "z430MHBkEKc3"
      }
    },
    {
      "cell_type": "code",
      "source": [
        "model_1.summary()"
      ],
      "metadata": {
        "colab": {
          "base_uri": "https://localhost:8080/"
        },
        "id": "NTEi7XCfZnsS",
        "outputId": "b3aa31c5-ee00-4b30-bba8-024389f9976d"
      },
      "execution_count": null,
      "outputs": [
        {
          "output_type": "stream",
          "name": "stdout",
          "text": [
            "Model: \"sequential_3\"\n",
            "_________________________________________________________________\n",
            " Layer (type)                Output Shape              Param #   \n",
            "=================================================================\n",
            " dense_7 (Dense)             (None, 1)                 2         \n",
            "                                                                 \n",
            " dense_8 (Dense)             (None, 10)                20        \n",
            "                                                                 \n",
            "=================================================================\n",
            "Total params: 22 (88.00 Byte)\n",
            "Trainable params: 22 (88.00 Byte)\n",
            "Non-trainable params: 0 (0.00 Byte)\n",
            "_________________________________________________________________\n"
          ]
        }
      ]
    },
    {
      "cell_type": "markdown",
      "source": [
        "**For tracking the model performances can see**\n",
        "* TensorBoard (visualizes the model performance)\n",
        "* weights and biases"
      ],
      "metadata": {
        "id": "jVqqRaHuDln5"
      }
    },
    {
      "cell_type": "markdown",
      "source": [
        "**Saving the model**"
      ],
      "metadata": {
        "id": "FNJxQPehETI3"
      }
    },
    {
      "cell_type": "code",
      "source": [
        "# saved format\n",
        "model_1.save(\"saved model\") #it gets in separate folder"
      ],
      "metadata": {
        "id": "aaQjUpmpEUzu"
      },
      "execution_count": null,
      "outputs": []
    },
    {
      "cell_type": "code",
      "source": [
        "#HDF5 formal where the model is saved universally\n",
        "model_1.save(\"saved_HDF5_model.h5\") #just a single file"
      ],
      "metadata": {
        "colab": {
          "base_uri": "https://localhost:8080/"
        },
        "id": "0fF3OFTSFqg5",
        "outputId": "43799b9b-e80c-4e2c-fb96-4ca936e0eb21"
      },
      "execution_count": null,
      "outputs": [
        {
          "output_type": "stream",
          "name": "stderr",
          "text": [
            "/usr/local/lib/python3.10/dist-packages/keras/src/engine/training.py:3103: UserWarning: You are saving your model as an HDF5 file via `model.save()`. This file format is considered legacy. We recommend using instead the native Keras format, e.g. `model.save('my_model.keras')`.\n",
            "  saving_api.save_model(\n"
          ]
        }
      ]
    },
    {
      "cell_type": "code",
      "source": [
        "#To check wether the model is saved correctly we use load()\n",
        "loaded_saved_model= tf.keras.models.load_model(\"/content/saved model\")\n",
        "loaded_saved_model.summary()"
      ],
      "metadata": {
        "colab": {
          "base_uri": "https://localhost:8080/"
        },
        "id": "qUYWbUcmGQj_",
        "outputId": "ab7cf5c4-aec3-40d2-9af6-e7930ac4f367"
      },
      "execution_count": null,
      "outputs": [
        {
          "output_type": "stream",
          "name": "stdout",
          "text": [
            "Model: \"sequential_3\"\n",
            "_________________________________________________________________\n",
            " Layer (type)                Output Shape              Param #   \n",
            "=================================================================\n",
            " dense_7 (Dense)             (None, 1)                 2         \n",
            "                                                                 \n",
            " dense_8 (Dense)             (None, 10)                20        \n",
            "                                                                 \n",
            "=================================================================\n",
            "Total params: 22 (88.00 Byte)\n",
            "Trainable params: 22 (88.00 Byte)\n",
            "Non-trainable params: 0 (0.00 Byte)\n",
            "_________________________________________________________________\n"
          ]
        }
      ]
    },
    {
      "cell_type": "code",
      "source": [
        "model_1.summary()"
      ],
      "metadata": {
        "colab": {
          "base_uri": "https://localhost:8080/"
        },
        "id": "lKkZELZ7HImY",
        "outputId": "e5e39491-26e8-44bf-d33a-3b503bbfbadc"
      },
      "execution_count": null,
      "outputs": [
        {
          "output_type": "stream",
          "name": "stdout",
          "text": [
            "Model: \"sequential_3\"\n",
            "_________________________________________________________________\n",
            " Layer (type)                Output Shape              Param #   \n",
            "=================================================================\n",
            " dense_7 (Dense)             (None, 1)                 2         \n",
            "                                                                 \n",
            " dense_8 (Dense)             (None, 10)                20        \n",
            "                                                                 \n",
            "=================================================================\n",
            "Total params: 22 (88.00 Byte)\n",
            "Trainable params: 22 (88.00 Byte)\n",
            "Non-trainable params: 0 (0.00 Byte)\n",
            "_________________________________________________________________\n"
          ]
        }
      ]
    },
    {
      "cell_type": "code",
      "source": [
        "#compare both model and saved model predictions\n",
        "model_1_preds = model_1.predict(X_test)\n",
        "loaded_preds= loaded_saved_model.predict(X_test)\n",
        "tf.squeeze(model_1_preds)==tf.squeeze(loaded_preds)"
      ],
      "metadata": {
        "colab": {
          "base_uri": "https://localhost:8080/"
        },
        "id": "vP4UpF_xHWv2",
        "outputId": "091ad46d-bd47-40aa-83aa-af0f1d828aae"
      },
      "execution_count": null,
      "outputs": [
        {
          "output_type": "stream",
          "name": "stderr",
          "text": [
            "WARNING:tensorflow:5 out of the last 6 calls to <function Model.make_predict_function.<locals>.predict_function at 0x795c10cb1cf0> triggered tf.function retracing. Tracing is expensive and the excessive number of tracings could be due to (1) creating @tf.function repeatedly in a loop, (2) passing tensors with different shapes, (3) passing Python objects instead of tensors. For (1), please define your @tf.function outside of the loop. For (2), @tf.function has reduce_retracing=True option that can avoid unnecessary retracing. For (3), please refer to https://www.tensorflow.org/guide/function#controlling_retracing and https://www.tensorflow.org/api_docs/python/tf/function for  more details.\n"
          ]
        },
        {
          "output_type": "stream",
          "name": "stdout",
          "text": [
            "1/1 [==============================] - 0s 83ms/step\n"
          ]
        },
        {
          "output_type": "stream",
          "name": "stderr",
          "text": [
            "WARNING:tensorflow:6 out of the last 7 calls to <function Model.make_predict_function.<locals>.predict_function at 0x795c10dbe7a0> triggered tf.function retracing. Tracing is expensive and the excessive number of tracings could be due to (1) creating @tf.function repeatedly in a loop, (2) passing tensors with different shapes, (3) passing Python objects instead of tensors. For (1), please define your @tf.function outside of the loop. For (2), @tf.function has reduce_retracing=True option that can avoid unnecessary retracing. For (3), please refer to https://www.tensorflow.org/guide/function#controlling_retracing and https://www.tensorflow.org/api_docs/python/tf/function for  more details.\n"
          ]
        },
        {
          "output_type": "stream",
          "name": "stdout",
          "text": [
            "1/1 [==============================] - 0s 78ms/step\n"
          ]
        },
        {
          "output_type": "execute_result",
          "data": {
            "text/plain": [
              "<tf.Tensor: shape=(10, 10), dtype=bool, numpy=\n",
              "array([[ True,  True,  True,  True,  True,  True,  True,  True,  True,\n",
              "         True],\n",
              "       [ True,  True,  True,  True,  True,  True,  True,  True,  True,\n",
              "         True],\n",
              "       [ True,  True,  True,  True,  True,  True,  True,  True,  True,\n",
              "         True],\n",
              "       [ True,  True,  True,  True,  True,  True,  True,  True,  True,\n",
              "         True],\n",
              "       [ True,  True,  True,  True,  True,  True,  True,  True,  True,\n",
              "         True],\n",
              "       [ True,  True,  True,  True,  True,  True,  True,  True,  True,\n",
              "         True],\n",
              "       [ True,  True,  True,  True,  True,  True,  True,  True,  True,\n",
              "         True],\n",
              "       [ True,  True,  True,  True,  True,  True,  True,  True,  True,\n",
              "         True],\n",
              "       [ True,  True,  True,  True,  True,  True,  True,  True,  True,\n",
              "         True],\n",
              "       [ True,  True,  True,  True,  True,  True,  True,  True,  True,\n",
              "         True]])>"
            ]
          },
          "metadata": {},
          "execution_count": 60
        }
      ]
    },
    {
      "cell_type": "code",
      "source": [
        "tf.metrics.mean_absolute_error(y_true=y_test,y_pred=model_1_preds) == tf.metrics.mean_absolute_error(y_true=y_test,y_pred=loaded_preds)"
      ],
      "metadata": {
        "colab": {
          "base_uri": "https://localhost:8080/"
        },
        "id": "hkwdHb0yH0Gv",
        "outputId": "b57d14a7-1f86-4c9c-f6eb-10b7c5f322cf"
      },
      "execution_count": null,
      "outputs": [
        {
          "output_type": "execute_result",
          "data": {
            "text/plain": [
              "<tf.Tensor: shape=(10,), dtype=bool, numpy=\n",
              "array([ True,  True,  True,  True,  True,  True,  True,  True,  True,\n",
              "        True])>"
            ]
          },
          "metadata": {},
          "execution_count": 61
        }
      ]
    },
    {
      "cell_type": "markdown",
      "source": [
        "**Predicting on large samples**\n"
      ],
      "metadata": {
        "id": "BRRcFk9mZz0B"
      }
    }
  ],
  "metadata": {
    "accelerator": "GPU",
    "colab": {
      "gpuType": "T4",
      "provenance": []
    },
    "kernelspec": {
      "display_name": "Python 3",
      "name": "python3"
    },
    "language_info": {
      "name": "python"
    }
  },
  "nbformat": 4,
  "nbformat_minor": 0
}