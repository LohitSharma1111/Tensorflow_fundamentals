{
  "nbformat": 4,
  "nbformat_minor": 0,
  "metadata": {
    "colab": {
      "provenance": [],
      "gpuType": "T4"
    },
    "kernelspec": {
      "name": "python3",
      "display_name": "Python 3"
    },
    "language_info": {
      "name": "python"
    },
    "accelerator": "GPU"
  },
  "cells": [
    {
      "cell_type": "markdown",
      "source": [
        "* intro to tensors\n",
        "* Getting info from tensors\n",
        "* Manipulating tensors\n",
        "* tensors and numpy\n",
        "* using GPU or TPU\n",
        "* using tf.function to improve the speed of basic functions"
      ],
      "metadata": {
        "id": "6Ac43QHfz3eN"
      }
    },
    {
      "cell_type": "code",
      "source": [
        "import tensorflow as tf\n",
        "print(tf.__version__)"
      ],
      "metadata": {
        "colab": {
          "base_uri": "https://localhost:8080/"
        },
        "id": "yNPb-M6z0S5l",
        "outputId": "b0d65f6a-f4c2-4ad3-a20a-e654548bbade"
      },
      "execution_count": null,
      "outputs": [
        {
          "output_type": "stream",
          "name": "stdout",
          "text": [
            "2.15.0\n"
          ]
        }
      ]
    },
    {
      "cell_type": "code",
      "source": [
        "# creating tensor with tf.constant()\n",
        "scalar = tf.constant(9)\n",
        "scalar"
      ],
      "metadata": {
        "colab": {
          "base_uri": "https://localhost:8080/"
        },
        "id": "MmRCajaF06qV",
        "outputId": "5dca7123-d298-4610-f366-592209526935"
      },
      "execution_count": null,
      "outputs": [
        {
          "output_type": "execute_result",
          "data": {
            "text/plain": [
              "<tf.Tensor: shape=(), dtype=int32, numpy=9>"
            ]
          },
          "metadata": {},
          "execution_count": 2
        }
      ]
    },
    {
      "cell_type": "code",
      "source": [
        "#to check the dimensions of the tensor\n",
        "scalar.ndim"
      ],
      "metadata": {
        "id": "GrzQ8k_a45nV",
        "colab": {
          "base_uri": "https://localhost:8080/"
        },
        "outputId": "26e1b997-9610-4c14-ae39-b7c76255fe6d"
      },
      "execution_count": null,
      "outputs": [
        {
          "output_type": "execute_result",
          "data": {
            "text/plain": [
              "0"
            ]
          },
          "metadata": {},
          "execution_count": 3
        }
      ]
    },
    {
      "cell_type": "code",
      "source": [
        "vector  = tf.constant([[1,2],\n",
        "                       [1,2]])\n",
        "vector"
      ],
      "metadata": {
        "id": "g6McC25y5TZG",
        "colab": {
          "base_uri": "https://localhost:8080/"
        },
        "outputId": "0741c9ef-02d7-4037-9de2-716a2d8a334b"
      },
      "execution_count": null,
      "outputs": [
        {
          "output_type": "execute_result",
          "data": {
            "text/plain": [
              "<tf.Tensor: shape=(2, 2), dtype=int32, numpy=\n",
              "array([[1, 2],\n",
              "       [1, 2]], dtype=int32)>"
            ]
          },
          "metadata": {},
          "execution_count": 4
        }
      ]
    },
    {
      "cell_type": "code",
      "source": [
        "vector.ndim"
      ],
      "metadata": {
        "id": "htG8l60m5wYo",
        "colab": {
          "base_uri": "https://localhost:8080/"
        },
        "outputId": "99e28a52-6182-48a9-e36b-b63ee91fe717"
      },
      "execution_count": null,
      "outputs": [
        {
          "output_type": "execute_result",
          "data": {
            "text/plain": [
              "2"
            ]
          },
          "metadata": {},
          "execution_count": 5
        }
      ]
    },
    {
      "cell_type": "markdown",
      "source": [
        "* scalar is a single number\n",
        "* vector is a number with direction\n",
        "* matrix is a 2-d array of numbers\n",
        "* tensor n dimensional array of numbers (n any dimensions, 0 dimension is a scalar and more than 0 is a vector)"
      ],
      "metadata": {
        "id": "bYDdVIKX_I-5"
      }
    },
    {
      "cell_type": "markdown",
      "source": [
        "**Now creating tensors with tf.variable()**"
      ],
      "metadata": {
        "id": "6wmtcJ9p_c-C"
      }
    },
    {
      "cell_type": "code",
      "source": [
        "unchangeable = tf.constant([12,3])\n",
        "changeable = tf.Variable([12,3])\n",
        "unchangeable, changeable"
      ],
      "metadata": {
        "id": "8XKGJ9gT_iy8",
        "colab": {
          "base_uri": "https://localhost:8080/"
        },
        "outputId": "c755a9e2-fa56-4e82-a410-dae99eb035f3"
      },
      "execution_count": null,
      "outputs": [
        {
          "output_type": "execute_result",
          "data": {
            "text/plain": [
              "(<tf.Tensor: shape=(2,), dtype=int32, numpy=array([12,  3], dtype=int32)>,\n",
              " <tf.Variable 'Variable:0' shape=(2,) dtype=int32, numpy=array([12,  3], dtype=int32)>)"
            ]
          },
          "metadata": {},
          "execution_count": 6
        }
      ]
    },
    {
      "cell_type": "code",
      "source": [
        "#lets change the elements of the tensor using .assign()\n",
        "changeable[0].assign(9)\n",
        "#we cant do the same thing with unchangable tensor i.e (tf.constant())"
      ],
      "metadata": {
        "id": "D-CE5JG_n9lT",
        "colab": {
          "base_uri": "https://localhost:8080/"
        },
        "outputId": "3740627c-7753-4242-fd31-94a8fa86ceb7"
      },
      "execution_count": null,
      "outputs": [
        {
          "output_type": "execute_result",
          "data": {
            "text/plain": [
              "<tf.Variable 'UnreadVariable' shape=(2,) dtype=int32, numpy=array([9, 3], dtype=int32)>"
            ]
          },
          "metadata": {},
          "execution_count": 7
        }
      ]
    },
    {
      "cell_type": "markdown",
      "source": [
        "**Creating Random tensors**"
      ],
      "metadata": {
        "id": "BmwkwQANpQ7F"
      }
    },
    {
      "cell_type": "code",
      "source": [
        "\n",
        "\n",
        "random1 = tf.random.Generator.from_seed(32)\n",
        "random1 = random1.normal(shape=(2,2))\n",
        "random1"
      ],
      "metadata": {
        "id": "MhUTf-9upVDE",
        "colab": {
          "base_uri": "https://localhost:8080/"
        },
        "outputId": "155e4de3-1189-4335-c6a4-4b6cfdbbf6d4"
      },
      "execution_count": null,
      "outputs": [
        {
          "output_type": "execute_result",
          "data": {
            "text/plain": [
              "<tf.Tensor: shape=(2, 2), dtype=float32, numpy=\n",
              "array([[0.7901182 , 1.585549  ],\n",
              "       [0.4356279 , 0.23645182]], dtype=float32)>"
            ]
          },
          "metadata": {},
          "execution_count": 8
        }
      ]
    },
    {
      "cell_type": "code",
      "source": [
        "random2 = tf.random.Generator.from_seed(32)\n",
        "random2 = random2.normal(shape=(2,2))\n",
        "random2"
      ],
      "metadata": {
        "id": "sh4slN0-qcg6",
        "colab": {
          "base_uri": "https://localhost:8080/"
        },
        "outputId": "8717e5a5-a8a2-4c82-fb49-fa9b5eae3d26"
      },
      "execution_count": null,
      "outputs": [
        {
          "output_type": "execute_result",
          "data": {
            "text/plain": [
              "<tf.Tensor: shape=(2, 2), dtype=float32, numpy=\n",
              "array([[0.7901182 , 1.585549  ],\n",
              "       [0.4356279 , 0.23645182]], dtype=float32)>"
            ]
          },
          "metadata": {},
          "execution_count": 9
        }
      ]
    },
    {
      "cell_type": "code",
      "source": [
        "random1 == random2"
      ],
      "metadata": {
        "id": "aZzgW2OJrOPQ",
        "colab": {
          "base_uri": "https://localhost:8080/"
        },
        "outputId": "a8cc6051-fc47-4466-8948-ee6e80cb55bc"
      },
      "execution_count": null,
      "outputs": [
        {
          "output_type": "execute_result",
          "data": {
            "text/plain": [
              "<tf.Tensor: shape=(2, 2), dtype=bool, numpy=\n",
              "array([[ True,  True],\n",
              "       [ True,  True]])>"
            ]
          },
          "metadata": {},
          "execution_count": 10
        }
      ]
    },
    {
      "cell_type": "markdown",
      "source": [
        "**Shuffle the order of tensors**\n",
        "\n",
        "Shuffling will be done when there is same data continuously for certain amount\n",
        "for example if theres same breed dog image in first 10000 images the algo only learns the characteristics of that one particular dog until it reaches the 10k+ so there the shuffling comes into picture"
      ],
      "metadata": {
        "id": "Vcp0QLnxtRP_"
      }
    },
    {
      "cell_type": "code",
      "source": [
        "not_shuffled = tf.constant([[1,2,4],\n",
        "                            [2,3,4],\n",
        "                            [24,12,3]])\n",
        "not_shuffled"
      ],
      "metadata": {
        "id": "i66y-XBWtU_7",
        "colab": {
          "base_uri": "https://localhost:8080/"
        },
        "outputId": "ca317aad-7e8b-41ac-cfa3-1016a0d44c10"
      },
      "execution_count": null,
      "outputs": [
        {
          "output_type": "execute_result",
          "data": {
            "text/plain": [
              "<tf.Tensor: shape=(3, 3), dtype=int32, numpy=\n",
              "array([[ 1,  2,  4],\n",
              "       [ 2,  3,  4],\n",
              "       [24, 12,  3]], dtype=int32)>"
            ]
          },
          "metadata": {},
          "execution_count": 11
        }
      ]
    },
    {
      "cell_type": "code",
      "source": [
        "tf.random.set_seed(32)\n",
        "tf.random.shuffle(not_shuffled)\n"
      ],
      "metadata": {
        "id": "7iKOTMrCx-qL",
        "colab": {
          "base_uri": "https://localhost:8080/"
        },
        "outputId": "20389351-0d62-418b-a1bf-95bcc4472893"
      },
      "execution_count": null,
      "outputs": [
        {
          "output_type": "execute_result",
          "data": {
            "text/plain": [
              "<tf.Tensor: shape=(3, 3), dtype=int32, numpy=\n",
              "array([[24, 12,  3],\n",
              "       [ 1,  2,  4],\n",
              "       [ 2,  3,  4]], dtype=int32)>"
            ]
          },
          "metadata": {},
          "execution_count": 12
        }
      ]
    },
    {
      "cell_type": "markdown",
      "source": [
        "Other ways to create Tensors"
      ],
      "metadata": {
        "id": "QUn4smPVAR4r"
      }
    },
    {
      "cell_type": "code",
      "source": [
        "tf.ones(shape=(10,2))"
      ],
      "metadata": {
        "id": "7xXRlvXI09gU",
        "colab": {
          "base_uri": "https://localhost:8080/"
        },
        "outputId": "8e82aae0-5c7b-4765-881c-6f69f1894a63"
      },
      "execution_count": null,
      "outputs": [
        {
          "output_type": "execute_result",
          "data": {
            "text/plain": [
              "<tf.Tensor: shape=(10, 2), dtype=float32, numpy=\n",
              "array([[1., 1.],\n",
              "       [1., 1.],\n",
              "       [1., 1.],\n",
              "       [1., 1.],\n",
              "       [1., 1.],\n",
              "       [1., 1.],\n",
              "       [1., 1.],\n",
              "       [1., 1.],\n",
              "       [1., 1.],\n",
              "       [1., 1.]], dtype=float32)>"
            ]
          },
          "metadata": {},
          "execution_count": 13
        }
      ]
    },
    {
      "cell_type": "code",
      "source": [
        "tf.zeros(shape=(5,5))"
      ],
      "metadata": {
        "id": "hJLCUc6JAaFF",
        "colab": {
          "base_uri": "https://localhost:8080/"
        },
        "outputId": "99f9226a-38c1-4e94-df97-587cfee7ea0d"
      },
      "execution_count": null,
      "outputs": [
        {
          "output_type": "execute_result",
          "data": {
            "text/plain": [
              "<tf.Tensor: shape=(5, 5), dtype=float32, numpy=\n",
              "array([[0., 0., 0., 0., 0.],\n",
              "       [0., 0., 0., 0., 0.],\n",
              "       [0., 0., 0., 0., 0.],\n",
              "       [0., 0., 0., 0., 0.],\n",
              "       [0., 0., 0., 0., 0.]], dtype=float32)>"
            ]
          },
          "metadata": {},
          "execution_count": 14
        }
      ]
    },
    {
      "cell_type": "markdown",
      "source": [
        "Can turn numpy arrays to tensors the only difference between\n",
        "\n",
        "them is Tensors runs faster on the GPU.otherwise both are same\n",
        "\n",
        "---\n",
        "\n"
      ],
      "metadata": {
        "id": "fL744pNMB1NR"
      }
    },
    {
      "cell_type": "code",
      "source": [
        "\n",
        "import numpy as np\n",
        "array = np.arange(1,37,dtype=np.int32)\n",
        "array"
      ],
      "metadata": {
        "id": "LzcFPh7tCNI0",
        "colab": {
          "base_uri": "https://localhost:8080/"
        },
        "outputId": "fa22a0cd-98bc-46da-e839-29ecfdcc8b07"
      },
      "execution_count": null,
      "outputs": [
        {
          "output_type": "execute_result",
          "data": {
            "text/plain": [
              "array([ 1,  2,  3,  4,  5,  6,  7,  8,  9, 10, 11, 12, 13, 14, 15, 16, 17,\n",
              "       18, 19, 20, 21, 22, 23, 24, 25, 26, 27, 28, 29, 30, 31, 32, 33, 34,\n",
              "       35, 36], dtype=int32)"
            ]
          },
          "metadata": {},
          "execution_count": 15
        }
      ]
    },
    {
      "cell_type": "code",
      "source": [
        "#to convert the abpve array to tensor\n",
        "tf.constant(array,shape=(3,6,2)) #2=dimensions, 3 = rows , 4=columns"
      ],
      "metadata": {
        "id": "bTcA2tHYC2YA",
        "colab": {
          "base_uri": "https://localhost:8080/"
        },
        "outputId": "60290540-de48-417f-a6c6-918e0ee5f2e3"
      },
      "execution_count": null,
      "outputs": [
        {
          "output_type": "execute_result",
          "data": {
            "text/plain": [
              "<tf.Tensor: shape=(3, 6, 2), dtype=int32, numpy=\n",
              "array([[[ 1,  2],\n",
              "        [ 3,  4],\n",
              "        [ 5,  6],\n",
              "        [ 7,  8],\n",
              "        [ 9, 10],\n",
              "        [11, 12]],\n",
              "\n",
              "       [[13, 14],\n",
              "        [15, 16],\n",
              "        [17, 18],\n",
              "        [19, 20],\n",
              "        [21, 22],\n",
              "        [23, 24]],\n",
              "\n",
              "       [[25, 26],\n",
              "        [27, 28],\n",
              "        [29, 30],\n",
              "        [31, 32],\n",
              "        [33, 34],\n",
              "        [35, 36]]], dtype=int32)>"
            ]
          },
          "metadata": {},
          "execution_count": 16
        }
      ]
    },
    {
      "cell_type": "markdown",
      "source": [
        "The above matrix can be done by just multiplying the D*R*C\n",
        "\n",
        "3x6x2 = the numpy array"
      ],
      "metadata": {
        "id": "exm5cypsFdcS"
      }
    },
    {
      "cell_type": "code",
      "source": [
        "array2 = np.array([[2,2,1],\n",
        "                   [3,5,6],\n",
        "                   [52,2,5]])\n",
        "array2"
      ],
      "metadata": {
        "id": "t7lWAwlDC6yZ",
        "colab": {
          "base_uri": "https://localhost:8080/"
        },
        "outputId": "c546ddf4-49cb-4788-d7d1-6d48ba03753f"
      },
      "execution_count": null,
      "outputs": [
        {
          "output_type": "execute_result",
          "data": {
            "text/plain": [
              "array([[ 2,  2,  1],\n",
              "       [ 3,  5,  6],\n",
              "       [52,  2,  5]])"
            ]
          },
          "metadata": {},
          "execution_count": 17
        }
      ]
    },
    {
      "cell_type": "code",
      "source": [
        "tensor2 = tf.constant(array2)\n",
        "tensor2"
      ],
      "metadata": {
        "id": "Ssdx7_sbGQZw",
        "colab": {
          "base_uri": "https://localhost:8080/"
        },
        "outputId": "78d46584-bcd1-4540-893c-152114a63a33"
      },
      "execution_count": null,
      "outputs": [
        {
          "output_type": "execute_result",
          "data": {
            "text/plain": [
              "<tf.Tensor: shape=(3, 3), dtype=int64, numpy=\n",
              "array([[ 2,  2,  1],\n",
              "       [ 3,  5,  6],\n",
              "       [52,  2,  5]])>"
            ]
          },
          "metadata": {},
          "execution_count": 18
        }
      ]
    },
    {
      "cell_type": "code",
      "source": [
        "tf.random.set_seed(32)\n",
        "tf.random.shuffle(tensor2)"
      ],
      "metadata": {
        "id": "PjTsBP3QGTfE",
        "colab": {
          "base_uri": "https://localhost:8080/"
        },
        "outputId": "05b2af6a-317f-46a1-865a-183748aba6d4"
      },
      "execution_count": null,
      "outputs": [
        {
          "output_type": "execute_result",
          "data": {
            "text/plain": [
              "<tf.Tensor: shape=(3, 3), dtype=int64, numpy=\n",
              "array([[52,  2,  5],\n",
              "       [ 2,  2,  1],\n",
              "       [ 3,  5,  6]])>"
            ]
          },
          "metadata": {},
          "execution_count": 19
        }
      ]
    },
    {
      "cell_type": "code",
      "source": [],
      "metadata": {
        "id": "FU2jgr7FGimT"
      },
      "execution_count": null,
      "outputs": []
    },
    {
      "cell_type": "markdown",
      "source": [
        "**Getting information from tensors**\n",
        "\n",
        "When dealing with tensors should aware of these attributes\n",
        "* Rank\n",
        "* size\n",
        "* shape\n",
        "* Axis or dimension"
      ],
      "metadata": {
        "id": "Qizbg91FW3jF"
      }
    },
    {
      "cell_type": "code",
      "source": [
        "#create a rank 4 tensor 4dimensions\n",
        "Rank_4tensor = tf.zeros(shape=[2,3,4,5])\n",
        "Rank_4tensor"
      ],
      "metadata": {
        "id": "RxK0TnDLW7eq",
        "colab": {
          "base_uri": "https://localhost:8080/"
        },
        "outputId": "f69f6c18-fb74-4da3-f3df-3eb3021b3f6b"
      },
      "execution_count": null,
      "outputs": [
        {
          "output_type": "execute_result",
          "data": {
            "text/plain": [
              "<tf.Tensor: shape=(2, 3, 4, 5), dtype=float32, numpy=\n",
              "array([[[[0., 0., 0., 0., 0.],\n",
              "         [0., 0., 0., 0., 0.],\n",
              "         [0., 0., 0., 0., 0.],\n",
              "         [0., 0., 0., 0., 0.]],\n",
              "\n",
              "        [[0., 0., 0., 0., 0.],\n",
              "         [0., 0., 0., 0., 0.],\n",
              "         [0., 0., 0., 0., 0.],\n",
              "         [0., 0., 0., 0., 0.]],\n",
              "\n",
              "        [[0., 0., 0., 0., 0.],\n",
              "         [0., 0., 0., 0., 0.],\n",
              "         [0., 0., 0., 0., 0.],\n",
              "         [0., 0., 0., 0., 0.]]],\n",
              "\n",
              "\n",
              "       [[[0., 0., 0., 0., 0.],\n",
              "         [0., 0., 0., 0., 0.],\n",
              "         [0., 0., 0., 0., 0.],\n",
              "         [0., 0., 0., 0., 0.]],\n",
              "\n",
              "        [[0., 0., 0., 0., 0.],\n",
              "         [0., 0., 0., 0., 0.],\n",
              "         [0., 0., 0., 0., 0.],\n",
              "         [0., 0., 0., 0., 0.]],\n",
              "\n",
              "        [[0., 0., 0., 0., 0.],\n",
              "         [0., 0., 0., 0., 0.],\n",
              "         [0., 0., 0., 0., 0.],\n",
              "         [0., 0., 0., 0., 0.]]]], dtype=float32)>"
            ]
          },
          "metadata": {},
          "execution_count": 20
        }
      ]
    },
    {
      "cell_type": "code",
      "source": [
        "Rank_4tensor.shape , Rank_4tensor.ndim, tf.size(Rank_4tensor)\n",
        "#size = 2*3*4*5 = 120"
      ],
      "metadata": {
        "id": "RmfiqvcdX6HR",
        "colab": {
          "base_uri": "https://localhost:8080/"
        },
        "outputId": "51ac77f7-9908-4df0-f53d-35a8627f5cf2"
      },
      "execution_count": null,
      "outputs": [
        {
          "output_type": "execute_result",
          "data": {
            "text/plain": [
              "(TensorShape([2, 3, 4, 5]), 4, <tf.Tensor: shape=(), dtype=int32, numpy=120>)"
            ]
          },
          "metadata": {},
          "execution_count": 21
        }
      ]
    },
    {
      "cell_type": "code",
      "source": [],
      "metadata": {
        "id": "KfMDiLGRalyz"
      },
      "execution_count": null,
      "outputs": []
    },
    {
      "cell_type": "markdown",
      "source": [
        "**INDEXING TENSORS**\n",
        "\n",
        "as we do to python lists\n"
      ],
      "metadata": {
        "id": "gpuIIgKVdf0v"
      }
    },
    {
      "cell_type": "code",
      "source": [
        "#get the first 2 elements of each dimension"
      ],
      "metadata": {
        "id": "j2q8Lzu5dlQk"
      },
      "execution_count": null,
      "outputs": []
    },
    {
      "cell_type": "code",
      "source": [
        "Rank_4tensor[:2,:2,:2,:2]"
      ],
      "metadata": {
        "id": "RMjDiPGmdw9Z",
        "colab": {
          "base_uri": "https://localhost:8080/"
        },
        "outputId": "64c4a5a4-51ba-4a15-e0f9-4c3996727417"
      },
      "execution_count": null,
      "outputs": [
        {
          "output_type": "execute_result",
          "data": {
            "text/plain": [
              "<tf.Tensor: shape=(2, 2, 2, 2), dtype=float32, numpy=\n",
              "array([[[[0., 0.],\n",
              "         [0., 0.]],\n",
              "\n",
              "        [[0., 0.],\n",
              "         [0., 0.]]],\n",
              "\n",
              "\n",
              "       [[[0., 0.],\n",
              "         [0., 0.]],\n",
              "\n",
              "        [[0., 0.],\n",
              "         [0., 0.]]]], dtype=float32)>"
            ]
          },
          "metadata": {},
          "execution_count": 23
        }
      ]
    },
    {
      "cell_type": "code",
      "source": [
        "Rank_4tensor[:3,:3,:3,:3]"
      ],
      "metadata": {
        "id": "oi4BVFkrfB3K",
        "colab": {
          "base_uri": "https://localhost:8080/"
        },
        "outputId": "6ad6484c-0197-4280-9a86-193960a69a81"
      },
      "execution_count": null,
      "outputs": [
        {
          "output_type": "execute_result",
          "data": {
            "text/plain": [
              "<tf.Tensor: shape=(2, 3, 3, 3), dtype=float32, numpy=\n",
              "array([[[[0., 0., 0.],\n",
              "         [0., 0., 0.],\n",
              "         [0., 0., 0.]],\n",
              "\n",
              "        [[0., 0., 0.],\n",
              "         [0., 0., 0.],\n",
              "         [0., 0., 0.]],\n",
              "\n",
              "        [[0., 0., 0.],\n",
              "         [0., 0., 0.],\n",
              "         [0., 0., 0.]]],\n",
              "\n",
              "\n",
              "       [[[0., 0., 0.],\n",
              "         [0., 0., 0.],\n",
              "         [0., 0., 0.]],\n",
              "\n",
              "        [[0., 0., 0.],\n",
              "         [0., 0., 0.],\n",
              "         [0., 0., 0.]],\n",
              "\n",
              "        [[0., 0., 0.],\n",
              "         [0., 0., 0.],\n",
              "         [0., 0., 0.]]]], dtype=float32)>"
            ]
          },
          "metadata": {},
          "execution_count": 24
        }
      ]
    },
    {
      "cell_type": "code",
      "source": [
        "example_list = [1,2,3,4]\n",
        "example_list[:2]\n",
        "example_list[-1]"
      ],
      "metadata": {
        "id": "dkAbFDBKedR0",
        "colab": {
          "base_uri": "https://localhost:8080/"
        },
        "outputId": "de6545c0-7c1a-43cb-897a-b63a68585b60"
      },
      "execution_count": null,
      "outputs": [
        {
          "output_type": "execute_result",
          "data": {
            "text/plain": [
              "4"
            ]
          },
          "metadata": {},
          "execution_count": 25
        }
      ]
    },
    {
      "cell_type": "code",
      "source": [
        "#to get the last item of the tensor\n",
        "random_ten = tf.constant([[1, 2],\n",
        "                          [3,4]])"
      ],
      "metadata": {
        "id": "5N5Xo9j1ekzL"
      },
      "execution_count": null,
      "outputs": []
    },
    {
      "cell_type": "code",
      "source": [
        "random_ten.ndim , random_ten[-1]"
      ],
      "metadata": {
        "id": "Kz7OxsRNi0W9",
        "colab": {
          "base_uri": "https://localhost:8080/"
        },
        "outputId": "67a13146-1c59-40a8-a82c-46d6bd0e75f4"
      },
      "execution_count": null,
      "outputs": [
        {
          "output_type": "execute_result",
          "data": {
            "text/plain": [
              "(2, <tf.Tensor: shape=(2,), dtype=int32, numpy=array([3, 4], dtype=int32)>)"
            ]
          },
          "metadata": {},
          "execution_count": 27
        }
      ]
    },
    {
      "cell_type": "code",
      "source": [
        "new_ten = random_ten[...,tf.newaxis]"
      ],
      "metadata": {
        "id": "M4AjPHXgjKyF"
      },
      "execution_count": null,
      "outputs": []
    },
    {
      "cell_type": "code",
      "source": [
        "new_ten"
      ],
      "metadata": {
        "id": "AW18nAQso05S",
        "colab": {
          "base_uri": "https://localhost:8080/"
        },
        "outputId": "0a921bf7-5169-4737-b604-b837718138ba"
      },
      "execution_count": null,
      "outputs": [
        {
          "output_type": "execute_result",
          "data": {
            "text/plain": [
              "<tf.Tensor: shape=(2, 2, 1), dtype=int32, numpy=\n",
              "array([[[1],\n",
              "        [2]],\n",
              "\n",
              "       [[3],\n",
              "        [4]]], dtype=int32)>"
            ]
          },
          "metadata": {},
          "execution_count": 29
        }
      ]
    },
    {
      "cell_type": "code",
      "source": [
        "tf.expand_dims(random_ten,axis=-1) #other way to change the dimension"
      ],
      "metadata": {
        "id": "POBsz-7Go1_d",
        "colab": {
          "base_uri": "https://localhost:8080/"
        },
        "outputId": "c20ae6de-7eed-48de-c23e-137378fdf863"
      },
      "execution_count": null,
      "outputs": [
        {
          "output_type": "execute_result",
          "data": {
            "text/plain": [
              "<tf.Tensor: shape=(2, 2, 1), dtype=int32, numpy=\n",
              "array([[[1],\n",
              "        [2]],\n",
              "\n",
              "       [[3],\n",
              "        [4]]], dtype=int32)>"
            ]
          },
          "metadata": {},
          "execution_count": 30
        }
      ]
    },
    {
      "cell_type": "code",
      "source": [
        "tf.expand_dims(random_ten,axis=0) #the extra dimension will be declared (middle, begining or end)"
      ],
      "metadata": {
        "id": "JrddJTy6-GDU",
        "colab": {
          "base_uri": "https://localhost:8080/"
        },
        "outputId": "447e69e6-ad68-4a82-e147-9d920062c09c"
      },
      "execution_count": null,
      "outputs": [
        {
          "output_type": "execute_result",
          "data": {
            "text/plain": [
              "<tf.Tensor: shape=(1, 2, 2), dtype=int32, numpy=\n",
              "array([[[1, 2],\n",
              "        [3, 4]]], dtype=int32)>"
            ]
          },
          "metadata": {},
          "execution_count": 31
        }
      ]
    },
    {
      "cell_type": "markdown",
      "source": [
        "**Manipulating tensors with Basic operators**\n",
        "\n",
        "+,-,\\ ,*"
      ],
      "metadata": {
        "id": "p5JpvjoqA_mm"
      }
    },
    {
      "cell_type": "code",
      "source": [
        "tensor = tf.constant([[10,5],[3,1]])"
      ],
      "metadata": {
        "id": "nbrIWDj-BE6V"
      },
      "execution_count": null,
      "outputs": []
    },
    {
      "cell_type": "code",
      "source": [
        "tensor"
      ],
      "metadata": {
        "id": "Ol2OHRJhBU3d",
        "colab": {
          "base_uri": "https://localhost:8080/"
        },
        "outputId": "b3952d41-12f0-42bb-e780-89d8799f2101"
      },
      "execution_count": null,
      "outputs": [
        {
          "output_type": "execute_result",
          "data": {
            "text/plain": [
              "<tf.Tensor: shape=(2, 2), dtype=int32, numpy=\n",
              "array([[10,  5],\n",
              "       [ 3,  1]], dtype=int32)>"
            ]
          },
          "metadata": {},
          "execution_count": 33
        }
      ]
    },
    {
      "cell_type": "code",
      "source": [
        "tensor+12 #(adds 10 to all the elements in the tensor)"
      ],
      "metadata": {
        "id": "BUwYbsDeBVz-",
        "colab": {
          "base_uri": "https://localhost:8080/"
        },
        "outputId": "4f30c7c9-fba4-4f09-ef01-1210d882e890"
      },
      "execution_count": null,
      "outputs": [
        {
          "output_type": "execute_result",
          "data": {
            "text/plain": [
              "<tf.Tensor: shape=(2, 2), dtype=int32, numpy=\n",
              "array([[22, 17],\n",
              "       [15, 13]], dtype=int32)>"
            ]
          },
          "metadata": {},
          "execution_count": 34
        }
      ]
    },
    {
      "cell_type": "code",
      "source": [
        "tensor=tensor+12"
      ],
      "metadata": {
        "id": "ARwHj5g9BaYc"
      },
      "execution_count": null,
      "outputs": []
    },
    {
      "cell_type": "code",
      "source": [
        "tensor"
      ],
      "metadata": {
        "id": "BVV4t-YVBmMf",
        "colab": {
          "base_uri": "https://localhost:8080/"
        },
        "outputId": "04e06af8-f3fd-466d-f241-49287eb8f3a9"
      },
      "execution_count": null,
      "outputs": [
        {
          "output_type": "execute_result",
          "data": {
            "text/plain": [
              "<tf.Tensor: shape=(2, 2), dtype=int32, numpy=\n",
              "array([[22, 17],\n",
              "       [15, 13]], dtype=int32)>"
            ]
          },
          "metadata": {},
          "execution_count": 36
        }
      ]
    },
    {
      "cell_type": "markdown",
      "source": [
        "Sub(-)"
      ],
      "metadata": {
        "id": "-Wgvtz70B9Zw"
      }
    },
    {
      "cell_type": "code",
      "source": [
        "tensor-10"
      ],
      "metadata": {
        "id": "6Klcy-z8BnQw",
        "colab": {
          "base_uri": "https://localhost:8080/"
        },
        "outputId": "91570b0a-232b-4169-d7fe-56d54f73d57b"
      },
      "execution_count": null,
      "outputs": [
        {
          "output_type": "execute_result",
          "data": {
            "text/plain": [
              "<tf.Tensor: shape=(2, 2), dtype=int32, numpy=\n",
              "array([[12,  7],\n",
              "       [ 5,  3]], dtype=int32)>"
            ]
          },
          "metadata": {},
          "execution_count": 37
        }
      ]
    },
    {
      "cell_type": "markdown",
      "source": [
        "**Instead of python operators can use TF builtin functions ***"
      ],
      "metadata": {
        "id": "jXW2pdt6CMiB"
      }
    },
    {
      "cell_type": "code",
      "source": [
        "tf.multiply(tensor,2)"
      ],
      "metadata": {
        "id": "Umd5tWKCCR_H",
        "colab": {
          "base_uri": "https://localhost:8080/"
        },
        "outputId": "9d34d589-baf4-4418-c215-dfe6187eb6f9"
      },
      "execution_count": null,
      "outputs": [
        {
          "output_type": "execute_result",
          "data": {
            "text/plain": [
              "<tf.Tensor: shape=(2, 2), dtype=int32, numpy=\n",
              "array([[44, 34],\n",
              "       [30, 26]], dtype=int32)>"
            ]
          },
          "metadata": {},
          "execution_count": 38
        }
      ]
    },
    {
      "cell_type": "code",
      "source": [
        "tf.add(tensor,3)"
      ],
      "metadata": {
        "id": "3VMXsWnFCeKV",
        "colab": {
          "base_uri": "https://localhost:8080/"
        },
        "outputId": "3ed5d63e-c9ef-449c-a30e-985d30f90e50"
      },
      "execution_count": null,
      "outputs": [
        {
          "output_type": "execute_result",
          "data": {
            "text/plain": [
              "<tf.Tensor: shape=(2, 2), dtype=int32, numpy=\n",
              "array([[25, 20],\n",
              "       [18, 16]], dtype=int32)>"
            ]
          },
          "metadata": {},
          "execution_count": 39
        }
      ]
    },
    {
      "cell_type": "code",
      "source": [
        "tf.subtract(tensor,2)"
      ],
      "metadata": {
        "id": "0Vx0IbILDTHh",
        "colab": {
          "base_uri": "https://localhost:8080/"
        },
        "outputId": "b5e4caa6-16fd-415e-ef91-425cd235c499"
      },
      "execution_count": null,
      "outputs": [
        {
          "output_type": "execute_result",
          "data": {
            "text/plain": [
              "<tf.Tensor: shape=(2, 2), dtype=int32, numpy=\n",
              "array([[20, 15],\n",
              "       [13, 11]], dtype=int32)>"
            ]
          },
          "metadata": {},
          "execution_count": 40
        }
      ]
    },
    {
      "cell_type": "code",
      "source": [
        "matA = tf.constant([[1,2,3],\n",
        "                    [4,5,6]])\n",
        "matB = tf.constant([2,\n",
        "                    4,\n",
        "                    34],\n",
        "                    )"
      ],
      "metadata": {
        "id": "bmXWkYI_lC7c"
      },
      "execution_count": null,
      "outputs": []
    },
    {
      "cell_type": "markdown",
      "source": [
        "**Matrix Multiplication**"
      ],
      "metadata": {
        "id": "7Oelf6rVDvRN"
      }
    },
    {
      "cell_type": "code",
      "source": [
        "matA*matB"
      ],
      "metadata": {
        "id": "35YcXVDADuw8",
        "colab": {
          "base_uri": "https://localhost:8080/"
        },
        "outputId": "2e5d4f0b-090e-46b3-ebad-28e137b0cfe6"
      },
      "execution_count": null,
      "outputs": [
        {
          "output_type": "execute_result",
          "data": {
            "text/plain": [
              "<tf.Tensor: shape=(2, 3), dtype=int32, numpy=\n",
              "array([[  2,   8, 102],\n",
              "       [  8,  20, 204]], dtype=int32)>"
            ]
          },
          "metadata": {},
          "execution_count": 42
        }
      ]
    },
    {
      "cell_type": "code",
      "source": [
        "matA % matB"
      ],
      "metadata": {
        "colab": {
          "base_uri": "https://localhost:8080/"
        },
        "id": "RdHl9SMXlNk5",
        "outputId": "d0e3adb9-55c4-4ad2-d1a1-1a31cc86e092"
      },
      "execution_count": null,
      "outputs": [
        {
          "output_type": "execute_result",
          "data": {
            "text/plain": [
              "<tf.Tensor: shape=(2, 3), dtype=int32, numpy=\n",
              "array([[1, 2, 3],\n",
              "       [0, 1, 6]], dtype=int32)>"
            ]
          },
          "metadata": {},
          "execution_count": 43
        }
      ]
    },
    {
      "cell_type": "code",
      "source": [
        "#create a tensor (3,2)\n",
        "Mat = tf.constant([[2,4]])"
      ],
      "metadata": {
        "id": "8nAbgFRypS91"
      },
      "execution_count": null,
      "outputs": []
    },
    {
      "cell_type": "code",
      "source": [
        "matA & matB"
      ],
      "metadata": {
        "id": "ZgHsQJuWMBAi",
        "colab": {
          "base_uri": "https://localhost:8080/"
        },
        "outputId": "2521c970-b153-47b3-fc55-34bf83f66bf5"
      },
      "execution_count": null,
      "outputs": [
        {
          "output_type": "execute_result",
          "data": {
            "text/plain": [
              "<tf.Tensor: shape=(2, 3), dtype=int32, numpy=\n",
              "array([[0, 0, 2],\n",
              "       [0, 4, 2]], dtype=int32)>"
            ]
          },
          "metadata": {},
          "execution_count": 45
        }
      ]
    },
    {
      "cell_type": "code",
      "source": [
        "tf.multiply(matA,matB)"
      ],
      "metadata": {
        "colab": {
          "base_uri": "https://localhost:8080/"
        },
        "id": "uMsfms0_OH5Y",
        "outputId": "44f1da31-a82d-4b95-ba3b-4e796f1535f4"
      },
      "execution_count": null,
      "outputs": [
        {
          "output_type": "execute_result",
          "data": {
            "text/plain": [
              "<tf.Tensor: shape=(2, 3), dtype=int32, numpy=\n",
              "array([[  2,   8, 102],\n",
              "       [  8,  20, 204]], dtype=int32)>"
            ]
          },
          "metadata": {},
          "execution_count": 46
        }
      ]
    },
    {
      "cell_type": "markdown",
      "source": [
        "***dot product**\n",
        "*  matrix mul is also refferred as Dotproduct\n",
        "\n",
        "   tf.matmul()\n",
        "   \n",
        "   tf.tensordot()"
      ],
      "metadata": {
        "id": "1NUckIpnPSF8"
      }
    },
    {
      "cell_type": "code",
      "source": [
        "#TO perform the dot product it requires matA or matB should be transposed"
      ],
      "metadata": {
        "id": "v2ZxAMl-PQfW"
      },
      "execution_count": null,
      "outputs": []
    },
    {
      "cell_type": "code",
      "source": [
        "matA"
      ],
      "metadata": {
        "colab": {
          "base_uri": "https://localhost:8080/"
        },
        "id": "prkBE-K-P3i8",
        "outputId": "3e34ae14-b65e-4729-c0c7-22ffbe6969cf"
      },
      "execution_count": null,
      "outputs": [
        {
          "output_type": "execute_result",
          "data": {
            "text/plain": [
              "<tf.Tensor: shape=(2, 3), dtype=int32, numpy=\n",
              "array([[1, 2, 3],\n",
              "       [4, 5, 6]], dtype=int32)>"
            ]
          },
          "metadata": {},
          "execution_count": 48
        }
      ]
    },
    {
      "cell_type": "code",
      "source": [
        "matB"
      ],
      "metadata": {
        "colab": {
          "base_uri": "https://localhost:8080/"
        },
        "id": "hZ0M-2-CP6OD",
        "outputId": "46566579-0fd8-4d4f-e985-ae4388187b24"
      },
      "execution_count": null,
      "outputs": [
        {
          "output_type": "execute_result",
          "data": {
            "text/plain": [
              "<tf.Tensor: shape=(3,), dtype=int32, numpy=array([ 2,  4, 34], dtype=int32)>"
            ]
          },
          "metadata": {},
          "execution_count": 49
        }
      ]
    },
    {
      "cell_type": "code",
      "source": [
        "a = tf.constant([[1,2],\n",
        "                 [4,6],\n",
        "                 [12,1]])\n",
        "b= tf.constant([[1,6],\n",
        "               [21,1],\n",
        "               [12,2]])"
      ],
      "metadata": {
        "id": "NcgcnFDxQM9E"
      },
      "execution_count": null,
      "outputs": []
    },
    {
      "cell_type": "code",
      "source": [
        "b.shape"
      ],
      "metadata": {
        "colab": {
          "base_uri": "https://localhost:8080/"
        },
        "id": "6RKvmqV1QszP",
        "outputId": "22dd01be-8ce7-44e5-8596-a15d638c022d"
      },
      "execution_count": null,
      "outputs": [
        {
          "output_type": "execute_result",
          "data": {
            "text/plain": [
              "TensorShape([3, 2])"
            ]
          },
          "metadata": {},
          "execution_count": 51
        }
      ]
    },
    {
      "cell_type": "code",
      "source": [
        "tf.tensordot(tf.transpose(b),a,axes=1) #Reshaping B matrix"
      ],
      "metadata": {
        "colab": {
          "base_uri": "https://localhost:8080/"
        },
        "id": "3_RzfiISQ0R0",
        "outputId": "d934bf91-eafb-4d40-a3ab-d161779591d3"
      },
      "execution_count": null,
      "outputs": [
        {
          "output_type": "execute_result",
          "data": {
            "text/plain": [
              "<tf.Tensor: shape=(2, 2), dtype=int32, numpy=\n",
              "array([[229, 140],\n",
              "       [ 34,  20]], dtype=int32)>"
            ]
          },
          "metadata": {},
          "execution_count": 52
        }
      ]
    },
    {
      "cell_type": "code",
      "source": [
        "tf.transpose(b)"
      ],
      "metadata": {
        "colab": {
          "base_uri": "https://localhost:8080/"
        },
        "id": "j9gA6Gk4Rhpd",
        "outputId": "ffe74adf-0e55-460b-bb8e-7407ff8ba07e"
      },
      "execution_count": null,
      "outputs": [
        {
          "output_type": "execute_result",
          "data": {
            "text/plain": [
              "<tf.Tensor: shape=(2, 3), dtype=int32, numpy=\n",
              "array([[ 1, 21, 12],\n",
              "       [ 6,  1,  2]], dtype=int32)>"
            ]
          },
          "metadata": {},
          "execution_count": 53
        }
      ]
    },
    {
      "cell_type": "code",
      "source": [
        "tf.transpose(a)"
      ],
      "metadata": {
        "colab": {
          "base_uri": "https://localhost:8080/"
        },
        "id": "MTcvJ4U2TAvT",
        "outputId": "1a8bf25b-fdb1-4c3d-a373-ef810ac3495a"
      },
      "execution_count": null,
      "outputs": [
        {
          "output_type": "execute_result",
          "data": {
            "text/plain": [
              "<tf.Tensor: shape=(2, 3), dtype=int32, numpy=\n",
              "array([[ 1,  4, 12],\n",
              "       [ 2,  6,  1]], dtype=int32)>"
            ]
          },
          "metadata": {},
          "execution_count": 54
        }
      ]
    },
    {
      "cell_type": "code",
      "source": [
        "tf.tensordot(tf.transpose(a),b,axes=1) #reshaping the a matrix"
      ],
      "metadata": {
        "colab": {
          "base_uri": "https://localhost:8080/"
        },
        "id": "gYTPvgmGTgdR",
        "outputId": "bfe14544-cb5a-4b0c-de55-b0023d387006"
      },
      "execution_count": null,
      "outputs": [
        {
          "output_type": "execute_result",
          "data": {
            "text/plain": [
              "<tf.Tensor: shape=(2, 2), dtype=int32, numpy=\n",
              "array([[229,  34],\n",
              "       [140,  20]], dtype=int32)>"
            ]
          },
          "metadata": {},
          "execution_count": 55
        }
      ]
    },
    {
      "cell_type": "code",
      "source": [
        "tf.tensordot(tf.reshape(a,shape=[2,3]),b,axes=1)"
      ],
      "metadata": {
        "colab": {
          "base_uri": "https://localhost:8080/"
        },
        "id": "jjkWD4DtToGo",
        "outputId": "4cacc071-12a6-47c1-c428-7f5c054fc29d"
      },
      "execution_count": null,
      "outputs": [
        {
          "output_type": "execute_result",
          "data": {
            "text/plain": [
              "<tf.Tensor: shape=(2, 2), dtype=int32, numpy=\n",
              "array([[ 91,  16],\n",
              "       [270,  50]], dtype=int32)>"
            ]
          },
          "metadata": {},
          "execution_count": 56
        }
      ]
    },
    {
      "cell_type": "code",
      "source": [
        "tf.matmul(b,tf.reshape(a,shape=[2,3],))"
      ],
      "metadata": {
        "colab": {
          "base_uri": "https://localhost:8080/"
        },
        "id": "nfc3lhAlT0S6",
        "outputId": "8b931a08-2f21-4c33-d616-011d742f6211"
      },
      "execution_count": null,
      "outputs": [
        {
          "output_type": "execute_result",
          "data": {
            "text/plain": [
              "<tf.Tensor: shape=(3, 3), dtype=int32, numpy=\n",
              "array([[37, 74, 10],\n",
              "       [27, 54, 85],\n",
              "       [24, 48, 50]], dtype=int32)>"
            ]
          },
          "metadata": {},
          "execution_count": 57
        }
      ]
    },
    {
      "cell_type": "markdown",
      "source": [
        "**Changing the datatypes of the tennsor**"
      ],
      "metadata": {
        "id": "wpH7I6f8Z-2k"
      }
    },
    {
      "cell_type": "code",
      "source": [
        "c = tf.constant([1.2,2,3])"
      ],
      "metadata": {
        "id": "G4aOUUTtaFOy"
      },
      "execution_count": null,
      "outputs": []
    },
    {
      "cell_type": "code",
      "source": [
        "c.dtype"
      ],
      "metadata": {
        "colab": {
          "base_uri": "https://localhost:8080/"
        },
        "id": "tcJzMXE3aJ8C",
        "outputId": "308e468f-7bf5-473e-d070-6c978aec49b2"
      },
      "execution_count": null,
      "outputs": [
        {
          "output_type": "execute_result",
          "data": {
            "text/plain": [
              "tf.float32"
            ]
          },
          "metadata": {},
          "execution_count": 59
        }
      ]
    },
    {
      "cell_type": "code",
      "source": [
        "d = tf.constant([1,2,3])"
      ],
      "metadata": {
        "id": "N5eCsqy_aMhf"
      },
      "execution_count": null,
      "outputs": []
    },
    {
      "cell_type": "code",
      "source": [
        "d.dtype"
      ],
      "metadata": {
        "colab": {
          "base_uri": "https://localhost:8080/"
        },
        "id": "ZCn1Fi_QaYVs",
        "outputId": "d8b81630-77e2-4d4a-d0c1-f9c1e7c93c25"
      },
      "execution_count": null,
      "outputs": [
        {
          "output_type": "execute_result",
          "data": {
            "text/plain": [
              "tf.int32"
            ]
          },
          "metadata": {},
          "execution_count": 61
        }
      ]
    },
    {
      "cell_type": "code",
      "source": [
        "#TO change the int32 or float32 to 16bits"
      ],
      "metadata": {
        "id": "YOi2cU17aaAL"
      },
      "execution_count": null,
      "outputs": []
    },
    {
      "cell_type": "code",
      "source": [
        "s = tf.cast(d,dtype=tf.int16)"
      ],
      "metadata": {
        "id": "8QLojrEPbDYV"
      },
      "execution_count": null,
      "outputs": []
    },
    {
      "cell_type": "code",
      "source": [
        "s.dtype #CHANGED DTYPE"
      ],
      "metadata": {
        "colab": {
          "base_uri": "https://localhost:8080/"
        },
        "id": "Q2Eh6j_HbldA",
        "outputId": "9ac7d348-4cdb-4966-f3b9-e1c597630b16"
      },
      "execution_count": null,
      "outputs": [
        {
          "output_type": "execute_result",
          "data": {
            "text/plain": [
              "tf.int16"
            ]
          },
          "metadata": {},
          "execution_count": 64
        }
      ]
    },
    {
      "cell_type": "code",
      "source": [
        "i = tf.cast(c,dtype=tf.float16) #CHANGED DTYPE\n",
        "i.dtype"
      ],
      "metadata": {
        "colab": {
          "base_uri": "https://localhost:8080/"
        },
        "id": "ZQqS3v9wbnD-",
        "outputId": "d7c62bc8-2b48-43a4-cced-19329f3b3f01"
      },
      "execution_count": null,
      "outputs": [
        {
          "output_type": "execute_result",
          "data": {
            "text/plain": [
              "tf.float16"
            ]
          },
          "metadata": {},
          "execution_count": 65
        }
      ]
    },
    {
      "cell_type": "code",
      "source": [
        "n = tf.cast(i,dtype=tf.int16) #FLoat16 to int16"
      ],
      "metadata": {
        "id": "6m2qIcV6cHxE"
      },
      "execution_count": null,
      "outputs": []
    },
    {
      "cell_type": "code",
      "source": [
        "n.dtype"
      ],
      "metadata": {
        "colab": {
          "base_uri": "https://localhost:8080/"
        },
        "id": "o8HJzvqDct_W",
        "outputId": "4f9cc92f-a9f5-47ad-acc9-943453259308"
      },
      "execution_count": null,
      "outputs": [
        {
          "output_type": "execute_result",
          "data": {
            "text/plain": [
              "tf.int16"
            ]
          },
          "metadata": {},
          "execution_count": 67
        }
      ]
    },
    {
      "cell_type": "markdown",
      "source": [
        "**Aggregating Tensors**"
      ],
      "metadata": {
        "id": "iUs_q23SdHwj"
      }
    },
    {
      "cell_type": "code",
      "source": [
        "D = tf.constant([2,1])"
      ],
      "metadata": {
        "id": "v0pprO_hdMhb"
      },
      "execution_count": null,
      "outputs": []
    },
    {
      "cell_type": "code",
      "source": [
        "tf.abs(D) # abs() use to remove the negatives in the array"
      ],
      "metadata": {
        "colab": {
          "base_uri": "https://localhost:8080/"
        },
        "id": "SZIQ-8GQe3z4",
        "outputId": "fa3ed9c8-b77e-4d9a-b6d4-72b96cb1bb94"
      },
      "execution_count": null,
      "outputs": [
        {
          "output_type": "execute_result",
          "data": {
            "text/plain": [
              "<tf.Tensor: shape=(2,), dtype=int32, numpy=array([2, 1], dtype=int32)>"
            ]
          },
          "metadata": {},
          "execution_count": 69
        }
      ]
    },
    {
      "cell_type": "markdown",
      "source": [
        "* min\n",
        "* max\n",
        "* mean\n",
        "* median\n",
        "* sum"
      ],
      "metadata": {
        "id": "wnSdQILTfR4e"
      }
    },
    {
      "cell_type": "code",
      "source": [
        "tf.reduce_mean(D)"
      ],
      "metadata": {
        "colab": {
          "base_uri": "https://localhost:8080/"
        },
        "id": "aQeuJ45tfXmQ",
        "outputId": "084b7a7c-1573-4a86-b726-0f175fa4c28d"
      },
      "execution_count": null,
      "outputs": [
        {
          "output_type": "execute_result",
          "data": {
            "text/plain": [
              "<tf.Tensor: shape=(), dtype=int32, numpy=1>"
            ]
          },
          "metadata": {},
          "execution_count": 70
        }
      ]
    },
    {
      "cell_type": "code",
      "source": [
        "E = tf.constant([[1,2,4],\n",
        "                 [2,5,0]])"
      ],
      "metadata": {
        "id": "QUhmJSPtf6j1"
      },
      "execution_count": null,
      "outputs": []
    },
    {
      "cell_type": "code",
      "source": [
        "tf.reduce_mean(E)"
      ],
      "metadata": {
        "colab": {
          "base_uri": "https://localhost:8080/"
        },
        "id": "LsL8WpgggMoh",
        "outputId": "e7c084f6-fe2f-4062-de5a-cb05fdaab015"
      },
      "execution_count": null,
      "outputs": [
        {
          "output_type": "execute_result",
          "data": {
            "text/plain": [
              "<tf.Tensor: shape=(), dtype=int32, numpy=2>"
            ]
          },
          "metadata": {},
          "execution_count": 72
        }
      ]
    },
    {
      "cell_type": "code",
      "source": [
        "tf.reduce_min(E,axis=0)"
      ],
      "metadata": {
        "colab": {
          "base_uri": "https://localhost:8080/"
        },
        "id": "6aIoeqfJgOq4",
        "outputId": "66618c88-6702-46c5-a5fd-0f381322c021"
      },
      "execution_count": null,
      "outputs": [
        {
          "output_type": "execute_result",
          "data": {
            "text/plain": [
              "<tf.Tensor: shape=(3,), dtype=int32, numpy=array([1, 2, 0], dtype=int32)>"
            ]
          },
          "metadata": {},
          "execution_count": 73
        }
      ]
    },
    {
      "cell_type": "code",
      "source": [
        "tf.reduce_sum(E) #adds all the elements"
      ],
      "metadata": {
        "colab": {
          "base_uri": "https://localhost:8080/"
        },
        "id": "ft9FX5W2gbxm",
        "outputId": "48b418f1-1d06-4689-ab05-7cf384f6d416"
      },
      "execution_count": null,
      "outputs": [
        {
          "output_type": "execute_result",
          "data": {
            "text/plain": [
              "<tf.Tensor: shape=(), dtype=int32, numpy=14>"
            ]
          },
          "metadata": {},
          "execution_count": 74
        }
      ]
    },
    {
      "cell_type": "code",
      "source": [
        "import tensorflow_probability as tfp\n"
      ],
      "metadata": {
        "id": "wLrrDXtWLpvn"
      },
      "execution_count": null,
      "outputs": []
    },
    {
      "cell_type": "code",
      "source": [
        "tfp.stats.variance(E,sample_axis=0)"
      ],
      "metadata": {
        "id": "GF86TghehBeb",
        "colab": {
          "base_uri": "https://localhost:8080/"
        },
        "outputId": "e1a892c2-dc0f-4f46-ddf5-e3a2ae550836"
      },
      "execution_count": null,
      "outputs": [
        {
          "output_type": "execute_result",
          "data": {
            "text/plain": [
              "<tf.Tensor: shape=(3,), dtype=int32, numpy=array([0, 2, 4], dtype=int32)>"
            ]
          },
          "metadata": {},
          "execution_count": 76
        }
      ]
    },
    {
      "cell_type": "code",
      "source": [
        "E.dtype"
      ],
      "metadata": {
        "colab": {
          "base_uri": "https://localhost:8080/"
        },
        "id": "Y-RLJCMOKy1o",
        "outputId": "9d8f287b-c776-478b-ae7c-a442272e683b"
      },
      "execution_count": null,
      "outputs": [
        {
          "output_type": "execute_result",
          "data": {
            "text/plain": [
              "tf.int32"
            ]
          },
          "metadata": {},
          "execution_count": 77
        }
      ]
    },
    {
      "cell_type": "code",
      "source": [],
      "metadata": {
        "id": "2R25Ny8CNsoy"
      },
      "execution_count": null,
      "outputs": []
    },
    {
      "cell_type": "markdown",
      "source": [
        "**Positional maximum and minimum**\n",
        "* To check at which index in a tensor the max or min value is present"
      ],
      "metadata": {
        "id": "z-gCrUHaUPPF"
      }
    },
    {
      "cell_type": "code",
      "source": [],
      "metadata": {
        "id": "GBYPR5Nkb4qp"
      },
      "execution_count": null,
      "outputs": []
    },
    {
      "cell_type": "code",
      "source": [
        "tf.random.set_seed(32)\n",
        "T = tf.random.uniform(shape=[25])\n",
        "T"
      ],
      "metadata": {
        "colab": {
          "base_uri": "https://localhost:8080/"
        },
        "id": "jW9l0MAMN6oH",
        "outputId": "34d1a3ac-f8d0-40dc-9fe3-745591b349fe"
      },
      "execution_count": null,
      "outputs": [
        {
          "output_type": "execute_result",
          "data": {
            "text/plain": [
              "<tf.Tensor: shape=(25,), dtype=float32, numpy=\n",
              "array([0.54520595, 0.13372338, 0.45232666, 0.15582252, 0.9621073 ,\n",
              "       0.8151462 , 0.4068215 , 0.9565903 , 0.5532354 , 0.44936454,\n",
              "       0.01469815, 0.86204493, 0.12014258, 0.91072273, 0.00848019,\n",
              "       0.62772846, 0.8167286 , 0.98235905, 0.06410611, 0.17873585,\n",
              "       0.07358396, 0.95524645, 0.5906956 , 0.3774085 , 0.9427308 ],\n",
              "      dtype=float32)>"
            ]
          },
          "metadata": {},
          "execution_count": 78
        }
      ]
    },
    {
      "cell_type": "code",
      "source": [
        "tf.argmax(T) #index values"
      ],
      "metadata": {
        "colab": {
          "base_uri": "https://localhost:8080/"
        },
        "id": "RsuMLNhNVxJ2",
        "outputId": "99524be9-48dd-4e46-8c17-89ee92dc6728"
      },
      "execution_count": null,
      "outputs": [
        {
          "output_type": "execute_result",
          "data": {
            "text/plain": [
              "<tf.Tensor: shape=(), dtype=int64, numpy=17>"
            ]
          },
          "metadata": {},
          "execution_count": 79
        }
      ]
    },
    {
      "cell_type": "code",
      "source": [
        "#largest value  position\n",
        "T[tf.argmax(T)]"
      ],
      "metadata": {
        "colab": {
          "base_uri": "https://localhost:8080/"
        },
        "id": "8JS3e84sbbyL",
        "outputId": "8c90806e-4095-4305-d4c8-080a6ef81f08"
      },
      "execution_count": null,
      "outputs": [
        {
          "output_type": "execute_result",
          "data": {
            "text/plain": [
              "<tf.Tensor: shape=(), dtype=float32, numpy=0.98235905>"
            ]
          },
          "metadata": {},
          "execution_count": 80
        }
      ]
    },
    {
      "cell_type": "code",
      "source": [
        "T[tf.argmin(T)] #smallest"
      ],
      "metadata": {
        "colab": {
          "base_uri": "https://localhost:8080/"
        },
        "id": "kfV6XAm5b0aT",
        "outputId": "2ee686c2-c240-4cd9-8621-762e9378daf8"
      },
      "execution_count": null,
      "outputs": [
        {
          "output_type": "execute_result",
          "data": {
            "text/plain": [
              "<tf.Tensor: shape=(), dtype=float32, numpy=0.008480191>"
            ]
          },
          "metadata": {},
          "execution_count": 81
        }
      ]
    },
    {
      "cell_type": "markdown",
      "source": [
        "**Squeezing a tensor**\n",
        "* removing all single dimensional tensors"
      ],
      "metadata": {
        "id": "r7O9bsPNd8-5"
      }
    },
    {
      "cell_type": "code",
      "source": [
        "tf.random.set_seed(32)\n",
        "t = tf.constant(tf.random.uniform(shape=[12]),shape=[1,1,1,1,12])\n",
        "t"
      ],
      "metadata": {
        "id": "g7rR9bv1eBeg",
        "colab": {
          "base_uri": "https://localhost:8080/"
        },
        "outputId": "18fdf92a-fc9b-4f2c-d80d-be17a567a517"
      },
      "execution_count": null,
      "outputs": [
        {
          "output_type": "execute_result",
          "data": {
            "text/plain": [
              "<tf.Tensor: shape=(1, 1, 1, 1, 12), dtype=float32, numpy=\n",
              "array([[[[[0.54520595, 0.13372338, 0.45232666, 0.15582252, 0.9621073 ,\n",
              "           0.8151462 , 0.4068215 , 0.9565903 , 0.5532354 , 0.44936454,\n",
              "           0.01469815, 0.86204493]]]]], dtype=float32)>"
            ]
          },
          "metadata": {},
          "execution_count": 82
        }
      ]
    },
    {
      "cell_type": "code",
      "source": [
        "t_sq = tf.squeeze(t)\n",
        "t_sq"
      ],
      "metadata": {
        "colab": {
          "base_uri": "https://localhost:8080/"
        },
        "id": "grUZgckWeb2_",
        "outputId": "81568d85-9967-4364-bafe-bacd2d4d8d84"
      },
      "execution_count": null,
      "outputs": [
        {
          "output_type": "execute_result",
          "data": {
            "text/plain": [
              "<tf.Tensor: shape=(12,), dtype=float32, numpy=\n",
              "array([0.54520595, 0.13372338, 0.45232666, 0.15582252, 0.9621073 ,\n",
              "       0.8151462 , 0.4068215 , 0.9565903 , 0.5532354 , 0.44936454,\n",
              "       0.01469815, 0.86204493], dtype=float32)>"
            ]
          },
          "metadata": {},
          "execution_count": 83
        }
      ]
    },
    {
      "cell_type": "code",
      "source": [
        "t_sq.shape"
      ],
      "metadata": {
        "colab": {
          "base_uri": "https://localhost:8080/"
        },
        "id": "SP7OzfBbe3Ji",
        "outputId": "e4fb04c1-cfc4-4120-8325-14e37d466940"
      },
      "execution_count": null,
      "outputs": [
        {
          "output_type": "execute_result",
          "data": {
            "text/plain": [
              "TensorShape([12])"
            ]
          },
          "metadata": {},
          "execution_count": 84
        }
      ]
    },
    {
      "cell_type": "markdown",
      "source": [
        "**One Hot Encoding**"
      ],
      "metadata": {
        "id": "SFmYWzSDfvvM"
      }
    },
    {
      "cell_type": "code",
      "source": [
        "a_list = [1,2,3,4]\n",
        "depth  = 5\n",
        "tf.one_hot(a_list,depth)"
      ],
      "metadata": {
        "colab": {
          "base_uri": "https://localhost:8080/"
        },
        "id": "86YY43mefzDu",
        "outputId": "f52540c2-7910-42aa-9647-1a0a26c091ea"
      },
      "execution_count": null,
      "outputs": [
        {
          "output_type": "execute_result",
          "data": {
            "text/plain": [
              "<tf.Tensor: shape=(4, 5), dtype=float32, numpy=\n",
              "array([[0., 1., 0., 0., 0.],\n",
              "       [0., 0., 1., 0., 0.],\n",
              "       [0., 0., 0., 1., 0.],\n",
              "       [0., 0., 0., 0., 1.]], dtype=float32)>"
            ]
          },
          "metadata": {},
          "execution_count": 85
        }
      ]
    },
    {
      "cell_type": "code",
      "source": [
        "#custom values using On_value and off_values\n",
        "tf.one_hot(a_list,depth,on_value=\"Y\",off_value=\"N\")"
      ],
      "metadata": {
        "colab": {
          "base_uri": "https://localhost:8080/"
        },
        "id": "4fHj1zLFgp_H",
        "outputId": "ba797941-567a-4fb5-b4a6-f48743d23b35"
      },
      "execution_count": null,
      "outputs": [
        {
          "output_type": "execute_result",
          "data": {
            "text/plain": [
              "<tf.Tensor: shape=(4, 5), dtype=string, numpy=\n",
              "array([[b'N', b'Y', b'N', b'N', b'N'],\n",
              "       [b'N', b'N', b'Y', b'N', b'N'],\n",
              "       [b'N', b'N', b'N', b'Y', b'N'],\n",
              "       [b'N', b'N', b'N', b'N', b'Y']], dtype=object)>"
            ]
          },
          "metadata": {},
          "execution_count": 86
        }
      ]
    },
    {
      "cell_type": "code",
      "source": [],
      "metadata": {
        "id": "cvAwgFS1hY1-"
      },
      "execution_count": null,
      "outputs": []
    },
    {
      "cell_type": "markdown",
      "source": [
        "**Math operation**\n",
        "* squaring\n",
        "* log\n",
        "* square root"
      ],
      "metadata": {
        "id": "ltg9gMfPiIpc"
      }
    },
    {
      "cell_type": "code",
      "source": [
        "S = tf.range(1,10)\n",
        "S"
      ],
      "metadata": {
        "id": "EkxTVvktiNVq",
        "colab": {
          "base_uri": "https://localhost:8080/"
        },
        "outputId": "b929e335-b667-4182-be97-8b381e8ea42d"
      },
      "execution_count": null,
      "outputs": [
        {
          "output_type": "execute_result",
          "data": {
            "text/plain": [
              "<tf.Tensor: shape=(9,), dtype=int32, numpy=array([1, 2, 3, 4, 5, 6, 7, 8, 9], dtype=int32)>"
            ]
          },
          "metadata": {},
          "execution_count": 88
        }
      ]
    },
    {
      "cell_type": "code",
      "source": [
        "tf.square(S)"
      ],
      "metadata": {
        "colab": {
          "base_uri": "https://localhost:8080/"
        },
        "id": "3Eb39wv4PwqE",
        "outputId": "80095b67-0181-48a4-a85e-20be0bce1b72"
      },
      "execution_count": null,
      "outputs": [
        {
          "output_type": "execute_result",
          "data": {
            "text/plain": [
              "<tf.Tensor: shape=(9,), dtype=int32, numpy=array([ 1,  4,  9, 16, 25, 36, 49, 64, 81], dtype=int32)>"
            ]
          },
          "metadata": {},
          "execution_count": 89
        }
      ]
    },
    {
      "cell_type": "code",
      "source": [
        "St=tf.cast(S,dtype=tf.float32) #(requires non-int values)\n",
        "tf.sqrt(St)"
      ],
      "metadata": {
        "colab": {
          "base_uri": "https://localhost:8080/"
        },
        "id": "91iVkrhaPz1H",
        "outputId": "d16e3432-f2ac-463a-a0b1-a2fc871fe0b7"
      },
      "execution_count": null,
      "outputs": [
        {
          "output_type": "execute_result",
          "data": {
            "text/plain": [
              "<tf.Tensor: shape=(9,), dtype=float32, numpy=\n",
              "array([1.       , 1.4142135, 1.7320508, 2.       , 2.2360678, 2.4494896,\n",
              "       2.6457512, 2.828427 , 3.       ], dtype=float32)>"
            ]
          },
          "metadata": {},
          "execution_count": 99
        }
      ]
    },
    {
      "cell_type": "code",
      "source": [
        "#to find the log (finds the natural logarithms base(e) of the elements in the tensor)\n",
        "tf.math.log(St)"
      ],
      "metadata": {
        "colab": {
          "base_uri": "https://localhost:8080/"
        },
        "id": "71XW6xvJP8t9",
        "outputId": "ec5c825e-f0d9-44d0-f454-e6cf30aca3ab"
      },
      "execution_count": null,
      "outputs": [
        {
          "output_type": "execute_result",
          "data": {
            "text/plain": [
              "<tf.Tensor: shape=(9,), dtype=float32, numpy=\n",
              "array([0.       , 0.6931472, 1.0986123, 1.3862944, 1.609438 , 1.7917595,\n",
              "       1.9459102, 2.0794415, 2.1972246], dtype=float32)>"
            ]
          },
          "metadata": {},
          "execution_count": 103
        }
      ]
    },
    {
      "cell_type": "code",
      "source": [
        "sig = tf.range(5,10) #sigmoid function\n",
        "sig = tf.cast(sig,dtype=tf.float32)\n",
        "tf.sigmoid(sig)"
      ],
      "metadata": {
        "colab": {
          "base_uri": "https://localhost:8080/"
        },
        "id": "5Oa0sZcoQ2WJ",
        "outputId": "883e97c6-fabe-453e-8d81-84c94a37a38a"
      },
      "execution_count": null,
      "outputs": [
        {
          "output_type": "execute_result",
          "data": {
            "text/plain": [
              "<tf.Tensor: shape=(5,), dtype=float32, numpy=\n",
              "array([0.9933072 , 0.9975274 , 0.999089  , 0.99966466, 0.9998766 ],\n",
              "      dtype=float32)>"
            ]
          },
          "metadata": {},
          "execution_count": 109
        }
      ]
    },
    {
      "cell_type": "markdown",
      "source": [
        "For more methods follow : https://www.tensorflow.org/api_docs/python/tf/math/logical_and"
      ],
      "metadata": {
        "id": "63SwGdkfTQR7"
      }
    },
    {
      "cell_type": "code",
      "source": [],
      "metadata": {
        "id": "jT7sJMkqTTRV"
      },
      "execution_count": null,
      "outputs": []
    }
  ]
}